{
  "nbformat": 4,
  "nbformat_minor": 0,
  "metadata": {
    "colab": {
      "provenance": [],
      "authorship_tag": "ABX9TyNrVYreWQJDg+PEM8ottZxS",
      "include_colab_link": true
    },
    "kernelspec": {
      "name": "python3",
      "display_name": "Python 3"
    },
    "language_info": {
      "name": "python"
    }
  },
  "cells": [
    {
      "cell_type": "markdown",
      "metadata": {
        "id": "view-in-github",
        "colab_type": "text"
      },
      "source": [
        "<a href=\"https://colab.research.google.com/github/chae-eun-22/pythonStudy25/blob/master/BaseNumberType.ipynb\" target=\"_parent\"><img src=\"https://colab.research.google.com/assets/colab-badge.svg\" alt=\"Open In Colab\"/></a>"
      ]
    },
    {
      "cell_type": "code",
      "execution_count": 4,
      "metadata": {
        "colab": {
          "base_uri": "https://localhost:8080/"
        },
        "id": "XkemOVAl6zQc",
        "outputId": "d2505cfa-d329-462e-83a6-b25c73cf8b4b"
      },
      "outputs": [
        {
          "output_type": "stream",
          "name": "stdout",
          "text": [
            "123\n",
            "-123\n",
            "0\n"
          ]
        }
      ],
      "source": [
        "# 주석은 실행이 되지 않는 문구를 말한다.\n",
        "# 주석은 코드에 설명을 작성하는 부분으로 많이 사용한다.\n",
        "\n",
        "# 숫자 자료형 (Number타입) : 숫자 형태로 이루어진 자료형\n",
        "# 123 정수형\n",
        "# 12.34 실수형\n",
        "# 8진수, 16진수 등도 포함된다.\n",
        "\n",
        "# 정수형 (integer) 양의정수, 음의정수, 0 등을 표현\n",
        "a = 123         # 자바인경우 : int a = 123 ;\n",
        "b = -123\n",
        "c = 0\n",
        "\n",
        "print(a)\n",
        "print(b)\n",
        "print(c)"
      ]
    },
    {
      "cell_type": "code",
      "source": [
        "# 실수형(floating-point) : 소수점이 포함된 숫자\n",
        "\n",
        "d = 1.2\n",
        "e = -3.45\n",
        "\n",
        "print(d)\n",
        "print(e)"
      ],
      "metadata": {
        "colab": {
          "base_uri": "https://localhost:8080/"
        },
        "id": "q1gNscvQ9IuM",
        "outputId": "8e492636-7234-4552-8c6b-d055a3fe722a"
      },
      "execution_count": 5,
      "outputs": [
        {
          "output_type": "stream",
          "name": "stdout",
          "text": [
            "1.2\n",
            "-3.45\n"
          ]
        }
      ]
    },
    {
      "cell_type": "code",
      "source": [
        "# 지수표현 방법\n",
        "\n",
        "f = 1.23E3    # 1.23*10^3\n",
        "g = 1.23e-3   # 1.23*10^-3\n",
        "\n",
        "print(f)\n",
        "print(g)"
      ],
      "metadata": {
        "colab": {
          "base_uri": "https://localhost:8080/"
        },
        "id": "Eqz53VWD9Y1T",
        "outputId": "cace9d0f-e2cb-4247-c3c7-192834f66797"
      },
      "execution_count": 9,
      "outputs": [
        {
          "output_type": "stream",
          "name": "stdout",
          "text": [
            "1230.0\n",
            "0.00123\n"
          ]
        }
      ]
    },
    {
      "cell_type": "code",
      "source": [
        "# 8진수 -> 0~7까지 8개로 구현되는 숫자\n",
        "# 16진수 -> 0~F까지 16개로 구현되는 숫자\n",
        "\n",
        "h = 0o77    # 8진수 77\n",
        "print(h)    # 10진수 변환 출력 63\n",
        "\n",
        "i = 0xaa    # 16진수 aa\n",
        "print(i)    # 10진수 변환 출력 170"
      ],
      "metadata": {
        "colab": {
          "base_uri": "https://localhost:8080/"
        },
        "id": "Rk-mb7Vu-Zed",
        "outputId": "ae349d14-a741-47b8-be89-e60c9e163a21"
      },
      "execution_count": 12,
      "outputs": [
        {
          "output_type": "stream",
          "name": "stdout",
          "text": [
            "63\n",
            "170\n"
          ]
        }
      ]
    },
    {
      "cell_type": "code",
      "source": [
        "# 사칙연산(+, -, *, /) -> 오칙연산(+, -, *, /, %:나머지)\n",
        "\n",
        "a = 3\n",
        "b = 4\n",
        "c = a + b\n",
        "print(c)"
      ],
      "metadata": {
        "colab": {
          "base_uri": "https://localhost:8080/"
        },
        "id": "k_xWmdhVAdeN",
        "outputId": "c2e61ddb-c3af-4d31-d7d5-02800b7951b7"
      },
      "execution_count": 20,
      "outputs": [
        {
          "output_type": "stream",
          "name": "stdout",
          "text": [
            "7\n"
          ]
        }
      ]
    },
    {
      "cell_type": "code",
      "source": [
        "d = a - b\n",
        "print(d)"
      ],
      "metadata": {
        "colab": {
          "base_uri": "https://localhost:8080/"
        },
        "id": "-C27gt2PGm43",
        "outputId": "6f050557-0f12-4483-b56f-6fa7c303d80f"
      },
      "execution_count": 21,
      "outputs": [
        {
          "output_type": "stream",
          "name": "stdout",
          "text": [
            "-1\n"
          ]
        }
      ]
    },
    {
      "cell_type": "code",
      "source": [
        "e = 7 % 3   # 나머지를 구하는 연산자\n",
        "print(e)"
      ],
      "metadata": {
        "colab": {
          "base_uri": "https://localhost:8080/"
        },
        "id": "lR8GpzxEGzje",
        "outputId": "9b6a070f-58fc-4025-ad14-8e75d58bdcb3"
      },
      "execution_count": 22,
      "outputs": [
        {
          "output_type": "stream",
          "name": "stdout",
          "text": [
            "1\n"
          ]
        }
      ]
    },
    {
      "cell_type": "code",
      "source": [
        "f = 7 / 3   # 나누기를 하는 연산자\n",
        "print(f)"
      ],
      "metadata": {
        "colab": {
          "base_uri": "https://localhost:8080/"
        },
        "id": "Gtqf0R5aGrC9",
        "outputId": "e08fd959-5dee-4c7f-be1b-6ee9f0ed0cc9"
      },
      "execution_count": 23,
      "outputs": [
        {
          "output_type": "stream",
          "name": "stdout",
          "text": [
            "2.3333333333333335\n"
          ]
        }
      ]
    },
    {
      "cell_type": "code",
      "source": [
        "g = 7 // 3    # 나눈 몫을 구하는 연산자\n",
        "print(g)"
      ],
      "metadata": {
        "colab": {
          "base_uri": "https://localhost:8080/"
        },
        "id": "lRbPDSdmG7Q-",
        "outputId": "e248fdc2-45ad-4786-c4ad-842a385c0b3f"
      },
      "execution_count": 24,
      "outputs": [
        {
          "output_type": "stream",
          "name": "stdout",
          "text": [
            "2\n"
          ]
        }
      ]
    },
    {
      "cell_type": "code",
      "source": [
        "a = 3\n",
        "b = 4\n",
        "a ** b    # a 제곱"
      ],
      "metadata": {
        "colab": {
          "base_uri": "https://localhost:8080/"
        },
        "id": "rW7DCCVrHG6G",
        "outputId": "556551be-83eb-4c67-e8f5-bafc7563eee5"
      },
      "execution_count": 25,
      "outputs": [
        {
          "output_type": "execute_result",
          "data": {
            "text/plain": [
              "81"
            ]
          },
          "metadata": {},
          "execution_count": 25
        }
      ]
    },
    {
      "cell_type": "code",
      "source": [
        "# 복합연산자\n",
        "a = 1\n",
        "a = a + 1   # a = 1 + 1\n",
        "print(a)"
      ],
      "metadata": {
        "colab": {
          "base_uri": "https://localhost:8080/"
        },
        "id": "5L0TaF_tHf4d",
        "outputId": "bcaad25f-f8ad-481d-cdfd-996c7836b417"
      },
      "execution_count": 26,
      "outputs": [
        {
          "output_type": "stream",
          "name": "stdout",
          "text": [
            "2\n"
          ]
        }
      ]
    },
    {
      "cell_type": "code",
      "source": [
        "a += 1    # a = a + 1\n",
        "print(a)\n",
        "\n",
        "# 유사 형태 -=, +=, /=, %="
      ],
      "metadata": {
        "colab": {
          "base_uri": "https://localhost:8080/"
        },
        "id": "FqBDE8EoHq2V",
        "outputId": "7dbd3833-ac10-47eb-9218-873b0fcf249b"
      },
      "execution_count": 27,
      "outputs": [
        {
          "output_type": "stream",
          "name": "stdout",
          "text": [
            "3\n"
          ]
        }
      ]
    }
  ]
}