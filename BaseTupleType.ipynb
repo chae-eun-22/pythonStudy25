{
  "nbformat": 4,
  "nbformat_minor": 0,
  "metadata": {
    "colab": {
      "provenance": [],
      "authorship_tag": "ABX9TyOmCtFyZ6B1s9szxSTjt7pY",
      "include_colab_link": true
    },
    "kernelspec": {
      "name": "python3",
      "display_name": "Python 3"
    },
    "language_info": {
      "name": "python"
    }
  },
  "cells": [
    {
      "cell_type": "markdown",
      "metadata": {
        "id": "view-in-github",
        "colab_type": "text"
      },
      "source": [
        "<a href=\"https://colab.research.google.com/github/chae-eun-22/pythonStudy25/blob/master/BaseTupleType.ipynb\" target=\"_parent\"><img src=\"https://colab.research.google.com/assets/colab-badge.svg\" alt=\"Open In Colab\"/></a>"
      ]
    },
    {
      "cell_type": "code",
      "execution_count": null,
      "metadata": {
        "id": "6KN8AoCfiMv9"
      },
      "outputs": [],
      "source": [
        "# 튜플 자료형\n",
        "# 튜플(tuple)은 몇 가지 점을 제외하곤 리스트와 거의 비슷하다\n",
        "\n",
        "# 리스트와 다른 점\n",
        "# 리스트는 [], 튜플은 ()으로 둘러싼다.\n",
        "# 리스트는 요솟값의 생성, 삭제, 수정이 가능하지만, 튜플은 요솟값을 바꿀 수 없다."
      ]
    },
    {
      "cell_type": "code",
      "source": [
        "t1 = ()\n",
        "t2 = (1,)\n",
        "t3 = (1, 2, 3)\n",
        "t4 = 1, 2, 3\n",
        "t5 = ('a', 'b', ('ab', 'cd'))\n",
        "\n",
        "# 튜플에서는 리스트와 다른 2가지 차이점\n",
        "# t2 = (1,)처럼 단지 1개의 요소만을 가질 때는 요소 뒤에 쉼표(,)를 반드시 붙여야 한다\n",
        "# t4 = 1, 2, 3처럼 소괄호 (())를 생략해도 된다\n",
        "\n",
        "# 리스트의 요솟값은 변화가 가능하고 튜플의 요솟값은 변화가 불가능\n",
        "# 값이 변경되는 형태의 변수가 훨씬 많기 때문에 평균적으로 튜플보다 리스트를 더 많이 사용"
      ],
      "metadata": {
        "id": "rxYkLCnWiZZK"
      },
      "execution_count": null,
      "outputs": []
    },
    {
      "cell_type": "code",
      "source": [
        "# 튜플의 요솟값을 지우거나 변경할 수 있을까?\n",
        "# 튜플의 요솟값은 한 번 정하면 지우거나 변경할 수 없다.\n",
        "# 튜플의 요소를 리스트처럼 del 함수로 지우려고 하면 튜플은 요솟값을 지울 수 없다는 오류 메시지를 확인할 수 있다.\n",
        "# 튜플의 요솟값을 변경하려고 해도 오류가 발생하는 것을 확인할 수 있다."
      ],
      "metadata": {
        "id": "kmjVdQwLiaDp"
      },
      "execution_count": null,
      "outputs": []
    },
    {
      "cell_type": "code",
      "source": [
        "# 튜플 다루기\n",
        "# 튜플은 요솟값을 변화시킬 수 없다는 점만 제외하면 리스트와 완전히 동일하다\n",
        "\n",
        "# 인덱싱하기\n",
        "\n",
        "t1 = (1, 2, 'a', 'b')\n",
        "t1[0]"
      ],
      "metadata": {
        "colab": {
          "base_uri": "https://localhost:8080/"
        },
        "id": "nAtreKMOixMy",
        "outputId": "1e804e0e-a0c4-427e-bfb9-6520871a767a"
      },
      "execution_count": 2,
      "outputs": [
        {
          "output_type": "execute_result",
          "data": {
            "text/plain": [
              "1"
            ]
          },
          "metadata": {},
          "execution_count": 2
        }
      ]
    },
    {
      "cell_type": "code",
      "source": [
        "t1[3]\n",
        "\n",
        "# 문자여르 리스트와 마찬가지로 t1[0], t1[3]처럼 인덱싱이 가능"
      ],
      "metadata": {
        "colab": {
          "base_uri": "https://localhost:8080/",
          "height": 35
        },
        "id": "6hFo-Un6jJpR",
        "outputId": "80682127-a088-4f3d-e133-4537dae168f6"
      },
      "execution_count": 3,
      "outputs": [
        {
          "output_type": "execute_result",
          "data": {
            "text/plain": [
              "'b'"
            ],
            "application/vnd.google.colaboratory.intrinsic+json": {
              "type": "string"
            }
          },
          "metadata": {},
          "execution_count": 3
        }
      ]
    },
    {
      "cell_type": "code",
      "source": [
        "# 슬라이싱하기\n",
        "\n",
        "t1 = (1, 2, 'a', 'b')\n",
        "t1[1:]\n",
        "\n",
        "# t1[1]부터 튜플의 마지막 요소까지 슬라이싱"
      ],
      "metadata": {
        "colab": {
          "base_uri": "https://localhost:8080/"
        },
        "id": "KtCNn4b9jSES",
        "outputId": "0b670db4-da09-42d6-e363-31457777c3cf"
      },
      "execution_count": 4,
      "outputs": [
        {
          "output_type": "execute_result",
          "data": {
            "text/plain": [
              "(2, 'a', 'b')"
            ]
          },
          "metadata": {},
          "execution_count": 4
        }
      ]
    },
    {
      "cell_type": "code",
      "source": [
        "# 튜플 더하기\n",
        "\n",
        "t1 = (1, 2, 'a', 'b')\n",
        "t2 = (3, 4)\n",
        "t3 = t1 + t2\n",
        "t3\n",
        "\n",
        "# t1, t2 튜플의 요솟값이 바뀌는 것은 아니다.\n",
        "# 다만, t1, t2 튜플을 더하여 새로운 튜플 t3을 생성한 것"
      ],
      "metadata": {
        "colab": {
          "base_uri": "https://localhost:8080/"
        },
        "id": "QraOuqPQjbKx",
        "outputId": "5367cff7-60da-436e-ee93-98134d76a1cf"
      },
      "execution_count": 5,
      "outputs": [
        {
          "output_type": "execute_result",
          "data": {
            "text/plain": [
              "(1, 2, 'a', 'b', 3, 4)"
            ]
          },
          "metadata": {},
          "execution_count": 5
        }
      ]
    },
    {
      "cell_type": "code",
      "source": [
        "# 튜플 곱하기\n",
        "\n",
        "t2 = (3, 4)\n",
        "t3 = t2 * 3\n",
        "t3\n",
        "\n",
        "# 튜플의 곱하기(반복)"
      ],
      "metadata": {
        "colab": {
          "base_uri": "https://localhost:8080/"
        },
        "id": "ii6P-VJ5jy0C",
        "outputId": "1f3e49fa-a08c-4c32-df1f-fcd9a394f0a8"
      },
      "execution_count": 6,
      "outputs": [
        {
          "output_type": "execute_result",
          "data": {
            "text/plain": [
              "(3, 4, 3, 4, 3, 4)"
            ]
          },
          "metadata": {},
          "execution_count": 6
        }
      ]
    },
    {
      "cell_type": "code",
      "source": [
        "# 튜플 길이 구하기\n",
        "\n",
        "t1 = (1, 2, 'a', 'b')\n",
        "len(t1)\n",
        "\n",
        "# 튜플은 요솟값을 변경할 수 없기 때문에 sort, insert, remove, pop과 같은 내장 함수가 없다."
      ],
      "metadata": {
        "colab": {
          "base_uri": "https://localhost:8080/"
        },
        "id": "SCzTIJU_j7uq",
        "outputId": "d6488c86-6e77-402d-c0a4-d4a7f0998aa6"
      },
      "execution_count": 7,
      "outputs": [
        {
          "output_type": "execute_result",
          "data": {
            "text/plain": [
              "4"
            ]
          },
          "metadata": {},
          "execution_count": 7
        }
      ]
    },
    {
      "cell_type": "code",
      "source": [
        "# 응용하기\n",
        "\n",
        "t1 = (3, 5)\n",
        "t2 = (4, 7)\n",
        "t3 = (1, 2)\n",
        "t4 = (6,)\n",
        "t5 = t1 + t2 + t3 + t4\n",
        "t5"
      ],
      "metadata": {
        "colab": {
          "base_uri": "https://localhost:8080/"
        },
        "id": "eo0FCYMWkdNi",
        "outputId": "da29e0f1-0210-44ae-a653-95e9f483485a"
      },
      "execution_count": 13,
      "outputs": [
        {
          "output_type": "execute_result",
          "data": {
            "text/plain": [
              "(3, 5, 4, 7, 1, 2, 6)"
            ]
          },
          "metadata": {},
          "execution_count": 13
        }
      ]
    }
  ]
}