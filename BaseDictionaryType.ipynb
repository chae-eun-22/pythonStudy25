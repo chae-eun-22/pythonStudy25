{
  "nbformat": 4,
  "nbformat_minor": 0,
  "metadata": {
    "colab": {
      "provenance": [],
      "authorship_tag": "ABX9TyOV7NFd4jcT6nNpVdvmdGHg",
      "include_colab_link": true
    },
    "kernelspec": {
      "name": "python3",
      "display_name": "Python 3"
    },
    "language_info": {
      "name": "python"
    }
  },
  "cells": [
    {
      "cell_type": "markdown",
      "metadata": {
        "id": "view-in-github",
        "colab_type": "text"
      },
      "source": [
        "<a href=\"https://colab.research.google.com/github/chae-eun-22/pythonStudy25/blob/master/BaseDictionaryType.ipynb\" target=\"_parent\"><img src=\"https://colab.research.google.com/assets/colab-badge.svg\" alt=\"Open In Colab\"/></a>"
      ]
    },
    {
      "cell_type": "code",
      "execution_count": null,
      "metadata": {
        "id": "O7yLh8LFno8d"
      },
      "outputs": [],
      "source": [
        "# 딕셔너리란?\n",
        "# '사전'\n",
        "# Key와 Value를 한 쌍으로 가지는 자료형\n",
        "# 딕셔너리는 리스트나 튜플처럼 순차적으로(sequential) 해당 요솟값을 구하지 않고 Key를 통해 Value를 얻는 딕셔너리의 가장 큰 특징\n",
        "# baseball이라는 단어의 뜻을 찾기 위해 사전의 내용을 순차적으로 모두 검색하는 것이 아니라 baseball이라는 단어가 있는 곳만 펼쳐 보는 것"
      ]
    },
    {
      "cell_type": "code",
      "source": [
        "# 딕셔너리의 기본 모습\n",
        "\n",
        "{Key1: Value1, Key2: Value2, Key3: Value3, ...}\n",
        "\n",
        "# Key와 Value의 쌍 여러 개가 {}로 둘러싸여 있다.\n",
        "# 각각의 요소는 Key:Value 형태로 이루어져 있고 쉼표(,)로 구분"
      ],
      "metadata": {
        "colab": {
          "base_uri": "https://localhost:8080/",
          "height": 110
        },
        "collapsed": true,
        "id": "VbAYjdBmxgpu",
        "outputId": "9256a3d4-f2f9-4d76-e799-c6587ee0659c"
      },
      "execution_count": 3,
      "outputs": [
        {
          "output_type": "error",
          "ename": "SyntaxError",
          "evalue": "':' expected after dictionary key (<ipython-input-3-4ae7c250cd2a>, line 3)",
          "traceback": [
            "\u001b[0;36m  File \u001b[0;32m\"<ipython-input-3-4ae7c250cd2a>\"\u001b[0;36m, line \u001b[0;32m3\u001b[0m\n\u001b[0;31m    {Key1: Value1, Key2: Value2, Key3: Value3, ...}\u001b[0m\n\u001b[0m                                                 ^\u001b[0m\n\u001b[0;31mSyntaxError\u001b[0m\u001b[0;31m:\u001b[0m ':' expected after dictionary key\n"
          ]
        }
      ]
    },
    {
      "cell_type": "code",
      "source": [
        "dic = {'name': 'pey', 'phone': '010-9999-1234', 'birth': '1118'}\n",
        "\n",
        "# Key는 각각 'name', 'phone', 'birth', 각각의 Key에 해당하는 Value는 'pey', '010-9999-1234', '1118'이 된다."
      ],
      "metadata": {
        "id": "d44Dxk6YxuPF"
      },
      "execution_count": 5,
      "outputs": []
    },
    {
      "cell_type": "code",
      "source": [
        "# 딕셔너리 쌍 추가하기\n",
        "\n",
        "a = {1: 'a'}\n",
        "a[2] = 'b'\n",
        "a\n",
        "\n",
        "# {1: 'a'} 딕셔너리에 a[2] = 'b'와 같이 입력하면 딕셔너리 a에 Key와 Value가 각각 2와 'b'인 {2: 'b'} 딕셔너리 쌍이 추가된다."
      ],
      "metadata": {
        "colab": {
          "base_uri": "https://localhost:8080/"
        },
        "id": "z1etYhklzf5t",
        "outputId": "a86649bd-9cc7-46a2-d4ee-41ed14adae65"
      },
      "execution_count": 10,
      "outputs": [
        {
          "output_type": "execute_result",
          "data": {
            "text/plain": [
              "{1: 'a', 2: 'b'}"
            ]
          },
          "metadata": {},
          "execution_count": 10
        }
      ]
    },
    {
      "cell_type": "code",
      "source": [
        "a['name'] = 'pey'\n",
        "a\n",
        "\n",
        "# 딕셔너리 a에 {'name': 'pey'} 쌍이 추가되었다."
      ],
      "metadata": {
        "colab": {
          "base_uri": "https://localhost:8080/"
        },
        "id": "d07LqbYSzy4V",
        "outputId": "1a5d60fa-777f-485d-bb81-71152e3649b9"
      },
      "execution_count": 11,
      "outputs": [
        {
          "output_type": "execute_result",
          "data": {
            "text/plain": [
              "{1: 'a', 2: 'b', 'name': 'pey'}"
            ]
          },
          "metadata": {},
          "execution_count": 11
        }
      ]
    },
    {
      "cell_type": "code",
      "source": [
        "a[3] = [1, 2, 3]\n",
        "a\n",
        "\n",
        "# Key는 3, Value는 [1, 2, 3]을 가지는 한 쌍이 또 추가되었다."
      ],
      "metadata": {
        "colab": {
          "base_uri": "https://localhost:8080/"
        },
        "id": "_fIqXKEl0WYe",
        "outputId": "760501c2-a05f-443b-8aa7-5877fb30803c"
      },
      "execution_count": 12,
      "outputs": [
        {
          "output_type": "execute_result",
          "data": {
            "text/plain": [
              "{1: 'a', 2: 'b', 'name': 'pey', 3: [1, 2, 3]}"
            ]
          },
          "metadata": {},
          "execution_count": 12
        }
      ]
    },
    {
      "cell_type": "code",
      "source": [
        "# 딕셔너리 요소 삭제하기\n",
        "\n",
        "del a[1]\n",
        "a\n",
        "\n",
        "# 딕셔너리 요소를 지우는 방법\n",
        "# del 함수를 사용해서 del a[key]를 입력하면 지정한 Key에 해당하는 {Key:Value} 쌍이 삭제"
      ],
      "metadata": {
        "colab": {
          "base_uri": "https://localhost:8080/"
        },
        "id": "v-X1uzAn1Al-",
        "outputId": "5f76daa1-289f-4ef9-bbdf-f5dc9f21515e"
      },
      "execution_count": 13,
      "outputs": [
        {
          "output_type": "execute_result",
          "data": {
            "text/plain": [
              "{2: 'b', 'name': 'pey', 3: [1, 2, 3]}"
            ]
          },
          "metadata": {},
          "execution_count": 13
        }
      ]
    },
    {
      "cell_type": "code",
      "source": [
        "# 딕셔너리 사용하는 방법\n",
        "\n",
        "{\"김연아\": \"피겨스케이팅\", \"류현진\": \"야구\", \"손흥민\": \"축구\", \"귀도\": \"파이썬\"}"
      ],
      "metadata": {
        "colab": {
          "base_uri": "https://localhost:8080/"
        },
        "id": "-ugi72qe1V62",
        "outputId": "d7040efc-5e2c-448e-896b-079176f03290"
      },
      "execution_count": 14,
      "outputs": [
        {
          "output_type": "execute_result",
          "data": {
            "text/plain": [
              "{'김연아': '피겨스케이팅', '류현진': '야구', '손흥민': '축구', '귀도': '파이썬'}"
            ]
          },
          "metadata": {},
          "execution_count": 14
        }
      ]
    },
    {
      "cell_type": "code",
      "source": [
        "# 딕셔너리에서 Key를 사용해 Value 얻기\n",
        "\n",
        "grade = {'pey': 10, 'julliet': 99}\n",
        "grade['pey']"
      ],
      "metadata": {
        "colab": {
          "base_uri": "https://localhost:8080/"
        },
        "id": "dqAWJh6S2X53",
        "outputId": "9d1613e2-b4a8-40f1-eddc-0bf0de2b6f8b"
      },
      "execution_count": 15,
      "outputs": [
        {
          "output_type": "execute_result",
          "data": {
            "text/plain": [
              "10"
            ]
          },
          "metadata": {},
          "execution_count": 15
        }
      ]
    },
    {
      "cell_type": "code",
      "source": [
        "grade['julliet']\n",
        "\n",
        "# 'pey'라는 Key를 Value를 얻기 위해 grade['pey']를 사용한 것\n",
        "# 어떤 Key의 Value를 얻기 위해서는 '딕셔너리_변수_이름[Key]'를 사용해야 한다."
      ],
      "metadata": {
        "colab": {
          "base_uri": "https://localhost:8080/"
        },
        "id": "rQ7F9HRy2iWn",
        "outputId": "b006eaa1-8bf1-4e3b-be99-215800cfcd44"
      },
      "execution_count": 17,
      "outputs": [
        {
          "output_type": "execute_result",
          "data": {
            "text/plain": [
              "99"
            ]
          },
          "metadata": {},
          "execution_count": 17
        }
      ]
    },
    {
      "cell_type": "code",
      "source": [
        "a = {1:'a', 2:'b'}\n",
        "a[1]\n",
        "\n",
        "# a[1]은 'a' 값을 리턴한다.\n",
        "# 딕셔너리 변수에서 [] 안의 숫자 1은 두 번째 요소를 나타내는 것이 아니라 Key에 해당하는 1을 나타낸다.\n",
        "# 딕셔너리는 리스트나 튜플에 있는 인덱싱 방법을 적용할 수 없다.\n",
        "# a[1]은 딕셔너리 {1:'a', 2:'b'}에서 Key가 1인 것의 Value인 'a'를 리턴한다."
      ],
      "metadata": {
        "colab": {
          "base_uri": "https://localhost:8080/",
          "height": 35
        },
        "id": "XnI_tN3K3EI3",
        "outputId": "8955717f-0aaf-4e58-cf60-551bea6619b9"
      },
      "execution_count": 18,
      "outputs": [
        {
          "output_type": "execute_result",
          "data": {
            "text/plain": [
              "'a'"
            ],
            "application/vnd.google.colaboratory.intrinsic+json": {
              "type": "string"
            }
          },
          "metadata": {},
          "execution_count": 18
        }
      ]
    },
    {
      "cell_type": "code",
      "source": [
        "a[2]"
      ],
      "metadata": {
        "colab": {
          "base_uri": "https://localhost:8080/",
          "height": 35
        },
        "id": "ZHiGAirc3lBn",
        "outputId": "0e284d0b-f0a0-4d7a-99f5-c263fe1d019b"
      },
      "execution_count": 19,
      "outputs": [
        {
          "output_type": "execute_result",
          "data": {
            "text/plain": [
              "'b'"
            ],
            "application/vnd.google.colaboratory.intrinsic+json": {
              "type": "string"
            }
          },
          "metadata": {},
          "execution_count": 19
        }
      ]
    },
    {
      "cell_type": "code",
      "source": [
        "a = {'a': 1, 'b': 2}\n",
        "a['a']"
      ],
      "metadata": {
        "colab": {
          "base_uri": "https://localhost:8080/"
        },
        "id": "Teaxo-TJ3vZH",
        "outputId": "f2c836bc-c823-4f39-9615-65389d581edb"
      },
      "execution_count": 20,
      "outputs": [
        {
          "output_type": "execute_result",
          "data": {
            "text/plain": [
              "1"
            ]
          },
          "metadata": {},
          "execution_count": 20
        }
      ]
    },
    {
      "cell_type": "code",
      "source": [
        "a['b']\n",
        "\n",
        "# a['a'], a['b']처럼 Key를 사용해서 Value를 얻을 수 있다.\n",
        "# 딕셔너리 a는 a[Key]로 Key에 해당하는 Value를 얻는다."
      ],
      "metadata": {
        "colab": {
          "base_uri": "https://localhost:8080/"
        },
        "id": "ZtJy-s303z5n",
        "outputId": "6d3358a9-62e0-46d8-d3bb-55d558da0bff"
      },
      "execution_count": 21,
      "outputs": [
        {
          "output_type": "execute_result",
          "data": {
            "text/plain": [
              "2"
            ]
          },
          "metadata": {},
          "execution_count": 21
        }
      ]
    },
    {
      "cell_type": "code",
      "source": [
        "dic = {'name':'pey', 'phone':'010-9999-1234', 'birth': '1118'}\n",
        "dic['name']"
      ],
      "metadata": {
        "colab": {
          "base_uri": "https://localhost:8080/",
          "height": 35
        },
        "id": "5lSiHoMZ31DX",
        "outputId": "50707e9c-cc12-402a-a465-5fabf1169604"
      },
      "execution_count": 22,
      "outputs": [
        {
          "output_type": "execute_result",
          "data": {
            "text/plain": [
              "'pey'"
            ],
            "application/vnd.google.colaboratory.intrinsic+json": {
              "type": "string"
            }
          },
          "metadata": {},
          "execution_count": 22
        }
      ]
    },
    {
      "cell_type": "code",
      "source": [
        "dic['phone']"
      ],
      "metadata": {
        "colab": {
          "base_uri": "https://localhost:8080/",
          "height": 35
        },
        "id": "C9rXDbE84GZX",
        "outputId": "877b0628-7b60-461e-b175-a60a98fd2ad0"
      },
      "execution_count": 23,
      "outputs": [
        {
          "output_type": "execute_result",
          "data": {
            "text/plain": [
              "'010-9999-1234'"
            ],
            "application/vnd.google.colaboratory.intrinsic+json": {
              "type": "string"
            }
          },
          "metadata": {},
          "execution_count": 23
        }
      ]
    },
    {
      "cell_type": "code",
      "source": [
        "dic['birth']"
      ],
      "metadata": {
        "colab": {
          "base_uri": "https://localhost:8080/",
          "height": 35
        },
        "id": "VLQZ5g0v4IQ_",
        "outputId": "c346666f-d993-48d8-bee1-0d232f1d3319"
      },
      "execution_count": 24,
      "outputs": [
        {
          "output_type": "execute_result",
          "data": {
            "text/plain": [
              "'1118'"
            ],
            "application/vnd.google.colaboratory.intrinsic+json": {
              "type": "string"
            }
          },
          "metadata": {},
          "execution_count": 24
        }
      ]
    },
    {
      "cell_type": "code",
      "source": [
        "# 딕셔너리 만들 때 주의 사항\n",
        "\n",
        "# 동일한 Key가 2개 존재할 경우, 1:'a'쌍이 무시돤다.\n",
        "\n",
        "a = {1:'a', 1:'b'}\n",
        "a\n",
        "\n",
        "# Key가 중복되었을 때 1개를 제외한 나머지 Key:Value 값이 모두 무시되는 이유는 Key를 통해서 Value를 얻는 딕셔너리의 특징 때문\n",
        "# 딕셔너리에는 동일한 Key가 중복으로 존재할 수 없다."
      ],
      "metadata": {
        "colab": {
          "base_uri": "https://localhost:8080/"
        },
        "id": "l2mnICou4LUX",
        "outputId": "29c22415-8663-42cf-d970-3dd3372d1c0d"
      },
      "execution_count": 25,
      "outputs": [
        {
          "output_type": "execute_result",
          "data": {
            "text/plain": [
              "{1: 'b'}"
            ]
          },
          "metadata": {},
          "execution_count": 25
        }
      ]
    },
    {
      "cell_type": "code",
      "source": [
        "# Key 리스트 만들기 - keys\n",
        "\n",
        "a = {'name': 'pey', 'phone': '010-9999-1234', 'birth': '1118'}\n",
        "a.keys()\n",
        "\n",
        "# a.keys()는 딕셔너리 a의 Key만을 모아 dict_keys 객체를 리턴한다."
      ],
      "metadata": {
        "colab": {
          "base_uri": "https://localhost:8080/"
        },
        "id": "PKkuzI7Z4Skf",
        "outputId": "465eea88-f421-483f-b426-f4f5befdd7f6"
      },
      "execution_count": 27,
      "outputs": [
        {
          "output_type": "execute_result",
          "data": {
            "text/plain": [
              "dict_keys(['name', 'phone', 'birth'])"
            ]
          },
          "metadata": {},
          "execution_count": 27
        }
      ]
    },
    {
      "cell_type": "code",
      "source": [
        "for k in a.keys():\n",
        "  print(k)\n",
        "\n",
        "# print(k)를 입력할 때 들여쓰기를 하지 않으면 오류가 발생하므로 주의"
      ],
      "metadata": {
        "colab": {
          "base_uri": "https://localhost:8080/"
        },
        "id": "ISIsVz2F4ntP",
        "outputId": "fc212db4-bebe-4481-fc3e-95d4d48e25b1"
      },
      "execution_count": 39,
      "outputs": [
        {
          "output_type": "stream",
          "name": "stdout",
          "text": [
            "name\n",
            "phone\n",
            "birth\n"
          ]
        }
      ]
    },
    {
      "cell_type": "code",
      "source": [
        "list(a.keys())"
      ],
      "metadata": {
        "colab": {
          "base_uri": "https://localhost:8080/"
        },
        "id": "RRHHUTzF4v53",
        "outputId": "d0fd1e94-2e38-42e9-c70b-b0599b8f08cb"
      },
      "execution_count": 29,
      "outputs": [
        {
          "output_type": "execute_result",
          "data": {
            "text/plain": [
              "['name', 'phone', 'birth']"
            ]
          },
          "metadata": {},
          "execution_count": 29
        }
      ]
    },
    {
      "cell_type": "code",
      "source": [
        "# Value 리스트 만들기 - values\n",
        "\n",
        "a.values()\n",
        "\n",
        "# Key를 얻는 것과 마찬가지 방법으로 Value만 얻고 싶다면 values 함수를 사용하면 된다.\n",
        "# values 함수를 호출하면 dict_values 객체를 리턴한다."
      ],
      "metadata": {
        "colab": {
          "base_uri": "https://localhost:8080/"
        },
        "id": "zJEqIBZa407f",
        "outputId": "34fe0c3f-9a62-46d5-961f-6db1a76d9dba"
      },
      "execution_count": 30,
      "outputs": [
        {
          "output_type": "execute_result",
          "data": {
            "text/plain": [
              "dict_values(['pey', '010-9999-1234', '1118'])"
            ]
          },
          "metadata": {},
          "execution_count": 30
        }
      ]
    },
    {
      "cell_type": "code",
      "source": [
        "# Key, Value 쌍 얻기 - items\n",
        "\n",
        "a.items()\n",
        "\n",
        "# items 함수는 Key와 Value의 쌍을 튜플로 묶은 값을 dict_items 객체로 리턴한다."
      ],
      "metadata": {
        "colab": {
          "base_uri": "https://localhost:8080/"
        },
        "id": "og-UPe2u45BX",
        "outputId": "cc83b4e8-1f52-40ae-9b9b-d2bd9919e114"
      },
      "execution_count": 31,
      "outputs": [
        {
          "output_type": "execute_result",
          "data": {
            "text/plain": [
              "dict_items([('name', 'pey'), ('phone', '010-9999-1234'), ('birth', '1118')])"
            ]
          },
          "metadata": {},
          "execution_count": 31
        }
      ]
    },
    {
      "cell_type": "code",
      "source": [
        "# Key:Value 쌍 모두 지우기 - clear\n",
        "\n",
        "a.clear()\n",
        "a\n",
        "\n",
        "# clear 함수는 딕셔너리 안의 모든 요소를 삭제한다.\n",
        "# 빈 리스트를 [], 빈 튜플을 ()로 표현하는 것과 마찬가지로 빈 딕셔너리도 {}로 표현한다."
      ],
      "metadata": {
        "colab": {
          "base_uri": "https://localhost:8080/"
        },
        "id": "zjW57tH54_4X",
        "outputId": "114d88a7-de24-455e-a480-6df62f05e44c"
      },
      "execution_count": 32,
      "outputs": [
        {
          "output_type": "execute_result",
          "data": {
            "text/plain": [
              "{}"
            ]
          },
          "metadata": {},
          "execution_count": 32
        }
      ]
    },
    {
      "cell_type": "code",
      "source": [
        "# Key로 Value 얻기 - get\n",
        "\n",
        "a = {'name': 'pey', 'phone': '010-9999-1234', 'birth': '1118'}\n",
        "a.get('name')"
      ],
      "metadata": {
        "colab": {
          "base_uri": "https://localhost:8080/",
          "height": 35
        },
        "id": "mek9rM415JLo",
        "outputId": "2ac1f712-5303-417c-89d2-fb5520dd2f34"
      },
      "execution_count": 33,
      "outputs": [
        {
          "output_type": "execute_result",
          "data": {
            "text/plain": [
              "'pey'"
            ],
            "application/vnd.google.colaboratory.intrinsic+json": {
              "type": "string"
            }
          },
          "metadata": {},
          "execution_count": 33
        }
      ]
    },
    {
      "cell_type": "code",
      "source": [
        "a.get('phone')\n",
        "\n",
        "# get(x) 함수는 x라는 Key에 대응되는 Value를 리턴한다.\n",
        "# a.get('name')은 a['name']을 사용했을 때와 동일한 결괏값을 리턴한다."
      ],
      "metadata": {
        "colab": {
          "base_uri": "https://localhost:8080/",
          "height": 35
        },
        "id": "mJrqtED15YYP",
        "outputId": "9ae55f69-8de3-4048-f6b7-9a37841dba2c"
      },
      "execution_count": 34,
      "outputs": [
        {
          "output_type": "execute_result",
          "data": {
            "text/plain": [
              "'010-9999-1234'"
            ],
            "application/vnd.google.colaboratory.intrinsic+json": {
              "type": "string"
            }
          },
          "metadata": {},
          "execution_count": 34
        }
      ]
    },
    {
      "cell_type": "code",
      "source": [
        "a = {'name':'pey', 'phone':'010-9999-1234', 'birth': '1118'}\n",
        "print(a.get('nokey'))\n",
        "\n",
        "# 딕셔너리 안에 찾으려는 Key가 없을 경우\n",
        "# 미리 정해 둔 디폴트 값을 대신 가져오게 하고 싶을 때는 get(x,'디폴트 값')을 사용하면 편리하다."
      ],
      "metadata": {
        "colab": {
          "base_uri": "https://localhost:8080/"
        },
        "id": "6susYjcP5aYX",
        "outputId": "d835b7c9-9cb6-4081-ebcc-fc70a7cf5086"
      },
      "execution_count": 35,
      "outputs": [
        {
          "output_type": "stream",
          "name": "stdout",
          "text": [
            "None\n"
          ]
        }
      ]
    },
    {
      "cell_type": "code",
      "source": [
        "a.get('nokey', 'foo')\n",
        "\n",
        "# 딕셔너리 a에는 'nokey'에 해당하는 Key가 없다.\n",
        "# 디폴트 값인 'foo'를 리턴한다."
      ],
      "metadata": {
        "colab": {
          "base_uri": "https://localhost:8080/",
          "height": 35
        },
        "id": "zZDPN4IL59xY",
        "outputId": "b7ce671a-1d26-414a-e5e8-385a7259e4c7"
      },
      "execution_count": 36,
      "outputs": [
        {
          "output_type": "execute_result",
          "data": {
            "text/plain": [
              "'foo'"
            ],
            "application/vnd.google.colaboratory.intrinsic+json": {
              "type": "string"
            }
          },
          "metadata": {},
          "execution_count": 36
        }
      ]
    },
    {
      "cell_type": "code",
      "source": [
        "# 해당 Key가 딕셔너리 안에 있는지 조사하기 - in\n",
        "\n",
        "a = {'name':'pey', 'phone':'010-9999-1234', 'birth': '1118'}\n",
        "'name' in a\n",
        "\n",
        "# 'name'의 문자열은 a 딕셔너리의 Key 중 하나이다.\n",
        "# 'name' in a를 호출하면 참(True)을 리턴한다."
      ],
      "metadata": {
        "colab": {
          "base_uri": "https://localhost:8080/"
        },
        "id": "qH6mkvtK6A-Z",
        "outputId": "18b283a4-fd1f-46bd-9cba-45140b6e4839"
      },
      "execution_count": 37,
      "outputs": [
        {
          "output_type": "execute_result",
          "data": {
            "text/plain": [
              "True"
            ]
          },
          "metadata": {},
          "execution_count": 37
        }
      ]
    },
    {
      "cell_type": "code",
      "source": [
        "'email' in a\n",
        "\n",
        "# 'email'은 a 딕셔너리 안에 존재하지 않는 Key이므로 거짓(False)을 리턴한다."
      ],
      "metadata": {
        "colab": {
          "base_uri": "https://localhost:8080/"
        },
        "id": "iol6n3hC6WCA",
        "outputId": "2feffb41-76c2-4df8-aaeb-794f03d4a293"
      },
      "execution_count": 38,
      "outputs": [
        {
          "output_type": "execute_result",
          "data": {
            "text/plain": [
              "False"
            ]
          },
          "metadata": {},
          "execution_count": 38
        }
      ]
    }
  ]
}