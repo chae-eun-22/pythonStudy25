{
  "nbformat": 4,
  "nbformat_minor": 0,
  "metadata": {
    "colab": {
      "provenance": [],
      "authorship_tag": "ABX9TyMIn2lYGqoOWz++2uD1tZ+N",
      "include_colab_link": true
    },
    "kernelspec": {
      "name": "python3",
      "display_name": "Python 3"
    },
    "language_info": {
      "name": "python"
    }
  },
  "cells": [
    {
      "cell_type": "markdown",
      "metadata": {
        "id": "view-in-github",
        "colab_type": "text"
      },
      "source": [
        "<a href=\"https://colab.research.google.com/github/chae-eun-22/pythonStudy25/blob/master/ForExam.ipynb\" target=\"_parent\"><img src=\"https://colab.research.google.com/assets/colab-badge.svg\" alt=\"Open In Colab\"/></a>"
      ]
    },
    {
      "cell_type": "code",
      "execution_count": null,
      "metadata": {
        "colab": {
          "base_uri": "https://localhost:8080/"
        },
        "id": "kYbgU5PAE3nj",
        "outputId": "1c32f531-3d09-4b32-d0a0-988821d22f8c"
      },
      "outputs": [
        {
          "output_type": "stream",
          "name": "stdout",
          "text": [
            "one\n",
            "two\n",
            "three\n"
          ]
        }
      ],
      "source": [
        "# 반복문인 for 문은 문장 구조가 한눈에 들어온다는게 장점\n",
        "# for 문의 기본 구조\n",
        "\n",
        "#전형적인 for 문\n",
        "\n",
        "test_list = ['one', 'two', 'three']\n",
        "for i in test_list:\n",
        "    print(i)\n",
        "\n",
        "# ['one', 'two', 'three'] 리스트 첫 번째 요소인 'one'이 먼저 i 변수에 대입된 후 print(i) 문장을 수행\n",
        "# 두 번째 요소 'two'가 i 변수에 대입된 후 print(i) 문장을 수행하고 리스트 마지막 요소까지 이것을 반복"
      ]
    },
    {
      "cell_type": "code",
      "source": [
        "# 다양한 for 문의 사용\n",
        "\n",
        "a = [(1,2), (3,4), (5,6)]\n",
        "for (first, last) in a:\n",
        "    print(first + last)\n",
        "\n",
        "# a 리스트의 요솟값이 튜플이기 때문에 각각의 요소가 자동으로 (first, last) 변수에 대입된다."
      ],
      "metadata": {
        "colab": {
          "base_uri": "https://localhost:8080/"
        },
        "id": "5tT6j7PjFk-D",
        "outputId": "80458b37-6b56-4ff6-c5e3-2d696ba85981"
      },
      "execution_count": null,
      "outputs": [
        {
          "output_type": "stream",
          "name": "stdout",
          "text": [
            "3\n",
            "7\n",
            "11\n"
          ]
        }
      ]
    },
    {
      "cell_type": "code",
      "source": [
        "# for 문의 응용\n",
        "# 총 5명의 학생을 시험을 보았는데 시험 점수가 60점 이상이면 합격이고 그렇지 않으면 불합격이다.\n",
        "# 합격인지, 불합격인지 결과를 보여 주시오.\n",
        "\n",
        "marks = [90, 25, 67, 45, 80]\n",
        "\n",
        "# 1번 학생은 90점이고 5번 학생은 80점이다."
      ],
      "metadata": {
        "id": "rH3Yj-BVGCXD"
      },
      "execution_count": null,
      "outputs": []
    },
    {
      "cell_type": "code",
      "source": [
        "# marks1.py\n",
        "marks = [90, 25, 67, 45, 80]    # 학생들의 시험 점수 리스트\n",
        "\n",
        "number = 0      # 학생에게 붙여 줄 번호\n",
        "for mark in marks:      # 90, 25, 67, 45, 80을 순서대로 mark에 대입\n",
        "    number = number +1\n",
        "    if mark >= 60:\n",
        "        print(\"%d번 학생은 합격입니다.\" % number)\n",
        "    else:\n",
        "        print(\"%d번 학생은 불합격입니다.\" % number)\n",
        "\n",
        "# 각각의 학생에게 번호를 붙여 주기 위해 number 변수를 사용\n",
        "# 점수 리스트 marks에서 차례로 점수를 꺼내어 mark라는 변수에 대입하고 for 문 안의 문장들을 수행한다.\n",
        "# 먼저 for 문이 한 번씩 수행될 때마다 number는 1씩 증가"
      ],
      "metadata": {
        "colab": {
          "base_uri": "https://localhost:8080/"
        },
        "id": "vMI6WAOtGcdT",
        "outputId": "ee0b59b6-691e-4caa-9d33-d06442c95bc2"
      },
      "execution_count": null,
      "outputs": [
        {
          "output_type": "stream",
          "name": "stdout",
          "text": [
            "1번 학생은 합격입니다.\n",
            "2번 학생은 불합격입니다.\n",
            "3번 학생은 합격입니다.\n",
            "4번 학생은 불합격입니다.\n",
            "5번 학생은 합격입니다.\n"
          ]
        }
      ]
    },
    {
      "cell_type": "code",
      "source": [
        "# for 문과 continue 문\n",
        "# continue 문을 for 문에서도 사용할 수 있다.\n",
        "# for 문 안의 문장을 수행하는 도중 continue 문을 만나면 for 문의 처음으로 돌아가게 된다.\n",
        "\n",
        "# 60점 이상인 사람에게는 축하 메시지를 보내고 나머지 사람에게는 아무런 메시지도 전하지 않는 프로그램\n",
        "\n",
        "# marks2.py\n",
        "marks = [90, 25, 67, 45, 80]\n",
        "\n",
        "number = 0\n",
        "for mark in marks:\n",
        "    number = number +1\n",
        "    if mark < 60:\n",
        "        continue\n",
        "    print(\"%d번 학생 축하합니다. 합격입니다. \" % number)\n",
        "\n",
        "# 점수가 60점 이하인 학생인 경우에는 mark < 60 이 참이 되어 continue 문이 수행\n",
        "# 축하 메시지를 출력하는 부분인 print 문을 수행하지 않고 for 문의 처음으로 돌아가게 된다."
      ],
      "metadata": {
        "colab": {
          "base_uri": "https://localhost:8080/"
        },
        "id": "_QPVbrOGHQlE",
        "outputId": "7f9a90c0-2782-452e-9ffc-73a8d7407da4"
      },
      "execution_count": null,
      "outputs": [
        {
          "output_type": "stream",
          "name": "stdout",
          "text": [
            "1번 학생 축하합니다. 합격입니다. \n",
            "3번 학생 축하합니다. 합격입니다. \n",
            "5번 학생 축하합니다. 합격입니다. \n"
          ]
        }
      ]
    },
    {
      "cell_type": "code",
      "source": [
        "# for 문과 함께 자주 사용하는 range 함수\n",
        "# for 문은 숫자 리스트를 자동으로 만들어 주는 range 함수와 함께 사용하는 경우가 많다.\n",
        "\n",
        "a = range(10)\n",
        "a\n",
        "\n",
        "# range(10)은 0부터 10미만의 숫자를 포함하는 range 객체를 만들어 준다.\n",
        "# 시작 숫자와 끝 숫자를 지정하려면 range(시작_숫자, 끝_숫자) 형태를 사용하는데, 이때 끝 숫자는 포함되지 않는다."
      ],
      "metadata": {
        "colab": {
          "base_uri": "https://localhost:8080/"
        },
        "id": "Oe3YhoZGIVok",
        "outputId": "a1057825-a4cd-4810-b1ba-3f72b993c7d3"
      },
      "execution_count": null,
      "outputs": [
        {
          "output_type": "execute_result",
          "data": {
            "text/plain": [
              "range(0, 10)"
            ]
          },
          "metadata": {},
          "execution_count": 10
        }
      ]
    },
    {
      "cell_type": "code",
      "source": [
        "a = range(1, 11)\n",
        "a"
      ],
      "metadata": {
        "colab": {
          "base_uri": "https://localhost:8080/"
        },
        "id": "JBwS7DUgIc4D",
        "outputId": "c4d3c80f-5b2b-482e-943f-c08ccf30145a"
      },
      "execution_count": null,
      "outputs": [
        {
          "output_type": "execute_result",
          "data": {
            "text/plain": [
              "range(1, 11)"
            ]
          },
          "metadata": {},
          "execution_count": 11
        }
      ]
    },
    {
      "cell_type": "code",
      "source": [
        "# range 함수의 예시 살펴보기\n",
        "# for와 range 함수를 사용하면 1부터 10까지 더하는 것을 다음과 같이 쉽게 구현\n",
        "\n",
        "add = 0\n",
        "for i in range(1, 11):\n",
        "    add = add + i\n",
        "print(add)\n",
        "\n",
        "# range(1, 11)은 숫자 1부터 10까지(1이상 11미만)의 숫자를 데이터로 가지는 객체\n",
        "# i 변수에 숫자가 1부터 10까지 하나씩 차례로 대입되면서 add = add + i 문장을 반복적으로 수행하고 add는 최종적으로 55가 된다."
      ],
      "metadata": {
        "colab": {
          "base_uri": "https://localhost:8080/"
        },
        "id": "yqEyKrB8IwHD",
        "outputId": "6794a7e1-8062-4d7f-8049-883c530b175c"
      },
      "execution_count": null,
      "outputs": [
        {
          "output_type": "stream",
          "name": "stdout",
          "text": [
            "55\n"
          ]
        }
      ]
    },
    {
      "cell_type": "code",
      "source": [
        "# 합격 축하 문장을 출력할 때 range 함수를 사용해서 다음과 같이 바꿀 수 있다.\n",
        "\n",
        "# marks3.py\n",
        "marks = [90, 25, 67, 45, 80]\n",
        "for number in range(len(marks)):\n",
        "    if marks[number] < 60:\n",
        "        continue\n",
        "    print(\"%d번 학생 축하합니다. 합격입니다.\" % (number+1))\n",
        "\n",
        "# len는 리스트 안의 요소 개수를 리턴하는 함수\n",
        "# len(marks)는 5, range(len(marks))는 range(5)가 될 것이다.\n",
        "# number 변수에는 차례로 0부터 4까지의 숫자가 대입되고 marks[number]는 차례대로 90, 25, 67, 45, 80 값을 가지게 된다."
      ],
      "metadata": {
        "colab": {
          "base_uri": "https://localhost:8080/"
        },
        "id": "x0DWsqH9Ji_8",
        "outputId": "7d050892-e461-4ec5-cb22-53a9b35a6586"
      },
      "execution_count": null,
      "outputs": [
        {
          "output_type": "stream",
          "name": "stdout",
          "text": [
            "1번 학생 축하합니다. 합격입니다.\n",
            "3번 학생 축하합니다. 합격입니다.\n",
            "5번 학생 축하합니다. 합격입니다.\n"
          ]
        }
      ]
    },
    {
      "cell_type": "code",
      "source": [
        "# for와 range를 이용한 구구단\n",
        "# for와 range 함수를 사용하면 소스 코드 단 4줄만으로 구구단을 출력할 수 있다.\n",
        "\n",
        "for i in range(2,10):       # 1번 for문\n",
        "    for j in range(1, 10):  # 2번 for문\n",
        "        print(i*j, end=\" \")\n",
        "    print('')\n",
        "\n",
        "# for문을 두 번 사용\n",
        "# 1번 for문에서 2부터 9까지의 숫자(range(2, 10))가 차례대로 i에 대입된다.\n",
        "# i가 처음 2일 때 2번 for 문을 만나게 된다.\n",
        "# 2번 for문에서 1부터 9까지의 숫자(range(1, 10))가 j에 대입되고 다음 문장인 print(i*j, end=\" \")를 수행한다.\n",
        "# 따라서 i가 2일 때 2 * 1, 2 * 2, 2 * 3, ... 2 * 9까지 찰대로 수행되며 그 값을 출력하게 된다.\n",
        "# i가 3일 때 역시 2일 때와 마찬가지로 수행될 것이고 i가 9일 때까지 계속 반복된다."
      ],
      "metadata": {
        "colab": {
          "base_uri": "https://localhost:8080/"
        },
        "id": "6r8JqsfBKhQc",
        "outputId": "98d27aeb-5a82-4978-866a-5722fa0734a5"
      },
      "execution_count": null,
      "outputs": [
        {
          "output_type": "stream",
          "name": "stdout",
          "text": [
            "2 4 6 8 10 12 14 16 18 \n",
            "3 6 9 12 15 18 21 24 27 \n",
            "4 8 12 16 20 24 28 32 36 \n",
            "5 10 15 20 25 30 35 40 45 \n",
            "6 12 18 24 30 36 42 48 54 \n",
            "7 14 21 28 35 42 49 56 63 \n",
            "8 16 24 32 40 48 56 64 72 \n",
            "9 18 27 36 45 54 63 72 81 \n"
          ]
        }
      ]
    },
    {
      "cell_type": "code",
      "source": [
        "# 리스트 컴프리헨션 사용하기\n",
        "# 리스트 안에 for 문을 포함하는 리스트 컴프리헨션(list comprehension)을 사용하면 좀 더 편리하고 직관적인 프로그램을 만들 수 있다.\n",
        "\n",
        "a = [1,2,3,4]\n",
        "result = []\n",
        "for num in a:\n",
        "    result.append(num*3)\n",
        "\n",
        "print(result)\n",
        "\n",
        "# a 리스트의 각 항목에 3을 곱한 결과를 result 리스트에 담았다."
      ],
      "metadata": {
        "colab": {
          "base_uri": "https://localhost:8080/"
        },
        "id": "1RBFwKmeLtBM",
        "outputId": "e1a815a4-6859-4bb9-9b08-92a23e91b683"
      },
      "execution_count": null,
      "outputs": [
        {
          "output_type": "stream",
          "name": "stdout",
          "text": [
            "[3, 6, 9, 12]\n"
          ]
        }
      ]
    },
    {
      "cell_type": "code",
      "source": [
        "a = [1,2,3,4]\n",
        "result = [num * 3 for num in a]\n",
        "print(result)\n",
        "\n",
        "# [1,2,3,4] 중에서 짝수에만 3을 곱하여 담고 싶다면 리스트 컴프리헨션 안에 'if 조건문'을 사용하면 된다."
      ],
      "metadata": {
        "colab": {
          "base_uri": "https://localhost:8080/"
        },
        "id": "MLzzFVwtMEPk",
        "outputId": "932a56d4-e926-41e7-bac6-6f680530800e"
      },
      "execution_count": null,
      "outputs": [
        {
          "output_type": "stream",
          "name": "stdout",
          "text": [
            "[3, 6, 9, 12]\n"
          ]
        }
      ]
    },
    {
      "cell_type": "code",
      "source": [
        "a = [1,2,3,4]\n",
        "result = [num * 3 for num in a if num % 2 == 0]\n",
        "print(result)"
      ],
      "metadata": {
        "colab": {
          "base_uri": "https://localhost:8080/"
        },
        "id": "GTho8qNRNVee",
        "outputId": "2e3daa2c-e65d-4545-e567-3377158a2979"
      },
      "execution_count": null,
      "outputs": [
        {
          "output_type": "stream",
          "name": "stdout",
          "text": [
            "[6, 12]\n"
          ]
        }
      ]
    },
    {
      "cell_type": "code",
      "source": [
        "# 구구단의 모든 결과를 리스트에 담고 싶다면 리스트 컴프리헨션을 사용하여 다음과 같이 간단하게 구현할 수도 있다.\n",
        "\n",
        "result = [x*y for x in range(2,10)\n",
        "              for y in range(1,10)]\n",
        "print(result)\n",
        "\n",
        "# 실제로 for 문으로 작성한 코드를 while 문으로 바꿀 수 있는 경우도 많고 while 문을 for 문으로 바꾸어서 사용할 수 있는 경우도 많다."
      ],
      "metadata": {
        "colab": {
          "base_uri": "https://localhost:8080/"
        },
        "id": "Y2oE26CDN-3N",
        "outputId": "af6a1f12-ae4a-45c1-c204-6659aab6d8ab"
      },
      "execution_count": null,
      "outputs": [
        {
          "output_type": "stream",
          "name": "stdout",
          "text": [
            "[2, 4, 6, 8, 10, 12, 14, 16, 18, 3, 6, 9, 12, 15, 18, 21, 24, 27, 4, 8, 12, 16, 20, 24, 28, 32, 36, 5, 10, 15, 20, 25, 30, 35, 40, 45, 6, 12, 18, 24, 30, 36, 42, 48, 54, 7, 14, 21, 28, 35, 42, 49, 56, 63, 8, 16, 24, 32, 40, 48, 56, 64, 72, 9, 18, 27, 36, 45, 54, 63, 72, 81]\n"
          ]
        }
      ]
    },
    {
      "cell_type": "code",
      "source": [
        "# for문 성적처리\n",
        "\n",
        "# 여러명의 데이터를 리스트로 입력 받아 처리\n",
        "# 성적에 대한 CRUD\n",
        "# 학생에 대한 CRUD\n",
        "# 통계에 대한 CRUD 등을 작성\n",
        "\n",
        "print(\"=\"*50)\n",
        "names = [\"c\", \"m\", \"d\", \"a\", \"e\", \"b\", \"f\"]\n",
        "marks = [45, 63, 25, 89, 74, 95, 57]    # 학생들의 시험 점수 리스트\n",
        "\n",
        "for name in names :\n",
        "    name = input(\"이름을 입력하세요.\")\n",
        "    print(\"%s님의 성적을 확인합니다.\" % name)\n",
        "    print(\"=\"*50)\n",
        "    print(\"%s님의 영어 성적은 %s점입니다.\" % (name, marks))\n",
        "    print(\"성적을 확인했습니다.\")\n",
        "    print(\"=\"*50)\n",
        "    print(\"합격 여부를 확인하시겠습니까?\")\n",
        "    pas = input(\"예:y, \\t 아니요:n : \")\n",
        "    if pas == \"y\":\n",
        "        print(\"=\"*50)\n",
        "        mark = 0\n",
        "        for mark in marks:\n",
        "            number = number +1\n",
        "            if mark >= 60:\n",
        "                continue\n",
        "                print(\"%s님은 합격입니다.\" % name)\n",
        "            else:\n",
        "                print(\"%s님은 불합격입니다.\" % name)\n",
        "        print(\"=\"*50)\n",
        "    print(\"프로그램을 종료합니다.\")\n",
        "    print(\"=\"*50)\n",
        "\n",
        "#f = open(\"성적표.txt\", 'w')\n",
        "#for  in f:\n",
        "    #print()\n",
        "#f.close()"
      ],
      "metadata": {
        "colab": {
          "base_uri": "https://localhost:8080/",
          "height": 410
        },
        "id": "nVF_Wwubcy4Z",
        "outputId": "5d054f32-12db-448e-a1e7-fdc480f924e3"
      },
      "execution_count": 52,
      "outputs": [
        {
          "output_type": "stream",
          "name": "stdout",
          "text": [
            "==================================================\n"
          ]
        },
        {
          "output_type": "error",
          "ename": "KeyboardInterrupt",
          "evalue": "Interrupted by user",
          "traceback": [
            "\u001b[0;31m---------------------------------------------------------------------------\u001b[0m",
            "\u001b[0;31mKeyboardInterrupt\u001b[0m                         Traceback (most recent call last)",
            "\u001b[0;32m<ipython-input-52-8f0fd8299f16>\u001b[0m in \u001b[0;36m<cell line: 0>\u001b[0;34m()\u001b[0m\n\u001b[1;32m     11\u001b[0m \u001b[0;34m\u001b[0m\u001b[0m\n\u001b[1;32m     12\u001b[0m \u001b[0;32mfor\u001b[0m \u001b[0mname\u001b[0m \u001b[0;32min\u001b[0m \u001b[0mnames\u001b[0m \u001b[0;34m:\u001b[0m\u001b[0;34m\u001b[0m\u001b[0;34m\u001b[0m\u001b[0m\n\u001b[0;32m---> 13\u001b[0;31m     \u001b[0mname\u001b[0m \u001b[0;34m=\u001b[0m \u001b[0minput\u001b[0m\u001b[0;34m(\u001b[0m\u001b[0;34m\"이름을 입력하세요.\"\u001b[0m\u001b[0;34m)\u001b[0m\u001b[0;34m\u001b[0m\u001b[0;34m\u001b[0m\u001b[0m\n\u001b[0m\u001b[1;32m     14\u001b[0m     \u001b[0mprint\u001b[0m\u001b[0;34m(\u001b[0m\u001b[0;34m\"%s님의 성적을 확인합니다.\"\u001b[0m \u001b[0;34m%\u001b[0m \u001b[0mname\u001b[0m\u001b[0;34m)\u001b[0m\u001b[0;34m\u001b[0m\u001b[0;34m\u001b[0m\u001b[0m\n\u001b[1;32m     15\u001b[0m     \u001b[0mprint\u001b[0m\u001b[0;34m(\u001b[0m\u001b[0;34m\"=\"\u001b[0m\u001b[0;34m*\u001b[0m\u001b[0;36m50\u001b[0m\u001b[0;34m)\u001b[0m\u001b[0;34m\u001b[0m\u001b[0;34m\u001b[0m\u001b[0m\n",
            "\u001b[0;32m/usr/local/lib/python3.11/dist-packages/ipykernel/kernelbase.py\u001b[0m in \u001b[0;36mraw_input\u001b[0;34m(self, prompt)\u001b[0m\n\u001b[1;32m   1175\u001b[0m                 \u001b[0;34m\"raw_input was called, but this frontend does not support input requests.\"\u001b[0m\u001b[0;34m\u001b[0m\u001b[0;34m\u001b[0m\u001b[0m\n\u001b[1;32m   1176\u001b[0m             )\n\u001b[0;32m-> 1177\u001b[0;31m         return self._input_request(\n\u001b[0m\u001b[1;32m   1178\u001b[0m             \u001b[0mstr\u001b[0m\u001b[0;34m(\u001b[0m\u001b[0mprompt\u001b[0m\u001b[0;34m)\u001b[0m\u001b[0;34m,\u001b[0m\u001b[0;34m\u001b[0m\u001b[0;34m\u001b[0m\u001b[0m\n\u001b[1;32m   1179\u001b[0m             \u001b[0mself\u001b[0m\u001b[0;34m.\u001b[0m\u001b[0m_parent_ident\u001b[0m\u001b[0;34m[\u001b[0m\u001b[0;34m\"shell\"\u001b[0m\u001b[0;34m]\u001b[0m\u001b[0;34m,\u001b[0m\u001b[0;34m\u001b[0m\u001b[0;34m\u001b[0m\u001b[0m\n",
            "\u001b[0;32m/usr/local/lib/python3.11/dist-packages/ipykernel/kernelbase.py\u001b[0m in \u001b[0;36m_input_request\u001b[0;34m(self, prompt, ident, parent, password)\u001b[0m\n\u001b[1;32m   1217\u001b[0m             \u001b[0;32mexcept\u001b[0m \u001b[0mKeyboardInterrupt\u001b[0m\u001b[0;34m:\u001b[0m\u001b[0;34m\u001b[0m\u001b[0;34m\u001b[0m\u001b[0m\n\u001b[1;32m   1218\u001b[0m                 \u001b[0;31m# re-raise KeyboardInterrupt, to truncate traceback\u001b[0m\u001b[0;34m\u001b[0m\u001b[0;34m\u001b[0m\u001b[0m\n\u001b[0;32m-> 1219\u001b[0;31m                 \u001b[0;32mraise\u001b[0m \u001b[0mKeyboardInterrupt\u001b[0m\u001b[0;34m(\u001b[0m\u001b[0;34m\"Interrupted by user\"\u001b[0m\u001b[0;34m)\u001b[0m \u001b[0;32mfrom\u001b[0m \u001b[0;32mNone\u001b[0m\u001b[0;34m\u001b[0m\u001b[0;34m\u001b[0m\u001b[0m\n\u001b[0m\u001b[1;32m   1220\u001b[0m             \u001b[0;32mexcept\u001b[0m \u001b[0mException\u001b[0m\u001b[0;34m:\u001b[0m\u001b[0;34m\u001b[0m\u001b[0;34m\u001b[0m\u001b[0m\n\u001b[1;32m   1221\u001b[0m                 \u001b[0mself\u001b[0m\u001b[0;34m.\u001b[0m\u001b[0mlog\u001b[0m\u001b[0;34m.\u001b[0m\u001b[0mwarning\u001b[0m\u001b[0;34m(\u001b[0m\u001b[0;34m\"Invalid Message:\"\u001b[0m\u001b[0;34m,\u001b[0m \u001b[0mexc_info\u001b[0m\u001b[0;34m=\u001b[0m\u001b[0;32mTrue\u001b[0m\u001b[0;34m)\u001b[0m\u001b[0;34m\u001b[0m\u001b[0;34m\u001b[0m\u001b[0m\n",
            "\u001b[0;31mKeyboardInterrupt\u001b[0m: Interrupted by user"
          ]
        }
      ]
    },
    {
      "cell_type": "code",
      "source": [
        "for i in range(total):\n",
        "    rank = 1\n",
        "    for j in range(total):\n",
        "        if scores[i] < scores[j]\n",
        "        rank = 1"
      ],
      "metadata": {
        "id": "gKanS7XxDzAV"
      },
      "execution_count": null,
      "outputs": []
    },
    {
      "cell_type": "code",
      "source": [
        "import random\n",
        "\n",
        "user = int(input(\"가위바위보를 선택하세요 (1. 가위, 2. 바위, 3. 보)\"))\n",
        "com = random.randint(1, 3)\n",
        "arr = [\"가위\", \"바위\", \"보\"]\n",
        "print(\"당신의 선택은 (%s)입니다.\" % arr[user - 1])\n",
        "print(\"컴퓨터의 선택은 (%s)입니다.\" % arr[com - 1])\n",
        "\n",
        "# 인터넷 예시"
      ],
      "metadata": {
        "colab": {
          "base_uri": "https://localhost:8080/"
        },
        "id": "-7JejtNVQnCe",
        "outputId": "b0861fe6-ce21-4f8f-e6cb-2cec0b70ed23"
      },
      "execution_count": null,
      "outputs": [
        {
          "output_type": "stream",
          "name": "stdout",
          "text": [
            "가위바위보를 선택하세요 (1. 가위, 2. 바위, 3. 보)3\n",
            "당신의 선택은 (보)입니다.\n",
            "컴퓨터의 선택은 (보)입니다.\n"
          ]
        }
      ]
    },
    {
      "cell_type": "code",
      "source": [
        "import random\n",
        "\n",
        "user = int(input(\"쌍권총 (1. 가위, 2. 바위, 3. 보)\"))\n",
        "com = random.randint(1, 3)\n",
        "arr = [\"가위\", \"바위\", \"보\"]\n",
        "print(\"나의 선택은 (%s)입니다.\" % arr[user - 1])\n",
        "print(\"컴퓨터의 선택은 (%s)입니다.\" % arr[com - 1])\n",
        "if arr == [\"가위\", \"바위\", \"보\"] :\n",
        "    int(input(\"하나 빼기 일 (1. 가위, 2. 바위, 3. 보)\"))\n",
        "    print(\"나의 선택은 (%s)입니다.\" % arr[user - 1])\n",
        "    print(\"컴퓨터의 선택은 (%s)입니다.\" % arr[com - 1])\n"
      ],
      "metadata": {
        "colab": {
          "base_uri": "https://localhost:8080/"
        },
        "id": "oIE_4x-IS5I_",
        "outputId": "79032cbe-c82d-4a12-e15d-de2e3f3b081b"
      },
      "execution_count": null,
      "outputs": [
        {
          "output_type": "stream",
          "name": "stdout",
          "text": [
            "쌍권총 (1. 가위, 2. 바위, 3. 보)1\n",
            "나의 선택은 (가위)입니다.\n",
            "컴퓨터의 선택은 (가위)입니다.\n",
            "하나 빼기 일 (1. 가위, 2. 바위, 3. 보)3\n",
            "나의 선택은 (가위)입니다.\n",
            "컴퓨터의 선택은 (가위)입니다.\n"
          ]
        }
      ]
    }
  ]
}