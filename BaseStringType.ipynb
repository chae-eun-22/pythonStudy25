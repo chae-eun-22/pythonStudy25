{
  "nbformat": 4,
  "nbformat_minor": 0,
  "metadata": {
    "colab": {
      "provenance": [],
      "authorship_tag": "ABX9TyPxrRfAbknTrnmbrmphoo1t",
      "include_colab_link": true
    },
    "kernelspec": {
      "name": "python3",
      "display_name": "Python 3"
    },
    "language_info": {
      "name": "python"
    }
  },
  "cells": [
    {
      "cell_type": "markdown",
      "metadata": {
        "id": "view-in-github",
        "colab_type": "text"
      },
      "source": [
        "<a href=\"https://colab.research.google.com/github/chae-eun-22/pythonStudy25/blob/master/BaseStringType.ipynb\" target=\"_parent\"><img src=\"https://colab.research.google.com/assets/colab-badge.svg\" alt=\"Open In Colab\"/></a>"
      ]
    },
    {
      "cell_type": "code",
      "execution_count": null,
      "metadata": {
        "colab": {
          "base_uri": "https://localhost:8080/",
          "height": 35
        },
        "id": "enh6NN6uJa8f",
        "outputId": "d1f468f8-e0ac-4e71-b014-b77deb6e3b7e"
      },
      "outputs": [
        {
          "output_type": "execute_result",
          "data": {
            "text/plain": [
              "'Hello world'"
            ],
            "application/vnd.google.colaboratory.intrinsic+json": {
              "type": "string"
            }
          },
          "metadata": {},
          "execution_count": 1
        }
      ],
      "source": [
        "# 문자열은 어떻게 만들고 사용할까?\n",
        "# 큰따옴표로 양쪽 둘러싸기\n",
        "\n",
        "\"Hello world\""
      ]
    },
    {
      "cell_type": "code",
      "source": [
        "# 작은따옴표로 양쪽 둘러싸기\n",
        "\n",
        "'Python is fun'"
      ],
      "metadata": {
        "colab": {
          "base_uri": "https://localhost:8080/",
          "height": 35
        },
        "id": "DYtcZ0qGKFLu",
        "outputId": "e1012833-d28d-4e4e-e346-870120b65a6d"
      },
      "execution_count": null,
      "outputs": [
        {
          "output_type": "execute_result",
          "data": {
            "text/plain": [
              "'Python is fun'"
            ],
            "application/vnd.google.colaboratory.intrinsic+json": {
              "type": "string"
            }
          },
          "metadata": {},
          "execution_count": 4
        }
      ]
    },
    {
      "cell_type": "code",
      "source": [
        "# 큰따옴표 3개를 연속으로 써서 양쪽 둘러싸기\n",
        "\n",
        "\"\"\"Life is too short, You need python\"\"\""
      ],
      "metadata": {
        "colab": {
          "base_uri": "https://localhost:8080/",
          "height": 35
        },
        "id": "tfjDGF2VKNVW",
        "outputId": "c4752147-9297-437b-e0c2-1d06ff9e25a9"
      },
      "execution_count": null,
      "outputs": [
        {
          "output_type": "execute_result",
          "data": {
            "text/plain": [
              "'Life is too short, You need python'"
            ],
            "application/vnd.google.colaboratory.intrinsic+json": {
              "type": "string"
            }
          },
          "metadata": {},
          "execution_count": 5
        }
      ]
    },
    {
      "cell_type": "code",
      "source": [
        "# 작은따옴표 3개를 연속으로 써서 양쪽 둘러싸기\n",
        "\n",
        "'''Life is too short, You need python'''"
      ],
      "metadata": {
        "colab": {
          "base_uri": "https://localhost:8080/",
          "height": 35
        },
        "id": "IkEWvuREKgDG",
        "outputId": "f24acc97-cc48-4eab-cdc5-56c044a6bf29"
      },
      "execution_count": null,
      "outputs": [
        {
          "output_type": "execute_result",
          "data": {
            "text/plain": [
              "'Life is too short, You need python'"
            ],
            "application/vnd.google.colaboratory.intrinsic+json": {
              "type": "string"
            }
          },
          "metadata": {},
          "execution_count": 6
        }
      ]
    },
    {
      "cell_type": "code",
      "source": [
        "# 문자열 안에 작은따옴표나 큰 따옴표를 포함시키고 싶을 때\n",
        "# 문자열에 작은따옴표 포함하기\n",
        "\n",
        "\"Python's favorite food is perl\""
      ],
      "metadata": {
        "colab": {
          "base_uri": "https://localhost:8080/",
          "height": 35
        },
        "id": "8Pt_oSuSK9Tm",
        "outputId": "3a2b5230-ec85-4adc-b6a5-058a0e20fc3b"
      },
      "execution_count": null,
      "outputs": [
        {
          "output_type": "execute_result",
          "data": {
            "text/plain": [
              "\"Python's favorite food is perl\""
            ],
            "application/vnd.google.colaboratory.intrinsic+json": {
              "type": "string"
            }
          },
          "metadata": {},
          "execution_count": 20
        }
      ]
    },
    {
      "cell_type": "code",
      "source": [
        "food = \"Python's favorite food is perl\"\n",
        "\n",
        "print(food)"
      ],
      "metadata": {
        "colab": {
          "base_uri": "https://localhost:8080/"
        },
        "id": "NNygiJrYLmQ-",
        "outputId": "1a307b91-662c-49bb-d071-7fa68cdbdf1d"
      },
      "execution_count": null,
      "outputs": [
        {
          "output_type": "stream",
          "name": "stdout",
          "text": [
            "Python's favorite food is perl\n"
          ]
        }
      ]
    },
    {
      "cell_type": "code",
      "source": [
        "food\n",
        "\"Python's favorite food is perl\""
      ],
      "metadata": {
        "colab": {
          "base_uri": "https://localhost:8080/",
          "height": 35
        },
        "id": "V9MtqyGWMRp_",
        "outputId": "4db8aec8-31bc-47c7-e128-94dec0917053"
      },
      "execution_count": null,
      "outputs": [
        {
          "output_type": "execute_result",
          "data": {
            "text/plain": [
              "\"Python's favorite food is perl\""
            ],
            "application/vnd.google.colaboratory.intrinsic+json": {
              "type": "string"
            }
          },
          "metadata": {},
          "execution_count": 60
        }
      ]
    },
    {
      "cell_type": "code",
      "source": [
        "# 문자열에 큰따옴표 포함하기\n",
        "\n",
        "say = '\"Python is very easy.\" he says.'\n",
        "\n",
        "print(say)"
      ],
      "metadata": {
        "colab": {
          "base_uri": "https://localhost:8080/"
        },
        "id": "vUGqRkDGNPn3",
        "outputId": "0a0d7736-f307-4d60-94f8-e1f24818c404"
      },
      "execution_count": null,
      "outputs": [
        {
          "output_type": "stream",
          "name": "stdout",
          "text": [
            "\"Python is very easy.\" he says.\n"
          ]
        }
      ]
    },
    {
      "cell_type": "code",
      "source": [
        "# 역슬래시를 사용해서 작은따옴표와 큰따옴표를 문자열에 포함하기\n",
        "\n",
        "food = 'Python\\'s favorite food is perl'\n",
        "\n",
        "print(food)"
      ],
      "metadata": {
        "colab": {
          "base_uri": "https://localhost:8080/"
        },
        "id": "irGiY8nAOhl_",
        "outputId": "c4c89744-599d-4d01-eca7-fff184582a98"
      },
      "execution_count": 3,
      "outputs": [
        {
          "output_type": "stream",
          "name": "stdout",
          "text": [
            "Python's favorite food is perl\n"
          ]
        }
      ]
    },
    {
      "cell_type": "code",
      "source": [
        "say = \"\\\"Python is very easy.\\\" he says.\"\n",
        "\n",
        "print(say)"
      ],
      "metadata": {
        "id": "6wbQLvX4GCBj",
        "outputId": "002cd82a-66d5-4fc1-f36e-57177fc4a14f",
        "colab": {
          "base_uri": "https://localhost:8080/"
        }
      },
      "execution_count": 5,
      "outputs": [
        {
          "output_type": "stream",
          "name": "stdout",
          "text": [
            "\"Python is very easy.\" he says.\n"
          ]
        }
      ]
    },
    {
      "cell_type": "code",
      "source": [
        "# 여러 줄인 문자열을 변수에 대입하고 싶을 때\n",
        "# 줄을 바꾸기 위한 이스케이프 코드 |n 삽입하기\n",
        "\n",
        "multiline = \"Life is too short|nYou need python\""
      ],
      "metadata": {
        "id": "fRW1j1eHQVTI"
      },
      "execution_count": null,
      "outputs": []
    },
    {
      "cell_type": "code",
      "source": [
        "# 연속된 작은따옴표 3개를 또는 큰따옴표 3개 사용하기\n",
        "# 작은따옴표 3개를 사용한 경우\n",
        "\n",
        "multiline='''\n",
        "Life is too short\n",
        "You need python\n",
        "'''\n",
        "print(multiline)"
      ],
      "metadata": {
        "colab": {
          "base_uri": "https://localhost:8080/"
        },
        "id": "t5SHK8SUQ0QA",
        "outputId": "25b84250-569a-4bec-9c11-3ceeb6ddb563"
      },
      "execution_count": null,
      "outputs": [
        {
          "output_type": "stream",
          "name": "stdout",
          "text": [
            "\n",
            "Life is too short\n",
            "You need python\n",
            "\n"
          ]
        }
      ]
    },
    {
      "cell_type": "code",
      "source": [
        "# 큰따옴표 3개를 사용한 경우\n",
        "\n",
        "mutiline=\"\"\"\n",
        "Life is too short\n",
        "You need python\n",
        "\"\"\"\n",
        "print(multiline)"
      ],
      "metadata": {
        "colab": {
          "base_uri": "https://localhost:8080/"
        },
        "id": "2XMHyj4XRdOw",
        "outputId": "e80b6f17-262e-4db6-cd8c-05fd6579a602"
      },
      "execution_count": null,
      "outputs": [
        {
          "output_type": "stream",
          "name": "stdout",
          "text": [
            "\n",
            "Life is too short\n",
            "You need python\n",
            "\n"
          ]
        }
      ]
    },
    {
      "cell_type": "code",
      "source": [
        "# 이스케이프 코드란?\n",
        "\n",
        "# |n: 문자열 안에서 줄을 바꿀 때 사용\n",
        "# |t: 문자열 사이에 탭 간격을 줄 때 사용\n",
        "# ||: |를 그대로 표현할 때 사용\n",
        "# |': 작은따옴표(')를 그대로 표현할 때 사용\n",
        "# |\": 큰따옴표(\")를 그대로 표현할 때 사용\n",
        "# |r: 캐리지 리턴(줄 바꿈 문자, 커서를 현재 줄의 가장 앞으로 이동)\n",
        "# |f: 폼 피드(줄 바꿈 문자, 커서를 현재 줄의 다음 줄로 이동)\n",
        "# |a: 벨 소리(출력할 때 PC 스피커에서 '삑' 소리가 난다)\n",
        "# |b: 백 스페이스\n",
        "# |000: 널 문자\n",
        "\n",
        "# 이 중에서 활용 빈도가 높은 것은 |n, |t, ||, |', |\"이다."
      ],
      "metadata": {
        "id": "E2wT-VZ1RvSH"
      },
      "execution_count": null,
      "outputs": []
    },
    {
      "cell_type": "code",
      "source": [
        "# 문자열 더해서 연결하기\n",
        "\n",
        "head = \"Python\"\n",
        "tail = \"is fun!\"\n",
        "head + tail"
      ],
      "metadata": {
        "colab": {
          "base_uri": "https://localhost:8080/",
          "height": 35
        },
        "id": "q_pwLg-HUtZ5",
        "outputId": "7298db4e-8446-4bef-df0d-03d1bfb13343"
      },
      "execution_count": null,
      "outputs": [
        {
          "output_type": "execute_result",
          "data": {
            "text/plain": [
              "'Pythonis fun!'"
            ],
            "application/vnd.google.colaboratory.intrinsic+json": {
              "type": "string"
            }
          },
          "metadata": {},
          "execution_count": 80
        }
      ]
    },
    {
      "cell_type": "code",
      "source": [
        "# 문자열 곱하기\n",
        "\n",
        "a = \"python\"\n",
        "a * 2"
      ],
      "metadata": {
        "colab": {
          "base_uri": "https://localhost:8080/",
          "height": 35
        },
        "id": "wDzxOyy7Vjhh",
        "outputId": "d668d018-b0dd-4dd9-ae08-efea26b5d900"
      },
      "execution_count": null,
      "outputs": [
        {
          "output_type": "execute_result",
          "data": {
            "text/plain": [
              "'pythonpython'"
            ],
            "application/vnd.google.colaboratory.intrinsic+json": {
              "type": "string"
            }
          },
          "metadata": {},
          "execution_count": 81
        }
      ]
    },
    {
      "cell_type": "code",
      "source": [
        "# 문자열 곱하기를 응용하기\n",
        "# multistring.py\n",
        "\n",
        "print(\"=\" * 50)\n",
        "print(\"My Program\")\n",
        "print(\"=\" * 50)"
      ],
      "metadata": {
        "colab": {
          "base_uri": "https://localhost:8080/"
        },
        "id": "4-Xf1pgBVpUA",
        "outputId": "311300f9-fd06-4ed8-d18b-e14390aa35d4"
      },
      "execution_count": null,
      "outputs": [
        {
          "output_type": "stream",
          "name": "stdout",
          "text": [
            "==================================================\n",
            "My Program\n",
            "==================================================\n"
          ]
        }
      ]
    },
    {
      "cell_type": "code",
      "source": [
        "# 문자열 길이 구하기\n",
        "# 문자열 길이에는 공백 문자도 포함된다.\n",
        "\n",
        "a = \"Life is too short\"\n",
        "len(a)"
      ],
      "metadata": {
        "colab": {
          "base_uri": "https://localhost:8080/"
        },
        "id": "cHtSh7YgWQu5",
        "outputId": "10912336-95b5-4bad-a823-d4087aa58524"
      },
      "execution_count": null,
      "outputs": [
        {
          "output_type": "execute_result",
          "data": {
            "text/plain": [
              "17"
            ]
          },
          "metadata": {},
          "execution_count": 83
        }
      ]
    },
    {
      "cell_type": "code",
      "source": [
        "# 문자열 인덱싱과 슬라이싱\n",
        "# 인덱싱(indexing)이란 무엇인가를 '가리킨다'\n",
        "# 슬라이싱(sliching)은 무엇인가를 '잘라 낸다'"
      ],
      "metadata": {
        "id": "zSnV-8L2Waa5"
      },
      "execution_count": null,
      "outputs": []
    },
    {
      "cell_type": "code",
      "source": [
        "# 문자열 인덱싱\n",
        "\n",
        "a = \"Life is too short, You need Python\"\n",
        "a[3]\n",
        "\n",
        "# 파이썬은 0부터 숫자를 센다.\n",
        "# a[0]:'L', a[1]:'f', a[3]:'e', a[4]:' ', ...\n",
        "# a[번호]는 문자열 안의 특정한 값을 뽑아내는 역할 '인덱싱'"
      ],
      "metadata": {
        "colab": {
          "base_uri": "https://localhost:8080/",
          "height": 35
        },
        "id": "LRsmwcgNWpIJ",
        "outputId": "6720b5d4-f545-4910-de0e-e6a024e6ca99"
      },
      "execution_count": null,
      "outputs": [
        {
          "output_type": "execute_result",
          "data": {
            "text/plain": [
              "'e'"
            ],
            "application/vnd.google.colaboratory.intrinsic+json": {
              "type": "string"
            }
          },
          "metadata": {},
          "execution_count": 85
        }
      ]
    },
    {
      "cell_type": "code",
      "source": [
        "# 문자열 인덱싱 활용하기\n",
        "\n",
        "a = \"Life is too short, You need Python\""
      ],
      "metadata": {
        "id": "wiloZLTfXhcq"
      },
      "execution_count": null,
      "outputs": []
    },
    {
      "cell_type": "code",
      "source": [
        "a[0]"
      ],
      "metadata": {
        "colab": {
          "base_uri": "https://localhost:8080/",
          "height": 35
        },
        "id": "Psh1S_MFXw1K",
        "outputId": "5bc8139e-eeac-4961-f07a-955cc4179f7b"
      },
      "execution_count": null,
      "outputs": [
        {
          "output_type": "execute_result",
          "data": {
            "text/plain": [
              "'L'"
            ],
            "application/vnd.google.colaboratory.intrinsic+json": {
              "type": "string"
            }
          },
          "metadata": {},
          "execution_count": 91
        }
      ]
    },
    {
      "cell_type": "code",
      "source": [
        "a[12]"
      ],
      "metadata": {
        "colab": {
          "base_uri": "https://localhost:8080/",
          "height": 35
        },
        "id": "0gTJp-9RW5uh",
        "outputId": "cd96d279-5ead-4fd8-8a88-2aa1d576c934"
      },
      "execution_count": null,
      "outputs": [
        {
          "output_type": "execute_result",
          "data": {
            "text/plain": [
              "'s'"
            ],
            "application/vnd.google.colaboratory.intrinsic+json": {
              "type": "string"
            }
          },
          "metadata": {},
          "execution_count": 92
        }
      ]
    },
    {
      "cell_type": "code",
      "source": [
        "# a[-1]은 뒤에서부터 세어 첫 번째가 되는 문자\n",
        "\n",
        "a[-1]"
      ],
      "metadata": {
        "colab": {
          "base_uri": "https://localhost:8080/",
          "height": 35
        },
        "id": "mN4ITouQX1fB",
        "outputId": "a9c3048e-7500-4ad8-b486-31cc0efcebde"
      },
      "execution_count": null,
      "outputs": [
        {
          "output_type": "execute_result",
          "data": {
            "text/plain": [
              "'n'"
            ],
            "application/vnd.google.colaboratory.intrinsic+json": {
              "type": "string"
            }
          },
          "metadata": {},
          "execution_count": 93
        }
      ]
    },
    {
      "cell_type": "code",
      "source": [
        "a[-0]"
      ],
      "metadata": {
        "colab": {
          "base_uri": "https://localhost:8080/",
          "height": 35
        },
        "id": "bPsNMirfX5Xq",
        "outputId": "7d87f844-3750-4275-bf42-361abbf8f931"
      },
      "execution_count": null,
      "outputs": [
        {
          "output_type": "execute_result",
          "data": {
            "text/plain": [
              "'L'"
            ],
            "application/vnd.google.colaboratory.intrinsic+json": {
              "type": "string"
            }
          },
          "metadata": {},
          "execution_count": 94
        }
      ]
    },
    {
      "cell_type": "code",
      "source": [
        "a[-2]"
      ],
      "metadata": {
        "colab": {
          "base_uri": "https://localhost:8080/",
          "height": 35
        },
        "id": "scxFUKV7YEdJ",
        "outputId": "f901c4dd-c7a9-44df-eb05-7d31e4c62580"
      },
      "execution_count": null,
      "outputs": [
        {
          "output_type": "execute_result",
          "data": {
            "text/plain": [
              "'o'"
            ],
            "application/vnd.google.colaboratory.intrinsic+json": {
              "type": "string"
            }
          },
          "metadata": {},
          "execution_count": 95
        }
      ]
    },
    {
      "cell_type": "code",
      "source": [
        "a[-5]"
      ],
      "metadata": {
        "colab": {
          "base_uri": "https://localhost:8080/",
          "height": 35
        },
        "id": "qCrkpgHsYIOp",
        "outputId": "91bf9c9f-7c4e-47be-d40a-3d3ddef34e42"
      },
      "execution_count": null,
      "outputs": [
        {
          "output_type": "execute_result",
          "data": {
            "text/plain": [
              "'y'"
            ],
            "application/vnd.google.colaboratory.intrinsic+json": {
              "type": "string"
            }
          },
          "metadata": {},
          "execution_count": 96
        }
      ]
    },
    {
      "cell_type": "code",
      "source": [
        "# 문자열 슬라이싱\n",
        "\n",
        "a = \"Life is too short, You need Python\"\n",
        "b = a[0] + a[1] + a[2] + a[3]\n",
        "b"
      ],
      "metadata": {
        "colab": {
          "base_uri": "https://localhost:8080/",
          "height": 35
        },
        "id": "Cn1sAVlZYaiK",
        "outputId": "160b466c-8087-4350-ca5f-11dc421d125f"
      },
      "execution_count": null,
      "outputs": [
        {
          "output_type": "execute_result",
          "data": {
            "text/plain": [
              "'Life'"
            ],
            "application/vnd.google.colaboratory.intrinsic+json": {
              "type": "string"
            }
          },
          "metadata": {},
          "execution_count": 98
        }
      ]
    },
    {
      "cell_type": "code",
      "source": [
        "a = \"Life is too short, You need Python\"\n",
        "a[0:4]\n",
        "\n",
        "# a[0:4]는 a 문자열, 즉 문자열에서 자리 번호 0부터 4까지의 문자를 뽑아낸 것"
      ],
      "metadata": {
        "colab": {
          "base_uri": "https://localhost:8080/",
          "height": 35
        },
        "id": "5ZQ5t0NHYtkB",
        "outputId": "bd92de0f-4835-4e1f-a382-793ef631a205"
      },
      "execution_count": null,
      "outputs": [
        {
          "output_type": "execute_result",
          "data": {
            "text/plain": [
              "'Life'"
            ],
            "application/vnd.google.colaboratory.intrinsic+json": {
              "type": "string"
            }
          },
          "metadata": {},
          "execution_count": 99
        }
      ]
    },
    {
      "cell_type": "code",
      "source": [
        "a[0:3]"
      ],
      "metadata": {
        "colab": {
          "base_uri": "https://localhost:8080/",
          "height": 35
        },
        "id": "uYnbEdpBY-Q6",
        "outputId": "92640a97-279a-4a1c-bf08-d8dd124b1928"
      },
      "execution_count": null,
      "outputs": [
        {
          "output_type": "execute_result",
          "data": {
            "text/plain": [
              "'Lif'"
            ],
            "application/vnd.google.colaboratory.intrinsic+json": {
              "type": "string"
            }
          },
          "metadata": {},
          "execution_count": 101
        }
      ]
    },
    {
      "cell_type": "code",
      "source": [
        "# 문자열을 슬라이싱하는 방법\n",
        "\n",
        "a[0:5]"
      ],
      "metadata": {
        "colab": {
          "base_uri": "https://localhost:8080/",
          "height": 35
        },
        "id": "vpP4FmKvZBnK",
        "outputId": "7b842dc8-ffd9-48ae-d22d-dd8b00e0d68e"
      },
      "execution_count": null,
      "outputs": [
        {
          "output_type": "execute_result",
          "data": {
            "text/plain": [
              "'Life '"
            ],
            "application/vnd.google.colaboratory.intrinsic+json": {
              "type": "string"
            }
          },
          "metadata": {},
          "execution_count": 103
        }
      ]
    },
    {
      "cell_type": "code",
      "source": [
        "# 슬라이싱할 때 항상 시작 번호가 0일 필요는 없다.\n",
        "\n",
        "a[0:2]"
      ],
      "metadata": {
        "colab": {
          "base_uri": "https://localhost:8080/",
          "height": 35
        },
        "id": "YtqfrXxJZPia",
        "outputId": "4102c956-f282-4f89-801c-09caf0e8ecd0"
      },
      "execution_count": null,
      "outputs": [
        {
          "output_type": "execute_result",
          "data": {
            "text/plain": [
              "'Li'"
            ],
            "application/vnd.google.colaboratory.intrinsic+json": {
              "type": "string"
            }
          },
          "metadata": {},
          "execution_count": 106
        }
      ]
    },
    {
      "cell_type": "code",
      "source": [
        "a[5:7]"
      ],
      "metadata": {
        "colab": {
          "base_uri": "https://localhost:8080/",
          "height": 35
        },
        "id": "1e9hwTceZZ_a",
        "outputId": "77661445-6ac5-42ac-e95c-7693c3638948"
      },
      "execution_count": null,
      "outputs": [
        {
          "output_type": "execute_result",
          "data": {
            "text/plain": [
              "'is'"
            ],
            "application/vnd.google.colaboratory.intrinsic+json": {
              "type": "string"
            }
          },
          "metadata": {},
          "execution_count": 107
        }
      ]
    },
    {
      "cell_type": "code",
      "source": [
        "a[12:17]"
      ],
      "metadata": {
        "colab": {
          "base_uri": "https://localhost:8080/",
          "height": 35
        },
        "id": "szTcl5_NZb3E",
        "outputId": "b814458a-03a8-49dc-a4a3-568e854e6854"
      },
      "execution_count": null,
      "outputs": [
        {
          "output_type": "execute_result",
          "data": {
            "text/plain": [
              "'short'"
            ],
            "application/vnd.google.colaboratory.intrinsic+json": {
              "type": "string"
            }
          },
          "metadata": {},
          "execution_count": 108
        }
      ]
    },
    {
      "cell_type": "code",
      "source": [
        "# a[시작_번호:끝_번호]에서 긑 번호 부분을 생략하면 시작 번호부터 그 문자열의 끝까지 뽑아 낸다.\n",
        "\n",
        "a[19:]"
      ],
      "metadata": {
        "colab": {
          "base_uri": "https://localhost:8080/",
          "height": 35
        },
        "id": "m7F8N5BTZfo6",
        "outputId": "50d8c7e8-44d4-4bf4-edfb-b4688e13213f"
      },
      "execution_count": null,
      "outputs": [
        {
          "output_type": "execute_result",
          "data": {
            "text/plain": [
              "'You need Python'"
            ],
            "application/vnd.google.colaboratory.intrinsic+json": {
              "type": "string"
            }
          },
          "metadata": {},
          "execution_count": 111
        }
      ]
    },
    {
      "cell_type": "code",
      "source": [
        "a[:17]"
      ],
      "metadata": {
        "colab": {
          "base_uri": "https://localhost:8080/",
          "height": 35
        },
        "id": "Fy4RGW7sZs8K",
        "outputId": "89b10b00-069a-484c-ed72-ce31fb3fd22f"
      },
      "execution_count": null,
      "outputs": [
        {
          "output_type": "execute_result",
          "data": {
            "text/plain": [
              "'Life is too short'"
            ],
            "application/vnd.google.colaboratory.intrinsic+json": {
              "type": "string"
            }
          },
          "metadata": {},
          "execution_count": 110
        }
      ]
    },
    {
      "cell_type": "code",
      "source": [
        "a[:]"
      ],
      "metadata": {
        "colab": {
          "base_uri": "https://localhost:8080/",
          "height": 35
        },
        "id": "BSw-BtHMZ2G6",
        "outputId": "a624f727-0bca-409f-8ccd-063c21108112"
      },
      "execution_count": null,
      "outputs": [
        {
          "output_type": "execute_result",
          "data": {
            "text/plain": [
              "'Life is too short, You need Python'"
            ],
            "application/vnd.google.colaboratory.intrinsic+json": {
              "type": "string"
            }
          },
          "metadata": {},
          "execution_count": 112
        }
      ]
    },
    {
      "cell_type": "code",
      "source": [
        "a[19:-7]"
      ],
      "metadata": {
        "colab": {
          "base_uri": "https://localhost:8080/",
          "height": 35
        },
        "id": "Ckf_-gOPZ4QT",
        "outputId": "7f884512-738f-4871-a144-9de19bfc502c"
      },
      "execution_count": null,
      "outputs": [
        {
          "output_type": "execute_result",
          "data": {
            "text/plain": [
              "'You need'"
            ],
            "application/vnd.google.colaboratory.intrinsic+json": {
              "type": "string"
            }
          },
          "metadata": {},
          "execution_count": 113
        }
      ]
    },
    {
      "cell_type": "code",
      "source": [
        "# 슬라이싱으로 문자열 나누기\n",
        "\n",
        "a = \"20230331Rainy\"\n",
        "date = a[:8]\n",
        "date"
      ],
      "metadata": {
        "colab": {
          "base_uri": "https://localhost:8080/",
          "height": 35
        },
        "id": "-MuyvctRZ756",
        "outputId": "233dc076-8bfe-43a0-9b2b-49c5824a9559"
      },
      "execution_count": null,
      "outputs": [
        {
          "output_type": "execute_result",
          "data": {
            "text/plain": [
              "'20230331'"
            ],
            "application/vnd.google.colaboratory.intrinsic+json": {
              "type": "string"
            }
          },
          "metadata": {},
          "execution_count": 118
        }
      ]
    },
    {
      "cell_type": "code",
      "source": [
        "weather = a[8:]\n",
        "weather"
      ],
      "metadata": {
        "colab": {
          "base_uri": "https://localhost:8080/",
          "height": 35
        },
        "id": "Hv9MWxWNaRiy",
        "outputId": "4df1c14a-3806-469a-a62c-c69f22fa21c9"
      },
      "execution_count": null,
      "outputs": [
        {
          "output_type": "execute_result",
          "data": {
            "text/plain": [
              "'Rainy'"
            ],
            "application/vnd.google.colaboratory.intrinsic+json": {
              "type": "string"
            }
          },
          "metadata": {},
          "execution_count": 120
        }
      ]
    },
    {
      "cell_type": "code",
      "source": [
        "a = \"20230331Rainy\"\n",
        "year = a[:4]\n",
        "year"
      ],
      "metadata": {
        "colab": {
          "base_uri": "https://localhost:8080/",
          "height": 35
        },
        "id": "Jhnp-WaiaeTi",
        "outputId": "5c0a4511-f545-4845-dba2-1b32a6202eb9"
      },
      "execution_count": null,
      "outputs": [
        {
          "output_type": "execute_result",
          "data": {
            "text/plain": [
              "'2023'"
            ],
            "application/vnd.google.colaboratory.intrinsic+json": {
              "type": "string"
            }
          },
          "metadata": {},
          "execution_count": 121
        }
      ]
    },
    {
      "cell_type": "code",
      "source": [
        "day = a[4:8]\n",
        "day"
      ],
      "metadata": {
        "colab": {
          "base_uri": "https://localhost:8080/",
          "height": 35
        },
        "id": "HcdLfEBZakuC",
        "outputId": "a940c487-df49-4e12-aaeb-351275092658"
      },
      "execution_count": null,
      "outputs": [
        {
          "output_type": "execute_result",
          "data": {
            "text/plain": [
              "'0331'"
            ],
            "application/vnd.google.colaboratory.intrinsic+json": {
              "type": "string"
            }
          },
          "metadata": {},
          "execution_count": 122
        }
      ]
    },
    {
      "cell_type": "code",
      "source": [
        "weather = a[8:]\n",
        "weather"
      ],
      "metadata": {
        "colab": {
          "base_uri": "https://localhost:8080/",
          "height": 35
        },
        "id": "U1S6n-jLaocS",
        "outputId": "80ea2c84-42a7-4242-c7fd-a5119ad1bfb7"
      },
      "execution_count": null,
      "outputs": [
        {
          "output_type": "execute_result",
          "data": {
            "text/plain": [
              "'Rainy'"
            ],
            "application/vnd.google.colaboratory.intrinsic+json": {
              "type": "string"
            }
          },
          "metadata": {},
          "execution_count": 123
        }
      ]
    },
    {
      "cell_type": "code",
      "source": [
        "# Pithon 문자열을 Python으로 바꾸려면?\n",
        "\n",
        "a = \"Pithon\"\n",
        "a[:1]"
      ],
      "metadata": {
        "colab": {
          "base_uri": "https://localhost:8080/",
          "height": 35
        },
        "id": "BHFQyiKAauty",
        "outputId": "8becf01e-8c0a-44e0-ac6b-abf2ddb7ed69"
      },
      "execution_count": null,
      "outputs": [
        {
          "output_type": "execute_result",
          "data": {
            "text/plain": [
              "'P'"
            ],
            "application/vnd.google.colaboratory.intrinsic+json": {
              "type": "string"
            }
          },
          "metadata": {},
          "execution_count": 126
        }
      ]
    },
    {
      "cell_type": "code",
      "source": [
        "a[2:]"
      ],
      "metadata": {
        "colab": {
          "base_uri": "https://localhost:8080/",
          "height": 35
        },
        "id": "tpSy546EbOcL",
        "outputId": "c1232323-a38a-4c75-e0d6-926461351cbe"
      },
      "execution_count": null,
      "outputs": [
        {
          "output_type": "execute_result",
          "data": {
            "text/plain": [
              "'thon'"
            ],
            "application/vnd.google.colaboratory.intrinsic+json": {
              "type": "string"
            }
          },
          "metadata": {},
          "execution_count": 127
        }
      ]
    },
    {
      "cell_type": "code",
      "source": [
        "a[:1] + 'y' + a[2:]"
      ],
      "metadata": {
        "colab": {
          "base_uri": "https://localhost:8080/",
          "height": 35
        },
        "id": "j3XSsM0_bZGa",
        "outputId": "d216d01c-3ab2-4f67-b529-301816f4bd5c"
      },
      "execution_count": null,
      "outputs": [
        {
          "output_type": "execute_result",
          "data": {
            "text/plain": [
              "'Python'"
            ],
            "application/vnd.google.colaboratory.intrinsic+json": {
              "type": "string"
            }
          },
          "metadata": {},
          "execution_count": 128
        }
      ]
    },
    {
      "cell_type": "code",
      "source": [
        "# 문자열 포매팅(string formatting)이란?\n",
        "\n",
        "\"현재 온도는 18도입니다.\""
      ],
      "metadata": {
        "colab": {
          "base_uri": "https://localhost:8080/",
          "height": 35
        },
        "id": "fRhh8AkQbdML",
        "outputId": "fb603041-cac5-45bf-f46a-49599c1e638a"
      },
      "execution_count": null,
      "outputs": [
        {
          "output_type": "execute_result",
          "data": {
            "text/plain": [
              "'현재 온도는 18도입니다.'"
            ],
            "application/vnd.google.colaboratory.intrinsic+json": {
              "type": "string"
            }
          },
          "metadata": {},
          "execution_count": 129
        }
      ]
    },
    {
      "cell_type": "code",
      "source": [
        "\"현재 온도는 20도입니다.\""
      ],
      "metadata": {
        "colab": {
          "base_uri": "https://localhost:8080/",
          "height": 35
        },
        "id": "BgSEhVxXbt7K",
        "outputId": "0df91640-2ed3-4fc6-c3a2-beaab41a430f"
      },
      "execution_count": null,
      "outputs": [
        {
          "output_type": "execute_result",
          "data": {
            "text/plain": [
              "'현재 온도는 20도입니다.'"
            ],
            "application/vnd.google.colaboratory.intrinsic+json": {
              "type": "string"
            }
          },
          "metadata": {},
          "execution_count": 132
        }
      ]
    },
    {
      "cell_type": "code",
      "source": [
        "# 숫자 바로 대입\n",
        "\n",
        "\"I eat %d apples.\" % 3\n",
        "\n",
        "# 숫자를 넣고 싶은 자리에 %d 문자를 넣어 삽입할 숫자 3은 가장 뒤에 있는 % 문자 다음에 써 넣었다.\n",
        "# %d는 '문자열 포맷 코드'"
      ],
      "metadata": {
        "colab": {
          "base_uri": "https://localhost:8080/",
          "height": 35
        },
        "id": "QdsCUGbAb3Oj",
        "outputId": "e5fea428-a6b0-460e-bbe8-7184b4bc3344"
      },
      "execution_count": null,
      "outputs": [
        {
          "output_type": "execute_result",
          "data": {
            "text/plain": [
              "'I eat 3 apples.'"
            ],
            "application/vnd.google.colaboratory.intrinsic+json": {
              "type": "string"
            }
          },
          "metadata": {},
          "execution_count": 133
        }
      ]
    },
    {
      "cell_type": "code",
      "source": [
        "# 문자열 바로 대입\n",
        "\n",
        "\"I eat %s apples.\" % \"five\"\n",
        "\n",
        "# 문자열 안에 또 다른 문자열을 삽입하기 위해 앞에서 사용한 문자열 포맷 코드 %d가 아닌 %s\n",
        "# 숫자를 넣기 위해서는 %d, 문자열을 넣기 위해서는 %s를 써야 한다.\n",
        "# 앞에서 배운 것처럼 문자열을 대입할 때는 반드시 큰따옴표나 작은따옴표를 써야 한다."
      ],
      "metadata": {
        "colab": {
          "base_uri": "https://localhost:8080/",
          "height": 35
        },
        "id": "5Kqjmz7qcNt0",
        "outputId": "66159668-3175-4de6-91c5-832c43d5306d"
      },
      "execution_count": null,
      "outputs": [
        {
          "output_type": "execute_result",
          "data": {
            "text/plain": [
              "'I eat five apples.'"
            ],
            "application/vnd.google.colaboratory.intrinsic+json": {
              "type": "string"
            }
          },
          "metadata": {},
          "execution_count": 138
        }
      ]
    },
    {
      "cell_type": "code",
      "source": [
        "# 숫자 값을 나타내는 변수로 대입\n",
        "\n",
        "numver = 3\n",
        "\"I eat %d apples.\" % numver"
      ],
      "metadata": {
        "colab": {
          "base_uri": "https://localhost:8080/",
          "height": 35
        },
        "id": "ZjbI_aCJczsS",
        "outputId": "ff6c832e-b6c3-4ad1-8d62-e279b33e9975"
      },
      "execution_count": null,
      "outputs": [
        {
          "output_type": "execute_result",
          "data": {
            "text/plain": [
              "'I eat 3 apples.'"
            ],
            "application/vnd.google.colaboratory.intrinsic+json": {
              "type": "string"
            }
          },
          "metadata": {},
          "execution_count": 139
        }
      ]
    },
    {
      "cell_type": "code",
      "source": [
        "# 2개 이상의 값 넣기\n",
        "\n",
        "numver = 10\n",
        "day = \"three\"\n",
        "\"I eat %d apples. so I was sick for %s days.\" % (numver, day)\n",
        "\n",
        "# 2개 이상의 값을 넣으려면 마지막 % 다음 괄호 안에 쉼표(,)로 구분하여 각각의 값을 넣기"
      ],
      "metadata": {
        "colab": {
          "base_uri": "https://localhost:8080/",
          "height": 35
        },
        "id": "cPKAgTExdBSD",
        "outputId": "b8a37809-882d-4b77-c5e3-128476580aec"
      },
      "execution_count": null,
      "outputs": [
        {
          "output_type": "execute_result",
          "data": {
            "text/plain": [
              "'I eat 10 apples. so I was sick for three days.'"
            ],
            "application/vnd.google.colaboratory.intrinsic+json": {
              "type": "string"
            }
          },
          "metadata": {},
          "execution_count": 140
        }
      ]
    },
    {
      "cell_type": "code",
      "source": [
        "# 문자열 포맷 코드\n",
        "\n",
        "# %s 문자열(String)\n",
        "# %c 문자 1개(character)\n",
        "# %d 정수(Integer)\n",
        "# %f 부동소수(floating-point)\n",
        "# %o 8진수\n",
        "# %x 16진수\n",
        "# %% Literal % (문자 % 자체)\n",
        "\n",
        "# %s 포맷 코드, 어떤 형태의 값이든 변환해 넣을 수 있다."
      ],
      "metadata": {
        "id": "9XG06p-tdX5T"
      },
      "execution_count": null,
      "outputs": []
    },
    {
      "cell_type": "code",
      "source": [
        "\"I have %s apples\" % 3"
      ],
      "metadata": {
        "colab": {
          "base_uri": "https://localhost:8080/",
          "height": 35
        },
        "id": "Exbtdavnd5hr",
        "outputId": "fff23834-6241-4085-f6f3-e26b42104a99"
      },
      "execution_count": null,
      "outputs": [
        {
          "output_type": "execute_result",
          "data": {
            "text/plain": [
              "'I have 3 apples'"
            ],
            "application/vnd.google.colaboratory.intrinsic+json": {
              "type": "string"
            }
          },
          "metadata": {},
          "execution_count": 141
        }
      ]
    },
    {
      "cell_type": "code",
      "source": [
        "\"rate is %s\" % 3.234\n",
        "\n",
        "# 3을 문자열 안에 삽입하려면 %d를 사용해야 하고 3.234를 삽입하려면 %f를 사용해야 한다.\n",
        "# %s를 사용하면 %s는 자동으로 % 뒤에 있는 3이나 3.234와 같은 값을 문자열로 바꾸어 대입한다."
      ],
      "metadata": {
        "colab": {
          "base_uri": "https://localhost:8080/",
          "height": 35
        },
        "id": "Eg6YcPEGeAjE",
        "outputId": "8c0d8c3e-53b9-4722-a1e9-7a0075b0cf14"
      },
      "execution_count": 1,
      "outputs": [
        {
          "output_type": "execute_result",
          "data": {
            "text/plain": [
              "'rate is 3.234'"
            ],
            "application/vnd.google.colaboratory.intrinsic+json": {
              "type": "string"
            }
          },
          "metadata": {},
          "execution_count": 1
        }
      ]
    },
    {
      "cell_type": "code",
      "source": [
        "# 포매팅 연산자 %d와 %를 같이 쓸 때는 %%를 쓴다\n",
        "\n",
        "\"Error is %d%%.\" % 98"
      ],
      "metadata": {
        "colab": {
          "base_uri": "https://localhost:8080/",
          "height": 35
        },
        "id": "AJKX9cCKeD2z",
        "outputId": "df5ba18e-e4c0-4ca0-cc03-6ad0146af8de"
      },
      "execution_count": null,
      "outputs": [
        {
          "output_type": "execute_result",
          "data": {
            "text/plain": [
              "'Error is 98%.'"
            ],
            "application/vnd.google.colaboratory.intrinsic+json": {
              "type": "string"
            }
          },
          "metadata": {},
          "execution_count": 146
        }
      ]
    },
    {
      "cell_type": "code",
      "source": [
        "# 포맷 코드와 숫자 함께 사용하기\n",
        "# %d, %s 등과 같은 포맷 코드는 문자열 안에 어떤 값을 삽입할 때 사용\n",
        "# 포맷 코드를 숫자와 함께 사용하면 더 유용\n",
        "# 정렬과 공백\n",
        "\n",
        "\"%10s\" % \"hi\"\n",
        "\n",
        "# %10는 전체 길이가 10개인 문자열 공간에서 대입되는 값을 오른쪽으로 정렬하고 그 앞의 나머지는 공백으로 남겨 두라는 의미"
      ],
      "metadata": {
        "id": "UevxsoA6ey9L",
        "outputId": "06b1501e-7c0e-4442-e8f5-ea737335400f",
        "colab": {
          "base_uri": "https://localhost:8080/",
          "height": 35
        }
      },
      "execution_count": null,
      "outputs": [
        {
          "output_type": "execute_result",
          "data": {
            "text/plain": [
              "'        hi'"
            ],
            "application/vnd.google.colaboratory.intrinsic+json": {
              "type": "string"
            }
          },
          "metadata": {},
          "execution_count": 1
        }
      ]
    },
    {
      "cell_type": "code",
      "source": [
        "\"%-10sjane.\" % 'hi'\n",
        "\n",
        "# hi를 왼쪽으로 정렬하고 나머지는 공백으로 채움"
      ],
      "metadata": {
        "id": "AAhsaxtC6b0T",
        "outputId": "0db9d946-d46f-4b9a-8c0c-a54379a8bf82",
        "colab": {
          "base_uri": "https://localhost:8080/",
          "height": 35
        }
      },
      "execution_count": null,
      "outputs": [
        {
          "output_type": "execute_result",
          "data": {
            "text/plain": [
              "'hi        jane.'"
            ],
            "application/vnd.google.colaboratory.intrinsic+json": {
              "type": "string"
            }
          },
          "metadata": {},
          "execution_count": 2
        }
      ]
    },
    {
      "cell_type": "code",
      "source": [
        "# 소수점 표현하기\n",
        "\n",
        "\"%0.4f\" % 3.42134234\n",
        "\n",
        "# 소수점 네 번째 자리까지만 나타내고 싶은 경우에는 위와 같이 작성"
      ],
      "metadata": {
        "id": "2v7N1b186yfo",
        "outputId": "3d03eab5-e87a-4993-f67d-3869bf4ec90f",
        "colab": {
          "base_uri": "https://localhost:8080/",
          "height": 35
        }
      },
      "execution_count": null,
      "outputs": [
        {
          "output_type": "execute_result",
          "data": {
            "text/plain": [
              "'3.4213'"
            ],
            "application/vnd.google.colaboratory.intrinsic+json": {
              "type": "string"
            }
          },
          "metadata": {},
          "execution_count": 3
        }
      ]
    },
    {
      "cell_type": "code",
      "source": [
        "\"%10.4f\" % 3.42134234\n",
        "\n",
        "# 소수점 네 번째 자리까지만 표시하고 전체 길이가 10개인 문자열 공간에서 오른쪽으로 정렬하는 예"
      ],
      "metadata": {
        "id": "QJi1b0Gk6_3i",
        "outputId": "197ecb29-dccb-4f88-b5a8-8f40d4e6934a",
        "colab": {
          "base_uri": "https://localhost:8080/",
          "height": 35
        }
      },
      "execution_count": null,
      "outputs": [
        {
          "output_type": "execute_result",
          "data": {
            "text/plain": [
              "'    3.4213'"
            ],
            "application/vnd.google.colaboratory.intrinsic+json": {
              "type": "string"
            }
          },
          "metadata": {},
          "execution_count": 4
        }
      ]
    },
    {
      "cell_type": "code",
      "source": [
        "# faomat함수를 사용한 포매팅\n",
        "# 문자열의 format 함수를 사용하면 좀 더 발전된 스타일로 문자열 포맷을 지정할 수 있다\n",
        "\n",
        "\"I eat {0} apples\".format(3)"
      ],
      "metadata": {
        "id": "3Fiw_Yv27Xft",
        "outputId": "fcbeb122-afc5-4c4c-8757-8e17e7ddeb63",
        "colab": {
          "base_uri": "https://localhost:8080/",
          "height": 35
        }
      },
      "execution_count": null,
      "outputs": [
        {
          "output_type": "execute_result",
          "data": {
            "text/plain": [
              "'I eat 3 apples'"
            ],
            "application/vnd.google.colaboratory.intrinsic+json": {
              "type": "string"
            }
          },
          "metadata": {},
          "execution_count": 5
        }
      ]
    },
    {
      "cell_type": "code",
      "source": [
        "# 문자열 바로 대입하기\n",
        "\n",
        "\"I eat {0} apples\".format(\"five\")"
      ],
      "metadata": {
        "id": "psP5uis97sfw",
        "outputId": "7e43a78e-28aa-4e15-938b-f8a9bc658478",
        "colab": {
          "base_uri": "https://localhost:8080/",
          "height": 35
        }
      },
      "execution_count": null,
      "outputs": [
        {
          "output_type": "execute_result",
          "data": {
            "text/plain": [
              "'I eat five apples'"
            ],
            "application/vnd.google.colaboratory.intrinsic+json": {
              "type": "string"
            }
          },
          "metadata": {},
          "execution_count": 6
        }
      ]
    },
    {
      "cell_type": "code",
      "source": [
        "# 숫자 값을 가진 변수로 대입하기\n",
        "\n",
        "numver = 3\n",
        "\"I eat {0} apples\".format(numver)"
      ],
      "metadata": {
        "id": "Vd8qeUL19TN1",
        "outputId": "ed078798-22f7-4b02-dcc0-5c29d1e79e08",
        "colab": {
          "base_uri": "https://localhost:8080/",
          "height": 35
        }
      },
      "execution_count": null,
      "outputs": [
        {
          "output_type": "execute_result",
          "data": {
            "text/plain": [
              "'I eat 3 apples'"
            ],
            "application/vnd.google.colaboratory.intrinsic+json": {
              "type": "string"
            }
          },
          "metadata": {},
          "execution_count": 7
        }
      ]
    },
    {
      "cell_type": "code",
      "source": [
        "# 2개 이상의 값 넣기\n",
        "\n",
        "number = 10\n",
        "day = \"three\"\n",
        "\"I ate {0} apples. so I was sick for {1} day.\".format(number, day)"
      ],
      "metadata": {
        "id": "7KE3RaXwBI6H",
        "outputId": "7d0c5803-6106-4b3d-efcc-869a272b9aaf",
        "colab": {
          "base_uri": "https://localhost:8080/",
          "height": 35
        }
      },
      "execution_count": null,
      "outputs": [
        {
          "output_type": "execute_result",
          "data": {
            "text/plain": [
              "'I ate 10 apples. so I was sick for three day.'"
            ],
            "application/vnd.google.colaboratory.intrinsic+json": {
              "type": "string"
            }
          },
          "metadata": {},
          "execution_count": 9
        }
      ]
    },
    {
      "cell_type": "code",
      "source": [
        "# 이름으로 넣기\n",
        "\n",
        "\"I ate {number} apples. so I was sick for {day} days.\".format(number=10, day=3)"
      ],
      "metadata": {
        "id": "gpSHwX3DBq9H",
        "outputId": "125d8414-6bc0-4454-ff12-20c75b626bec",
        "colab": {
          "base_uri": "https://localhost:8080/",
          "height": 35
        }
      },
      "execution_count": null,
      "outputs": [
        {
          "output_type": "execute_result",
          "data": {
            "text/plain": [
              "'I ate 10 apples. so I was sick for 3 days.'"
            ],
            "application/vnd.google.colaboratory.intrinsic+json": {
              "type": "string"
            }
          },
          "metadata": {},
          "execution_count": 10
        }
      ]
    },
    {
      "cell_type": "code",
      "source": [
        "# 인덱스와 이름을 혼용해서 넣기\n",
        "\n",
        "\"I ate {0} apples. so I was sick for {day} days.\".format(10, day=3)"
      ],
      "metadata": {
        "id": "RJ6cZuIMB-BU",
        "outputId": "eb8fa46b-4ee2-42b5-c0c9-ecaa9105cb05",
        "colab": {
          "base_uri": "https://localhost:8080/",
          "height": 35
        }
      },
      "execution_count": null,
      "outputs": [
        {
          "output_type": "execute_result",
          "data": {
            "text/plain": [
              "'I ate 10 apples. so I was sick for 3 days.'"
            ],
            "application/vnd.google.colaboratory.intrinsic+json": {
              "type": "string"
            }
          },
          "metadata": {},
          "execution_count": 11
        }
      ]
    },
    {
      "cell_type": "code",
      "source": [
        "# 왼쪽 정렬\n",
        "\n",
        "\"{0:<10}\".format(\"hi\")"
      ],
      "metadata": {
        "id": "vMclJ4chCSyD",
        "outputId": "4713e29e-61b5-41fc-ccf1-e10836c888e0",
        "colab": {
          "base_uri": "https://localhost:8080/",
          "height": 35
        }
      },
      "execution_count": null,
      "outputs": [
        {
          "output_type": "execute_result",
          "data": {
            "text/plain": [
              "'hi        '"
            ],
            "application/vnd.google.colaboratory.intrinsic+json": {
              "type": "string"
            }
          },
          "metadata": {},
          "execution_count": 13
        }
      ]
    },
    {
      "cell_type": "code",
      "source": [
        "# 오른쪽 정렬\n",
        "\n",
        "\"{0:>10}\".format(\"hi\")"
      ],
      "metadata": {
        "id": "gOKjPEN5CV3M",
        "outputId": "0a719229-d1f9-4660-b3b9-f0eab10e8555",
        "colab": {
          "base_uri": "https://localhost:8080/",
          "height": 35
        }
      },
      "execution_count": null,
      "outputs": [
        {
          "output_type": "execute_result",
          "data": {
            "text/plain": [
              "'        hi'"
            ],
            "application/vnd.google.colaboratory.intrinsic+json": {
              "type": "string"
            }
          },
          "metadata": {},
          "execution_count": 14
        }
      ]
    },
    {
      "cell_type": "code",
      "source": [
        "# 가운데 정렬\n",
        "\n",
        "\"{0:^10}\".format(\"hi\")"
      ],
      "metadata": {
        "id": "mIZPx0jACnw4",
        "outputId": "312de0b7-1f2c-4e67-c421-cd6356f9897e",
        "colab": {
          "base_uri": "https://localhost:8080/",
          "height": 35
        }
      },
      "execution_count": null,
      "outputs": [
        {
          "output_type": "execute_result",
          "data": {
            "text/plain": [
              "'    hi    '"
            ],
            "application/vnd.google.colaboratory.intrinsic+json": {
              "type": "string"
            }
          },
          "metadata": {},
          "execution_count": 15
        }
      ]
    },
    {
      "cell_type": "code",
      "source": [
        "# 공백 채우기\n",
        "\n",
        "\"{0:=^10}\".format(\"hi\")"
      ],
      "metadata": {
        "id": "CE_3kvWgCwVn",
        "outputId": "a1484ee8-6ff3-41c8-b0b8-dce1bceedd17",
        "colab": {
          "base_uri": "https://localhost:8080/",
          "height": 35
        }
      },
      "execution_count": null,
      "outputs": [
        {
          "output_type": "execute_result",
          "data": {
            "text/plain": [
              "'====hi===='"
            ],
            "application/vnd.google.colaboratory.intrinsic+json": {
              "type": "string"
            }
          },
          "metadata": {},
          "execution_count": 16
        }
      ]
    },
    {
      "cell_type": "code",
      "source": [
        "\"{0:!<10}\".format(\"hi\")"
      ],
      "metadata": {
        "id": "AsUXYyEMC468",
        "outputId": "46c1c773-ac88-41d9-fa12-20b392ee58be",
        "colab": {
          "base_uri": "https://localhost:8080/",
          "height": 35
        }
      },
      "execution_count": null,
      "outputs": [
        {
          "output_type": "execute_result",
          "data": {
            "text/plain": [
              "'hi!!!!!!!!'"
            ],
            "application/vnd.google.colaboratory.intrinsic+json": {
              "type": "string"
            }
          },
          "metadata": {},
          "execution_count": 17
        }
      ]
    },
    {
      "cell_type": "code",
      "source": [
        "# 소수점 표현하기\n",
        "\n",
        "y = 3.42134234\n",
        "\"{0:0.4f}\".format(y)"
      ],
      "metadata": {
        "id": "Fa3rYpVIC_aG",
        "outputId": "0150e186-6e68-4caf-9e5c-e71c1b20c471",
        "colab": {
          "base_uri": "https://localhost:8080/",
          "height": 35
        }
      },
      "execution_count": null,
      "outputs": [
        {
          "output_type": "execute_result",
          "data": {
            "text/plain": [
              "'3.4213'"
            ],
            "application/vnd.google.colaboratory.intrinsic+json": {
              "type": "string"
            }
          },
          "metadata": {},
          "execution_count": 18
        }
      ]
    },
    {
      "cell_type": "code",
      "source": [
        "\"{0:10.4f}\".format(y)"
      ],
      "metadata": {
        "id": "zf8_cOJwDKWN",
        "outputId": "fd367ff7-e4e0-42fa-d59d-4be2d6bbb306",
        "colab": {
          "base_uri": "https://localhost:8080/",
          "height": 35
        }
      },
      "execution_count": null,
      "outputs": [
        {
          "output_type": "execute_result",
          "data": {
            "text/plain": [
              "'    3.4213'"
            ],
            "application/vnd.google.colaboratory.intrinsic+json": {
              "type": "string"
            }
          },
          "metadata": {},
          "execution_count": 19
        }
      ]
    },
    {
      "cell_type": "code",
      "source": [
        "# {또는} 문자 표현하기\n",
        "\n",
        "\"{{ and }}\".format()"
      ],
      "metadata": {
        "id": "w0H_ytzeDu3l",
        "outputId": "2f2e9f2d-92c1-4893-b702-89b833a3e60f",
        "colab": {
          "base_uri": "https://localhost:8080/",
          "height": 35
        }
      },
      "execution_count": null,
      "outputs": [
        {
          "output_type": "execute_result",
          "data": {
            "text/plain": [
              "'{ and }'"
            ],
            "application/vnd.google.colaboratory.intrinsic+json": {
              "type": "string"
            }
          },
          "metadata": {},
          "execution_count": 25
        }
      ]
    },
    {
      "cell_type": "code",
      "source": [
        "# f 문자열 포매팅\n",
        "\n",
        "name = '홍길동'\n",
        "age = 30\n",
        "f'나의 이름은 {name}입니다. 나이는 {age}입니다.'\n",
        "\n",
        "# 문자열 앞에 f 접두사를 붙이면 f 문자열 포매팅 기능을 사용할 수 있다."
      ],
      "metadata": {
        "id": "jcauV-fJDxFO",
        "outputId": "e61e3627-aaa0-48a8-abf8-d5347f0ea869",
        "colab": {
          "base_uri": "https://localhost:8080/",
          "height": 35
        }
      },
      "execution_count": null,
      "outputs": [
        {
          "output_type": "execute_result",
          "data": {
            "text/plain": [
              "'나의 이름은 홍길동입니다. 나이는 30입니다.'"
            ],
            "application/vnd.google.colaboratory.intrinsic+json": {
              "type": "string"
            }
          },
          "metadata": {},
          "execution_count": 27
        }
      ]
    },
    {
      "cell_type": "code",
      "source": [
        "age = 30\n",
        "f'나는 내년이면 {age + 1}살이 된다.'"
      ],
      "metadata": {
        "id": "1-ZC8f_wDzim",
        "outputId": "ea782181-62b9-4bd5-ac2b-0733d4df2a07",
        "colab": {
          "base_uri": "https://localhost:8080/",
          "height": 35
        }
      },
      "execution_count": null,
      "outputs": [
        {
          "output_type": "execute_result",
          "data": {
            "text/plain": [
              "'나는 내년이면 31살이 된다.'"
            ],
            "application/vnd.google.colaboratory.intrinsic+json": {
              "type": "string"
            }
          },
          "metadata": {},
          "execution_count": 28
        }
      ]
    },
    {
      "cell_type": "code",
      "source": [
        "d = {'name':'홍길동', 'age':30}\n",
        "f'나의 이름은 {d[\"name\"]}입니다. 나이는 {d[\"age\"]}입니다.'"
      ],
      "metadata": {
        "id": "3tyVud7oD06B",
        "outputId": "3e5d54e2-b073-4069-8ce4-c23ddce9f33e",
        "colab": {
          "base_uri": "https://localhost:8080/",
          "height": 35
        }
      },
      "execution_count": null,
      "outputs": [
        {
          "output_type": "execute_result",
          "data": {
            "text/plain": [
              "'나의 이름은 홍길동입니다. 나이는 30입니다.'"
            ],
            "application/vnd.google.colaboratory.intrinsic+json": {
              "type": "string"
            }
          },
          "metadata": {},
          "execution_count": 29
        }
      ]
    },
    {
      "cell_type": "code",
      "source": [
        "# 정렬\n",
        "\n",
        "f'{\"hi\":<10}'   # 왼쪽 정렬"
      ],
      "metadata": {
        "id": "JiPmc-bGD3lk",
        "outputId": "4a828e50-a30e-49b4-d39d-27232e0aa5ea",
        "colab": {
          "base_uri": "https://localhost:8080/",
          "height": 35
        }
      },
      "execution_count": null,
      "outputs": [
        {
          "output_type": "execute_result",
          "data": {
            "text/plain": [
              "'hi        '"
            ],
            "application/vnd.google.colaboratory.intrinsic+json": {
              "type": "string"
            }
          },
          "metadata": {},
          "execution_count": 30
        }
      ]
    },
    {
      "cell_type": "code",
      "source": [
        "f'{\"hi\":>10}'   # 오른쪽 정렬"
      ],
      "metadata": {
        "id": "dpDjsalTVp_C",
        "outputId": "51ff01b2-da64-4445-be91-a751efe820ab",
        "colab": {
          "base_uri": "https://localhost:8080/",
          "height": 35
        }
      },
      "execution_count": null,
      "outputs": [
        {
          "output_type": "execute_result",
          "data": {
            "text/plain": [
              "'        hi'"
            ],
            "application/vnd.google.colaboratory.intrinsic+json": {
              "type": "string"
            }
          },
          "metadata": {},
          "execution_count": 31
        }
      ]
    },
    {
      "cell_type": "code",
      "source": [
        "f'{\"hi\":^10}'   # 가운데 정렬"
      ],
      "metadata": {
        "id": "YVZCblJ9Vvor",
        "outputId": "60856ff3-1682-4282-c879-7ed8fc99924f",
        "colab": {
          "base_uri": "https://localhost:8080/",
          "height": 35
        }
      },
      "execution_count": null,
      "outputs": [
        {
          "output_type": "execute_result",
          "data": {
            "text/plain": [
              "'    hi    '"
            ],
            "application/vnd.google.colaboratory.intrinsic+json": {
              "type": "string"
            }
          },
          "metadata": {},
          "execution_count": 32
        }
      ]
    },
    {
      "cell_type": "code",
      "source": [
        "#공백 채우기\n",
        "\n",
        "f'{\"hi\":=^10}'    # 가운데 정렬하고 '=' 문자로 공백 채우기"
      ],
      "metadata": {
        "id": "AmRgsFn8V25M",
        "outputId": "c4b11e12-aa5c-4b0b-8762-fa20b0878a88",
        "colab": {
          "base_uri": "https://localhost:8080/",
          "height": 35
        }
      },
      "execution_count": null,
      "outputs": [
        {
          "output_type": "execute_result",
          "data": {
            "text/plain": [
              "'====hi===='"
            ],
            "application/vnd.google.colaboratory.intrinsic+json": {
              "type": "string"
            }
          },
          "metadata": {},
          "execution_count": 33
        }
      ]
    },
    {
      "cell_type": "code",
      "source": [
        "f'{\"hi\":!<10}'    # 왼쪽 정렬하고 '!' 문자로 공백 채우기"
      ],
      "metadata": {
        "id": "MiXIkuhVWAsh",
        "outputId": "4e95c02f-d758-4e0d-97ef-14c5a7ba7166",
        "colab": {
          "base_uri": "https://localhost:8080/",
          "height": 35
        }
      },
      "execution_count": null,
      "outputs": [
        {
          "output_type": "execute_result",
          "data": {
            "text/plain": [
              "'hi!!!!!!!!'"
            ],
            "application/vnd.google.colaboratory.intrinsic+json": {
              "type": "string"
            }
          },
          "metadata": {},
          "execution_count": 34
        }
      ]
    },
    {
      "cell_type": "code",
      "source": [
        "# 소수점\n",
        "\n",
        "y = 3.42134234\n",
        "f'{y:0.4f}'   # 소수점 4자리까지만 표현"
      ],
      "metadata": {
        "id": "U1v7L9zyWLAv",
        "outputId": "38268355-1afa-4072-9102-c750041c4f5f",
        "colab": {
          "base_uri": "https://localhost:8080/",
          "height": 35
        }
      },
      "execution_count": null,
      "outputs": [
        {
          "output_type": "execute_result",
          "data": {
            "text/plain": [
              "'3.4213'"
            ],
            "application/vnd.google.colaboratory.intrinsic+json": {
              "type": "string"
            }
          },
          "metadata": {},
          "execution_count": 35
        }
      ]
    },
    {
      "cell_type": "code",
      "source": [
        "f'{y:10.4f}'    # 소수점 4자리까지 표현하고 총 자리수를 10으로 맞춤"
      ],
      "metadata": {
        "id": "hRPiNso6WXPA",
        "outputId": "37ac132c-3653-4e56-82f1-360fd6e0fe93",
        "colab": {
          "base_uri": "https://localhost:8080/",
          "height": 35
        }
      },
      "execution_count": null,
      "outputs": [
        {
          "output_type": "execute_result",
          "data": {
            "text/plain": [
              "'    3.4213'"
            ],
            "application/vnd.google.colaboratory.intrinsic+json": {
              "type": "string"
            }
          },
          "metadata": {},
          "execution_count": 36
        }
      ]
    },
    {
      "cell_type": "code",
      "source": [
        "# f 문자열에서 {}를 문자 그대로 표시하려면 다음과 같이 2개를 동시에 사용\n",
        "\n",
        "f'{{ and }}'"
      ],
      "metadata": {
        "id": "vI3hfZBDWeGE",
        "outputId": "fcfb094a-840d-42f1-d2a7-a52e8141969a",
        "colab": {
          "base_uri": "https://localhost:8080/",
          "height": 35
        }
      },
      "execution_count": null,
      "outputs": [
        {
          "output_type": "execute_result",
          "data": {
            "text/plain": [
              "'{ and }'"
            ],
            "application/vnd.google.colaboratory.intrinsic+json": {
              "type": "string"
            }
          },
          "metadata": {},
          "execution_count": 37
        }
      ]
    },
    {
      "cell_type": "code",
      "source": [
        "# f 문자열을 사용하여 <->금액에 콤마(,) 삽입하기\n",
        "\n",
        "f\"난 {1500000:,}원이 필요해\""
      ],
      "metadata": {
        "id": "D0CuzJmiWqCf",
        "outputId": "ef64a4fe-3810-4f9e-8c64-d08dec153224",
        "colab": {
          "base_uri": "https://localhost:8080/",
          "height": 35
        }
      },
      "execution_count": null,
      "outputs": [
        {
          "output_type": "execute_result",
          "data": {
            "text/plain": [
              "'난 1,500,000원이 필요해'"
            ],
            "application/vnd.google.colaboratory.intrinsic+json": {
              "type": "string"
            }
          },
          "metadata": {},
          "execution_count": 38
        }
      ]
    },
    {
      "cell_type": "code",
      "source": [
        "# 문자열 관련 함수들\n",
        "# 문자열 자료형은 자체적으로 함수를 가지고 있다.\n",
        "# '문자열 내장 함수'\n",
        "# 내장 함수를 사용하려면 문자열 변수 이름 뒤에 '.'를 붙인 후 함수 이름을 써 주면 된다."
      ],
      "metadata": {
        "id": "oo9hfTBgW7WQ"
      },
      "execution_count": null,
      "outputs": []
    },
    {
      "cell_type": "code",
      "source": [
        "# 문자 개수 세기 - count\n",
        "\n",
        "a = \"hobby\"\n",
        "a.count('b')"
      ],
      "metadata": {
        "id": "eRaRg2_fXIjw",
        "outputId": "0f40a2b2-dab3-4d64-d0d8-a952aa6ae11c",
        "colab": {
          "base_uri": "https://localhost:8080/"
        }
      },
      "execution_count": null,
      "outputs": [
        {
          "output_type": "execute_result",
          "data": {
            "text/plain": [
              "2"
            ]
          },
          "metadata": {},
          "execution_count": 39
        }
      ]
    },
    {
      "cell_type": "code",
      "source": [
        "# 위치 알려 주기 1 - find\n",
        "\n",
        "a = \"Python is the best choice\"\n",
        "a.find('b')\n",
        "\n",
        "# 파이썬은 숫자를 0부터 세기 때문에 b의 위치는 15가 아닌 14가 된다."
      ],
      "metadata": {
        "id": "3xy8JnLFXPTp",
        "outputId": "f146eef1-0888-440d-a55c-2fed3d6eef72",
        "colab": {
          "base_uri": "https://localhost:8080/"
        }
      },
      "execution_count": null,
      "outputs": [
        {
          "output_type": "execute_result",
          "data": {
            "text/plain": [
              "14"
            ]
          },
          "metadata": {},
          "execution_count": 40
        }
      ]
    },
    {
      "cell_type": "code",
      "source": [
        "a.find('k')"
      ],
      "metadata": {
        "id": "YkS7M3nCXYqC",
        "outputId": "28c64cca-5c37-4338-d8ca-e257983f0118",
        "colab": {
          "base_uri": "https://localhost:8080/"
        }
      },
      "execution_count": null,
      "outputs": [
        {
          "output_type": "execute_result",
          "data": {
            "text/plain": [
              "-1"
            ]
          },
          "metadata": {},
          "execution_count": 41
        }
      ]
    },
    {
      "cell_type": "code",
      "source": [
        "# 위치 알려 주기 2 - index\n",
        "\n",
        "a = \"Life is too short\"\n",
        "a.index('t')"
      ],
      "metadata": {
        "id": "UFPFHvvTXayS",
        "outputId": "47a50ff9-18f6-497a-ea88-987429cd22c6",
        "colab": {
          "base_uri": "https://localhost:8080/"
        }
      },
      "execution_count": null,
      "outputs": [
        {
          "output_type": "execute_result",
          "data": {
            "text/plain": [
              "8"
            ]
          },
          "metadata": {},
          "execution_count": 42
        }
      ]
    },
    {
      "cell_type": "code",
      "source": [
        "# 문자열 삽입 - join\n",
        "\n",
        "\",\".join('abcd')\n",
        "\n",
        "# join 함수로 abcd 문자열의 각각의 문자 사이에 ','를 삽입했다."
      ],
      "metadata": {
        "id": "VSy9D4dDXmdc",
        "outputId": "31f2ac9f-96ea-45c5-fc03-e34cee5d0629",
        "colab": {
          "base_uri": "https://localhost:8080/",
          "height": 35
        }
      },
      "execution_count": null,
      "outputs": [
        {
          "output_type": "execute_result",
          "data": {
            "text/plain": [
              "'a,b,c,d'"
            ],
            "application/vnd.google.colaboratory.intrinsic+json": {
              "type": "string"
            }
          },
          "metadata": {},
          "execution_count": 45
        }
      ]
    },
    {
      "cell_type": "code",
      "source": [
        "# 소문자를 대문자로 바꾸기 - upper\n",
        "\n",
        "a = \"hi\"\n",
        "a.upper()"
      ],
      "metadata": {
        "id": "hkfdJJ7WYKZM",
        "outputId": "a1ad1a44-8d08-4ef0-8490-92391def6c1f",
        "colab": {
          "base_uri": "https://localhost:8080/",
          "height": 35
        }
      },
      "execution_count": null,
      "outputs": [
        {
          "output_type": "execute_result",
          "data": {
            "text/plain": [
              "'HI'"
            ],
            "application/vnd.google.colaboratory.intrinsic+json": {
              "type": "string"
            }
          },
          "metadata": {},
          "execution_count": 46
        }
      ]
    },
    {
      "cell_type": "code",
      "source": [
        "# 대문자를 소문자로 바꾸기 - lower\n",
        "\n",
        "a = \"HI\"\n",
        "a.lower()"
      ],
      "metadata": {
        "id": "A1BgeoL-YzyI",
        "outputId": "e436da39-21a9-4784-c118-a0e19af73a09",
        "colab": {
          "base_uri": "https://localhost:8080/",
          "height": 35
        }
      },
      "execution_count": null,
      "outputs": [
        {
          "output_type": "execute_result",
          "data": {
            "text/plain": [
              "'hi'"
            ],
            "application/vnd.google.colaboratory.intrinsic+json": {
              "type": "string"
            }
          },
          "metadata": {},
          "execution_count": 47
        }
      ]
    },
    {
      "cell_type": "code",
      "source": [
        "# 왼쪽 공백 지우기 - Istrip\n",
        "\n",
        "a = \" hi\"\n",
        "a.lstrip()"
      ],
      "metadata": {
        "id": "ySvWwsFPZIHV",
        "outputId": "06d296c7-0746-497f-bef4-905b09342dab",
        "colab": {
          "base_uri": "https://localhost:8080/",
          "height": 35
        }
      },
      "execution_count": null,
      "outputs": [
        {
          "output_type": "execute_result",
          "data": {
            "text/plain": [
              "'hi'"
            ],
            "application/vnd.google.colaboratory.intrinsic+json": {
              "type": "string"
            }
          },
          "metadata": {},
          "execution_count": 49
        }
      ]
    },
    {
      "cell_type": "code",
      "source": [
        "# 오른쪽 공백 지우기 - rstrip\n",
        "\n",
        "a = \" hi \"\n",
        "a.rstrip()"
      ],
      "metadata": {
        "id": "_W-HgZ9zZVLW",
        "outputId": "8e65ac6f-f79a-49c3-ff85-12bd6bbd00c4",
        "colab": {
          "base_uri": "https://localhost:8080/",
          "height": 35
        }
      },
      "execution_count": null,
      "outputs": [
        {
          "output_type": "execute_result",
          "data": {
            "text/plain": [
              "' hi'"
            ],
            "application/vnd.google.colaboratory.intrinsic+json": {
              "type": "string"
            }
          },
          "metadata": {},
          "execution_count": 50
        }
      ]
    },
    {
      "cell_type": "code",
      "source": [
        "# 양쪽 공백 지우기 - strip\n",
        "\n",
        "a = \" hi \"\n",
        "a.strip()"
      ],
      "metadata": {
        "id": "pK9VwLqyZx5F",
        "outputId": "0f26f483-93e1-4c57-9690-13154e892476",
        "colab": {
          "base_uri": "https://localhost:8080/",
          "height": 35
        }
      },
      "execution_count": null,
      "outputs": [
        {
          "output_type": "execute_result",
          "data": {
            "text/plain": [
              "'hi'"
            ],
            "application/vnd.google.colaboratory.intrinsic+json": {
              "type": "string"
            }
          },
          "metadata": {},
          "execution_count": 51
        }
      ]
    },
    {
      "cell_type": "code",
      "source": [
        "# 문자열 바꾸기 - replace\n",
        "\n",
        "a = \"Life is too short\"\n",
        "a.replace(\"Life\", \"Your leg\")"
      ],
      "metadata": {
        "id": "PbCpU8C0blbd",
        "outputId": "abb3d8c9-5643-406c-c792-87659d9954cf",
        "colab": {
          "base_uri": "https://localhost:8080/",
          "height": 35
        }
      },
      "execution_count": null,
      "outputs": [
        {
          "output_type": "execute_result",
          "data": {
            "text/plain": [
              "'Your leg is too short'"
            ],
            "application/vnd.google.colaboratory.intrinsic+json": {
              "type": "string"
            }
          },
          "metadata": {},
          "execution_count": 52
        }
      ]
    },
    {
      "cell_type": "code",
      "source": [
        "# 문자열 나누기 - split\n",
        "\n",
        "a = \"Life is too short\"\n",
        "a.split()"
      ],
      "metadata": {
        "id": "qOZLW_4gbyze",
        "outputId": "5b504080-595f-4691-9be2-35763242d367",
        "colab": {
          "base_uri": "https://localhost:8080/"
        }
      },
      "execution_count": null,
      "outputs": [
        {
          "output_type": "execute_result",
          "data": {
            "text/plain": [
              "['Life', 'is', 'too', 'short']"
            ]
          },
          "metadata": {},
          "execution_count": 53
        }
      ]
    },
    {
      "cell_type": "code",
      "source": [
        "b = \"a:b:c:d\"\n",
        "b.split(':')"
      ],
      "metadata": {
        "id": "9ovtAC3kiGNH",
        "outputId": "b5c22ac7-aeed-429f-b814-a0390f344a3c",
        "colab": {
          "base_uri": "https://localhost:8080/"
        }
      },
      "execution_count": null,
      "outputs": [
        {
          "output_type": "execute_result",
          "data": {
            "text/plain": [
              "['a', 'b', 'c', 'd']"
            ]
          },
          "metadata": {},
          "execution_count": 54
        }
      ]
    },
    {
      "cell_type": "code",
      "source": [
        "# 착각하기 쉬운 문자열 함수\n",
        "\n",
        "a = 'hi'\n",
        "a.upper()"
      ],
      "metadata": {
        "id": "jVA1hyjujsEv",
        "outputId": "3f874b39-570f-49c7-8985-158a194b5d1a",
        "colab": {
          "base_uri": "https://localhost:8080/",
          "height": 35
        }
      },
      "execution_count": null,
      "outputs": [
        {
          "output_type": "execute_result",
          "data": {
            "text/plain": [
              "'HI'"
            ],
            "application/vnd.google.colaboratory.intrinsic+json": {
              "type": "string"
            }
          },
          "metadata": {},
          "execution_count": 55
        }
      ]
    },
    {
      "cell_type": "code",
      "source": [
        "a"
      ],
      "metadata": {
        "id": "VEUQslm6jyn2",
        "outputId": "0d23cb3f-c798-4316-dd4f-38e4afddc773",
        "colab": {
          "base_uri": "https://localhost:8080/",
          "height": 35
        }
      },
      "execution_count": null,
      "outputs": [
        {
          "output_type": "execute_result",
          "data": {
            "text/plain": [
              "'hi'"
            ],
            "application/vnd.google.colaboratory.intrinsic+json": {
              "type": "string"
            }
          },
          "metadata": {},
          "execution_count": 56
        }
      ]
    },
    {
      "cell_type": "code",
      "source": [
        "a = a.upper()\n",
        "a"
      ],
      "metadata": {
        "id": "Vu5mgaDBj0fs",
        "outputId": "fcbe4731-b1cc-4cfb-81b2-bca33c3d5441",
        "colab": {
          "base_uri": "https://localhost:8080/",
          "height": 35
        }
      },
      "execution_count": null,
      "outputs": [
        {
          "output_type": "execute_result",
          "data": {
            "text/plain": [
              "'HI'"
            ],
            "application/vnd.google.colaboratory.intrinsic+json": {
              "type": "string"
            }
          },
          "metadata": {},
          "execution_count": 57
        }
      ]
    },
    {
      "cell_type": "code",
      "source": [
        "# 응용하기\n",
        "\n",
        "year = 2025\n",
        "month = 2\n",
        "day = 27\n",
        "\n",
        "f'오늘은 {year}년 {month}월 {day}일."
      ],
      "metadata": {
        "id": "K9P6ZZxyMSUF",
        "outputId": "15b29796-18ea-4fd1-b2d9-5708416c98f6",
        "colab": {
          "base_uri": "https://localhost:8080/",
          "height": 110
        }
      },
      "execution_count": 12,
      "outputs": [
        {
          "output_type": "error",
          "ename": "SyntaxError",
          "evalue": "unterminated string literal (detected at line 7) (<ipython-input-12-1448d808f098>, line 7)",
          "traceback": [
            "\u001b[0;36m  File \u001b[0;32m\"<ipython-input-12-1448d808f098>\"\u001b[0;36m, line \u001b[0;32m7\u001b[0m\n\u001b[0;31m    f'오늘은 {year}년 {month}월 {day}일.\u001b[0m\n\u001b[0m    ^\u001b[0m\n\u001b[0;31mSyntaxError\u001b[0m\u001b[0;31m:\u001b[0m unterminated string literal (detected at line 7)\n"
          ]
        }
      ]
    }
  ]
}