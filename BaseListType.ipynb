{
  "nbformat": 4,
  "nbformat_minor": 0,
  "metadata": {
    "colab": {
      "provenance": [],
      "authorship_tag": "ABX9TyNmGqLspqbimCh5aIBETGKb",
      "include_colab_link": true
    },
    "kernelspec": {
      "name": "python3",
      "display_name": "Python 3"
    },
    "language_info": {
      "name": "python"
    }
  },
  "cells": [
    {
      "cell_type": "markdown",
      "metadata": {
        "id": "view-in-github",
        "colab_type": "text"
      },
      "source": [
        "<a href=\"https://colab.research.google.com/github/chae-eun-22/pythonStudy25/blob/master/BaseListType.ipynb\" target=\"_parent\"><img src=\"https://colab.research.google.com/assets/colab-badge.svg\" alt=\"Open In Colab\"/></a>"
      ]
    },
    {
      "cell_type": "code",
      "execution_count": 9,
      "metadata": {
        "colab": {
          "base_uri": "https://localhost:8080/"
        },
        "id": "skBDjKJUP8UT",
        "outputId": "a8b33935-b5e1-41b6-fcfd-d560d35cc11d"
      },
      "outputs": [
        {
          "output_type": "stream",
          "name": "stdout",
          "text": [
            "[1, 3, 5, 7, 9]\n"
          ]
        }
      ],
      "source": [
        "# 리스트 자료형\n",
        "# 리스트 만들고 사용하는 법\n",
        "\n",
        "odd = [1, 3, 5, 7, 9]\n",
        "\n",
        "print(odd)"
      ]
    },
    {
      "cell_type": "code",
      "source": [
        "a = []\n",
        "b = [1, 2, 3]\n",
        "c = ['Life', 'is', 'too', 'short']\n",
        "d = [1, 2, 'Life', 'is']\n",
        "e = [1, 2, ['Life', 'is']]\n",
        "\n",
        "# 비어 있는 리스트는 a = list()로 생성할 수 있다."
      ],
      "metadata": {
        "id": "c2TMxZGOTyre"
      },
      "execution_count": 11,
      "outputs": []
    },
    {
      "cell_type": "code",
      "source": [
        "# 리스트의 인덱싱과 슬라이싱\n",
        "# 리스트의 인덱싱\n",
        "\n",
        "a = [1, 2, 3]\n",
        "a"
      ],
      "metadata": {
        "colab": {
          "base_uri": "https://localhost:8080/"
        },
        "id": "lRgUVU0_UghX",
        "outputId": "9558569a-cbe7-40c1-a47b-01e4bb589c34"
      },
      "execution_count": 12,
      "outputs": [
        {
          "output_type": "execute_result",
          "data": {
            "text/plain": [
              "[1, 2, 3]"
            ]
          },
          "metadata": {},
          "execution_count": 12
        }
      ]
    },
    {
      "cell_type": "code",
      "source": [
        "a[0]\n",
        "\n",
        "# a[0]은 리스트 a의 첫 번째 요소값"
      ],
      "metadata": {
        "colab": {
          "base_uri": "https://localhost:8080/"
        },
        "id": "pSEkISZ7UpXu",
        "outputId": "f2c54e8e-fad8-4436-b8bb-6c4fcec23c2a"
      },
      "execution_count": 13,
      "outputs": [
        {
          "output_type": "execute_result",
          "data": {
            "text/plain": [
              "1"
            ]
          },
          "metadata": {},
          "execution_count": 13
        }
      ]
    },
    {
      "cell_type": "code",
      "source": [
        "a[0] + a[2]\n",
        "\n",
        "# 1+ 3으로 해석되어 값 4를 출력"
      ],
      "metadata": {
        "colab": {
          "base_uri": "https://localhost:8080/"
        },
        "id": "wLP73q9vUrS2",
        "outputId": "f24283fb-2b72-4584-e5fe-d7351e27f6fa"
      },
      "execution_count": 14,
      "outputs": [
        {
          "output_type": "execute_result",
          "data": {
            "text/plain": [
              "4"
            ]
          },
          "metadata": {},
          "execution_count": 14
        }
      ]
    },
    {
      "cell_type": "code",
      "source": [
        "a[-1]\n",
        "\n",
        "# a[-1]은 문자열에서와 마찬가지로 리스트 a의 마지막 요소값"
      ],
      "metadata": {
        "colab": {
          "base_uri": "https://localhost:8080/"
        },
        "id": "74SxrUJGU34-",
        "outputId": "3ac7c80d-6299-4a74-e3ce-d90fd50db4ef"
      },
      "execution_count": 17,
      "outputs": [
        {
          "output_type": "execute_result",
          "data": {
            "text/plain": [
              "3"
            ]
          },
          "metadata": {},
          "execution_count": 17
        }
      ]
    },
    {
      "cell_type": "code",
      "source": [
        "a = [1, 2, 3, ['a', 'b', 'c']]\n",
        "\n",
        "a[0]"
      ],
      "metadata": {
        "colab": {
          "base_uri": "https://localhost:8080/"
        },
        "id": "pbj6xV5-VCxW",
        "outputId": "3592cf54-84e6-4bd4-867e-68a4ccc9233c"
      },
      "execution_count": 19,
      "outputs": [
        {
          "output_type": "execute_result",
          "data": {
            "text/plain": [
              "1"
            ]
          },
          "metadata": {},
          "execution_count": 19
        }
      ]
    },
    {
      "cell_type": "code",
      "source": [
        "a[-1]"
      ],
      "metadata": {
        "colab": {
          "base_uri": "https://localhost:8080/"
        },
        "id": "im5Fy0UhVREG",
        "outputId": "64302251-ae86-44d2-83bd-02df0500a592"
      },
      "execution_count": 20,
      "outputs": [
        {
          "output_type": "execute_result",
          "data": {
            "text/plain": [
              "['a', 'b', 'c']"
            ]
          },
          "metadata": {},
          "execution_count": 20
        }
      ]
    },
    {
      "cell_type": "code",
      "source": [
        "a[3]"
      ],
      "metadata": {
        "colab": {
          "base_uri": "https://localhost:8080/"
        },
        "id": "pTKT763nVZS-",
        "outputId": "397a690f-f9c0-476b-de5c-e84923b8d815"
      },
      "execution_count": 21,
      "outputs": [
        {
          "output_type": "execute_result",
          "data": {
            "text/plain": [
              "['a', 'b', 'c']"
            ]
          },
          "metadata": {},
          "execution_count": 21
        }
      ]
    },
    {
      "cell_type": "code",
      "source": [
        "a[-1][0]\n",
        "\n",
        "# a[-1]이 ['a', 'b', 'c'] 리스트이고, 첫 번째 요소를 불러오기 위해 [0]"
      ],
      "metadata": {
        "colab": {
          "base_uri": "https://localhost:8080/",
          "height": 35
        },
        "id": "oz5Nnoz3VbGW",
        "outputId": "5bcd8fec-9bb1-40df-cd67-711068c7d933"
      },
      "execution_count": 22,
      "outputs": [
        {
          "output_type": "execute_result",
          "data": {
            "text/plain": [
              "'a'"
            ],
            "application/vnd.google.colaboratory.intrinsic+json": {
              "type": "string"
            }
          },
          "metadata": {},
          "execution_count": 22
        }
      ]
    },
    {
      "cell_type": "code",
      "source": [
        "a[-1][1]\n",
        "\n",
        "# a[-1]이 ['a', 'b', 'c'] 리스트이고, 두 번째 요소를 불러오기 위해 [1]"
      ],
      "metadata": {
        "colab": {
          "base_uri": "https://localhost:8080/",
          "height": 35
        },
        "id": "f7mAuleVVte2",
        "outputId": "8fca940b-8f07-4c11-d440-c1bceb9ab0eb"
      },
      "execution_count": 23,
      "outputs": [
        {
          "output_type": "execute_result",
          "data": {
            "text/plain": [
              "'b'"
            ],
            "application/vnd.google.colaboratory.intrinsic+json": {
              "type": "string"
            }
          },
          "metadata": {},
          "execution_count": 23
        }
      ]
    },
    {
      "cell_type": "code",
      "source": [
        "a[-1][2]\n",
        "\n",
        "# a[-1]이 ['a', 'b', 'c'] 리스트이고, 세 번째 요소를 불러오기 위해 [2]"
      ],
      "metadata": {
        "colab": {
          "base_uri": "https://localhost:8080/",
          "height": 35
        },
        "id": "Nn6Z0wriWApH",
        "outputId": "ff972518-4d45-49ee-dc02-1a641cb583e7"
      },
      "execution_count": 24,
      "outputs": [
        {
          "output_type": "execute_result",
          "data": {
            "text/plain": [
              "'c'"
            ],
            "application/vnd.google.colaboratory.intrinsic+json": {
              "type": "string"
            }
          },
          "metadata": {},
          "execution_count": 24
        }
      ]
    },
    {
      "cell_type": "code",
      "source": [
        "# 삼중 리스트에서 인덱싱하기\n",
        "\n",
        "a = [1, 2, ['a', 'b', ['Life', 'is']]]\n",
        "\n",
        "# 'Life' 문자열만 끄집어 내기\n",
        "\n",
        "a[2][2][0]\n",
        "\n",
        "# a의 세 번째 요소인 리스트 ['a', 'b', ['Life', 'is']]에서 세 번째 요소인 리스트 ['Life', 'is']의 첫 번째 요소"
      ],
      "metadata": {
        "colab": {
          "base_uri": "https://localhost:8080/",
          "height": 35
        },
        "id": "JPP2jTA8WH_m",
        "outputId": "2bb2bc23-51bd-45e7-ff65-d32ea43af578"
      },
      "execution_count": 27,
      "outputs": [
        {
          "output_type": "execute_result",
          "data": {
            "text/plain": [
              "'Life'"
            ],
            "application/vnd.google.colaboratory.intrinsic+json": {
              "type": "string"
            }
          },
          "metadata": {},
          "execution_count": 27
        }
      ]
    },
    {
      "cell_type": "code",
      "source": [
        "# 리스트의 슬라이싱\n",
        "# 슬라이싱은 '잘라 낸다'라는 뜻\n",
        "\n",
        "a = [1, 2, 3, 4, 5]\n",
        "a[0:2]"
      ],
      "metadata": {
        "colab": {
          "base_uri": "https://localhost:8080/"
        },
        "id": "z932QhLjWaBv",
        "outputId": "445f450d-e2d4-4bc0-db19-a913d99577a7"
      },
      "execution_count": 28,
      "outputs": [
        {
          "output_type": "execute_result",
          "data": {
            "text/plain": [
              "[1, 2]"
            ]
          },
          "metadata": {},
          "execution_count": 28
        }
      ]
    },
    {
      "cell_type": "code",
      "source": [
        "a = \"12345\"\n",
        "a[0:2]"
      ],
      "metadata": {
        "colab": {
          "base_uri": "https://localhost:8080/",
          "height": 35
        },
        "id": "38U0ZE80WsLX",
        "outputId": "738893d3-3e4e-4793-9c42-ebeee02a0695"
      },
      "execution_count": 29,
      "outputs": [
        {
          "output_type": "execute_result",
          "data": {
            "text/plain": [
              "'12'"
            ],
            "application/vnd.google.colaboratory.intrinsic+json": {
              "type": "string"
            }
          },
          "metadata": {},
          "execution_count": 29
        }
      ]
    },
    {
      "cell_type": "code",
      "source": [
        "a = [1, 2, 3, 4, 5]\n",
        "b = a[:2]\n",
        "c = a[2:]\n",
        "\n",
        "b\n",
        "\n",
        "# b 변수는 리스트 a의 첫 번째 요소부터 두 번쨰 요소인 a[1]까지 나타내는 리스트\n",
        "# a[2] 값인 3은 포함되지 않는다."
      ],
      "metadata": {
        "colab": {
          "base_uri": "https://localhost:8080/"
        },
        "id": "nsQ4TsXPW9kB",
        "outputId": "a1703577-60ed-4f1a-8029-a274d7ad765d"
      },
      "execution_count": 31,
      "outputs": [
        {
          "output_type": "execute_result",
          "data": {
            "text/plain": [
              "[1, 2]"
            ]
          },
          "metadata": {},
          "execution_count": 31
        }
      ]
    },
    {
      "cell_type": "code",
      "source": [
        "c\n",
        "\n",
        "# c라는 변수는 리스트 a의 세 번째 요소부터 끝까지 나타내는 리스트"
      ],
      "metadata": {
        "colab": {
          "base_uri": "https://localhost:8080/"
        },
        "id": "-tLAd8N7XFeH",
        "outputId": "c21b0502-136c-4dba-c227-b0cbb7449dd6"
      },
      "execution_count": 32,
      "outputs": [
        {
          "output_type": "execute_result",
          "data": {
            "text/plain": [
              "[3, 4, 5]"
            ]
          },
          "metadata": {},
          "execution_count": 32
        }
      ]
    },
    {
      "cell_type": "code",
      "source": [
        "# 중첩된 리스트에스 슬라이싱\n",
        "\n",
        "a = [1, 2, 3, ['a', 'b', 'c'], 4, 5]\n",
        "a[2:5]\n",
        "\n",
        "# a[2:5]는 a의 세 번째 요소부터 여섯 번째 요소 직전 까지의 값, 즉 [3, ['a', 'b', 'c'], 4]"
      ],
      "metadata": {
        "colab": {
          "base_uri": "https://localhost:8080/"
        },
        "id": "Ij1VbVXTXXJ_",
        "outputId": "71261dc0-ebb5-46fc-d157-c831cccd9cf3"
      },
      "execution_count": 36,
      "outputs": [
        {
          "output_type": "execute_result",
          "data": {
            "text/plain": [
              "[3, ['a', 'b', 'c'], 4]"
            ]
          },
          "metadata": {},
          "execution_count": 36
        }
      ]
    },
    {
      "cell_type": "code",
      "source": [
        "a[3][:2]\n",
        "\n",
        "# a[3]은 ['a', 'b', 'c']이고, a[3][:2]는 ['a', 'b', 'c']의 첫 번째 요소부터 세 번째 요소 직전까지의 값, 즉 ['a', 'b']"
      ],
      "metadata": {
        "colab": {
          "base_uri": "https://localhost:8080/"
        },
        "id": "LAWMw8n1Xj93",
        "outputId": "a04d9a6b-5e8a-406a-eeb5-6857098bed93"
      },
      "execution_count": 34,
      "outputs": [
        {
          "output_type": "execute_result",
          "data": {
            "text/plain": [
              "['a', 'b']"
            ]
          },
          "metadata": {},
          "execution_count": 34
        }
      ]
    },
    {
      "cell_type": "code",
      "source": [
        "# 리스트 연산하기\n",
        "# 리스트 역시 +를사용해서 더할 수 있고 *를 사용해서 반복할 수 있다.\n",
        "\n",
        "# 리스트 더하기(+)\n",
        "\n",
        "a = [1, 2, 3]\n",
        "b = [4, 5, 6]\n",
        "a + b\n",
        "\n",
        "# 리스트 사이에서 +는 2개의 리스트를 합치는 기능\n",
        "# 문자열에서 \"abc\" + \"def\" = \"abcdef\"가 되는 것과 같은 이치"
      ],
      "metadata": {
        "colab": {
          "base_uri": "https://localhost:8080/"
        },
        "id": "I-ILbuz-YXIv",
        "outputId": "e0bf1570-6316-4319-f7a1-9460d7f91fc6"
      },
      "execution_count": 38,
      "outputs": [
        {
          "output_type": "execute_result",
          "data": {
            "text/plain": [
              "[1, 2, 3, 4, 5, 6]"
            ]
          },
          "metadata": {},
          "execution_count": 38
        }
      ]
    },
    {
      "cell_type": "code",
      "source": [
        "# 리스트 반복하기(*)\n",
        "\n",
        "a = [1, 2, 3]\n",
        "a * 3\n",
        "\n",
        "# [1,2,3] 리스트가 세 번 반복되어 새로운 리스트를 만들어 낸다.\n",
        "# 문자열에서 \"abc\" * c = \"abcabcabc\"가 되는 것과 같은 이치"
      ],
      "metadata": {
        "colab": {
          "base_uri": "https://localhost:8080/"
        },
        "id": "_G25e1QWZDDH",
        "outputId": "b4d26383-e9cf-4ae7-bee2-2ae267bc125a"
      },
      "execution_count": 39,
      "outputs": [
        {
          "output_type": "execute_result",
          "data": {
            "text/plain": [
              "[1, 2, 3, 1, 2, 3, 1, 2, 3]"
            ]
          },
          "metadata": {},
          "execution_count": 39
        }
      ]
    },
    {
      "cell_type": "code",
      "source": [
        "# 리스트 길이 구하기\n",
        "\n",
        "a = [1, 2, 3]\n",
        "len(a)\n",
        "\n",
        "# len은 문자열, 리스트 외에 튜플과 딕셔너리에도 사용할 수 있는 함수"
      ],
      "metadata": {
        "colab": {
          "base_uri": "https://localhost:8080/"
        },
        "id": "1iTyR8GYZYGA",
        "outputId": "1ec675c1-f750-4272-c6b0-068bc7d6956e"
      },
      "execution_count": 40,
      "outputs": [
        {
          "output_type": "execute_result",
          "data": {
            "text/plain": [
              "3"
            ]
          },
          "metadata": {},
          "execution_count": 40
        }
      ]
    },
    {
      "cell_type": "code",
      "source": [
        "# 초보자가 범하기 쉬운 연산 오류\n",
        "\n",
        "a = [1, 2, 3]\n",
        "str(a[2]) + \"hi\"\n",
        "\n",
        "# a[2]에 저장된 값은 3이라는 정수인데 \"hi\"는 문자열이다.\n",
        "# 정수와 문자열은 당연히 서로 더할 수 없기 때문에 오류가 발생\n",
        "# str은 정수나 실수를 문자열로 바꾸어 주는 파이썬의 내장 함수"
      ],
      "metadata": {
        "colab": {
          "base_uri": "https://localhost:8080/",
          "height": 35
        },
        "id": "Nfbhb1PSZjon",
        "outputId": "fcce89ec-3a48-41c8-e883-dc5c61ab6f7e"
      },
      "execution_count": 44,
      "outputs": [
        {
          "output_type": "execute_result",
          "data": {
            "text/plain": [
              "'3hi'"
            ],
            "application/vnd.google.colaboratory.intrinsic+json": {
              "type": "string"
            }
          },
          "metadata": {},
          "execution_count": 44
        }
      ]
    },
    {
      "cell_type": "code",
      "source": [
        "# 리스트는 값을 수정하거나 삭제할 수 있다.\n",
        "\n",
        "#리스트의 값 수정하기\n",
        "\n",
        "a = [1, 2, 3]\n",
        "a[2] = 4\n",
        "a\n",
        "\n",
        "# a[2]의 요솟값 3이 4로 바뀌었다."
      ],
      "metadata": {
        "colab": {
          "base_uri": "https://localhost:8080/"
        },
        "id": "9sDcoA6uZ44w",
        "outputId": "fa47b9f6-1c00-40ae-dc20-f41b697efa93"
      },
      "execution_count": 45,
      "outputs": [
        {
          "output_type": "execute_result",
          "data": {
            "text/plain": [
              "[1, 2, 4]"
            ]
          },
          "metadata": {},
          "execution_count": 45
        }
      ]
    },
    {
      "cell_type": "code",
      "source": [
        "# del 함수를 사용해 리스트 요소 삭제하기\n",
        "\n",
        "a = [1, 2, 3]\n",
        "del a[1]\n",
        "a\n",
        "\n",
        "# del a[x]는 x번째 요솟값을 삭제한다.\n",
        "# a 리스트에서 a[1]을 삭제했다.\n",
        "# del 함수는 파이썬이 자체적으로 가지고 있는 삭제 함수"
      ],
      "metadata": {
        "colab": {
          "base_uri": "https://localhost:8080/"
        },
        "id": "YD-67455aZSQ",
        "outputId": "95fbb3a4-4a09-4c66-e246-9638162d0355"
      },
      "execution_count": 46,
      "outputs": [
        {
          "output_type": "execute_result",
          "data": {
            "text/plain": [
              "[1, 3]"
            ]
          },
          "metadata": {},
          "execution_count": 46
        }
      ]
    },
    {
      "cell_type": "code",
      "source": [
        "# del 객체\n",
        "# 객체란 파이썬에서 사용되는 모든 자료형\n",
        "# 슬라이싱 기법을 사용하여 리스트의 요소 여러 개를 한꺼번에 삭제할 수 있다.\n",
        "\n",
        "a = [1, 2, 3, 4, 5]\n",
        "del a[2:]\n",
        "a\n",
        "\n",
        "# a[2:]에 해당하는 리스트의 요소들이 삭제되었다."
      ],
      "metadata": {
        "colab": {
          "base_uri": "https://localhost:8080/"
        },
        "id": "TxWCDvMbaq-A",
        "outputId": "04402748-928c-4a56-9179-978ee83bdd3c"
      },
      "execution_count": 49,
      "outputs": [
        {
          "output_type": "execute_result",
          "data": {
            "text/plain": [
              "[1, 2]"
            ]
          },
          "metadata": {},
          "execution_count": 49
        }
      ]
    },
    {
      "cell_type": "code",
      "source": [
        "# 리스트 관련 함수\n",
        "# 리스트에 요소 추가하기 - append\n",
        "# append의 사전적 의미는 '덧붙이다, 첨부하다'\n",
        "# append(x)는 리스트의 맨 마지막에 x를 추가하는 함수\n",
        "\n",
        "a = [1, 2, 3]\n",
        "a.append(4)\n",
        "a"
      ],
      "metadata": {
        "colab": {
          "base_uri": "https://localhost:8080/"
        },
        "id": "uBrDk2GZbJ6A",
        "outputId": "5fd8fba9-2006-4bd5-d04d-0e8ee7d0f50b"
      },
      "execution_count": 50,
      "outputs": [
        {
          "output_type": "execute_result",
          "data": {
            "text/plain": [
              "[1, 2, 3, 4]"
            ]
          },
          "metadata": {},
          "execution_count": 50
        }
      ]
    },
    {
      "cell_type": "code",
      "source": [
        "a.append([5, 6])\n",
        "a\n",
        "\n",
        "# 리스트에 다시 리스트를 추가한 결과"
      ],
      "metadata": {
        "colab": {
          "base_uri": "https://localhost:8080/"
        },
        "id": "UTcUvkhibbo4",
        "outputId": "5b2858b4-7c37-4033-9742-ba5871695dd1"
      },
      "execution_count": 51,
      "outputs": [
        {
          "output_type": "execute_result",
          "data": {
            "text/plain": [
              "[1, 2, 3, 4, [5, 6]]"
            ]
          },
          "metadata": {},
          "execution_count": 51
        }
      ]
    },
    {
      "cell_type": "code",
      "source": [
        "# 리스트 정렬 - sort\n",
        "# sort 함수는 리스트의 요소를 순서대로 정렬\n",
        "\n",
        "a = [1, 4, 3, 2]\n",
        "a.sort()\n",
        "a"
      ],
      "metadata": {
        "colab": {
          "base_uri": "https://localhost:8080/"
        },
        "id": "iCoDuKdKboAo",
        "outputId": "a67d7d5b-e081-4bb8-d6f5-df6dff0d10aa"
      },
      "execution_count": 52,
      "outputs": [
        {
          "output_type": "execute_result",
          "data": {
            "text/plain": [
              "[1, 2, 3, 4]"
            ]
          },
          "metadata": {},
          "execution_count": 52
        }
      ]
    },
    {
      "cell_type": "code",
      "source": [
        "# 문자 역시 알파벳 순서로 정렬\n",
        "\n",
        "a = ['a', 'c', 'b']\n",
        "a.sort()\n",
        "a"
      ],
      "metadata": {
        "colab": {
          "base_uri": "https://localhost:8080/"
        },
        "id": "rOTSZmqMbxdY",
        "outputId": "2f576065-ecc5-4fc9-ac3e-0d1254928614"
      },
      "execution_count": 53,
      "outputs": [
        {
          "output_type": "execute_result",
          "data": {
            "text/plain": [
              "['a', 'b', 'c']"
            ]
          },
          "metadata": {},
          "execution_count": 53
        }
      ]
    },
    {
      "cell_type": "code",
      "source": [
        "# 리스트 뒤집기 - reverse\n",
        "# reverse 함수는 리스트를 역순으로 뒤집어 준다.\n",
        "# 리스트 요소들을 순서대로 정렬한 다음 다시 역순으로 정렬하는 것이 아니라 현재의 리스트를 그대로 거꾸로 뒤집는다.\n",
        "\n",
        "a = ['a', 'c', 'b']\n",
        "a.reverse()\n",
        "a"
      ],
      "metadata": {
        "colab": {
          "base_uri": "https://localhost:8080/"
        },
        "id": "4g_BppCFazMg",
        "outputId": "023269b8-e1bf-4b98-d711-b9cb55e52749"
      },
      "execution_count": 54,
      "outputs": [
        {
          "output_type": "execute_result",
          "data": {
            "text/plain": [
              "['b', 'c', 'a']"
            ]
          },
          "metadata": {},
          "execution_count": 54
        }
      ]
    },
    {
      "cell_type": "code",
      "source": [
        "# 인덱스 반환 - index\n",
        "# index(x) 함수는 리스트에 x 값이 있으면 x의 인덱스 값(위칫값)을 리턴\n",
        "\n",
        "a = [1, 2, 3]\n",
        "a.index(3)\n",
        "\n",
        "# 리스트 a에 있는 숫자 3의 위치는 a[2]이므로 2"
      ],
      "metadata": {
        "colab": {
          "base_uri": "https://localhost:8080/"
        },
        "id": "_cSIJ6VicLAY",
        "outputId": "cb6c7546-43e8-44b2-b169-ed5933625ecd"
      },
      "execution_count": 55,
      "outputs": [
        {
          "output_type": "execute_result",
          "data": {
            "text/plain": [
              "2"
            ]
          },
          "metadata": {},
          "execution_count": 55
        }
      ]
    },
    {
      "cell_type": "code",
      "source": [
        "a.index(1)\n",
        "\n",
        "# 숫자 1의 위치는 a[0]이므로 0을 리턴"
      ],
      "metadata": {
        "colab": {
          "base_uri": "https://localhost:8080/"
        },
        "id": "JmJcEgRPcVIg",
        "outputId": "7584c45f-26e1-4516-bdf0-daced0c5d650"
      },
      "execution_count": 56,
      "outputs": [
        {
          "output_type": "execute_result",
          "data": {
            "text/plain": [
              "0"
            ]
          },
          "metadata": {},
          "execution_count": 56
        }
      ]
    },
    {
      "cell_type": "code",
      "source": [
        "# 리스트에 요소 삽입 - insert\n",
        "# insert(a, b)는 리스트의 a번째 위치에 b를 삽입하는 함수\n",
        "# 파이썬은 숫자를 0부터 센다\n",
        "\n",
        "a = [1, 2, 3]\n",
        "a.insert(0, 4)\n",
        "a\n",
        "\n",
        "# 0번째 자리, 즉 첫 번째 요소인 a[0] 위치에 값 4를 삽입하라는 뜻"
      ],
      "metadata": {
        "colab": {
          "base_uri": "https://localhost:8080/"
        },
        "id": "zgcRYAPVcpnY",
        "outputId": "dec6d5a7-e8ef-470b-a49d-f60b691f379e"
      },
      "execution_count": 57,
      "outputs": [
        {
          "output_type": "execute_result",
          "data": {
            "text/plain": [
              "[4, 1, 2, 3]"
            ]
          },
          "metadata": {},
          "execution_count": 57
        }
      ]
    },
    {
      "cell_type": "code",
      "source": [
        "a.insert(3, 5)\n",
        "a\n",
        "\n",
        "# 리스트 a의 a[3], 즉 네 번째 요소 위치에 값 5를 삽입하라는 뜻"
      ],
      "metadata": {
        "colab": {
          "base_uri": "https://localhost:8080/"
        },
        "id": "LyU4NZtJdEx4",
        "outputId": "6acad7ec-6d08-400b-f595-f8ade68b08e7"
      },
      "execution_count": 58,
      "outputs": [
        {
          "output_type": "execute_result",
          "data": {
            "text/plain": [
              "[4, 1, 2, 5, 3]"
            ]
          },
          "metadata": {},
          "execution_count": 58
        }
      ]
    },
    {
      "cell_type": "code",
      "source": [
        "# 리스트 요소 제거 - remove\n",
        "# remove(x)는 리스트에서 첫 번째로 나오는 x를 삭제하는 함수\n",
        "\n",
        "a = [1, 2, 3, 1, 2, 3]\n",
        "a.remove(3)\n",
        "a\n",
        "\n",
        "# a가 3이라는 값을 2개 가지고 있을 경우, 첫 번째 3만 제거되는 것"
      ],
      "metadata": {
        "colab": {
          "base_uri": "https://localhost:8080/"
        },
        "id": "UhFtxEigdSu4",
        "outputId": "f4ade401-a9ed-49da-879c-cb30055b6f85"
      },
      "execution_count": 59,
      "outputs": [
        {
          "output_type": "execute_result",
          "data": {
            "text/plain": [
              "[1, 2, 1, 2, 3]"
            ]
          },
          "metadata": {},
          "execution_count": 59
        }
      ]
    },
    {
      "cell_type": "code",
      "source": [
        "a.remove(3)\n",
        "a\n",
        "\n",
        "# remove(3)을 한 번 더 실행하면 다시 3이 삭제된다."
      ],
      "metadata": {
        "colab": {
          "base_uri": "https://localhost:8080/"
        },
        "id": "uSIUlUvydhg5",
        "outputId": "b46b573f-922a-4151-dcde-0069c9bfe9ac"
      },
      "execution_count": 60,
      "outputs": [
        {
          "output_type": "execute_result",
          "data": {
            "text/plain": [
              "[1, 2, 1, 2]"
            ]
          },
          "metadata": {},
          "execution_count": 60
        }
      ]
    },
    {
      "cell_type": "code",
      "source": [
        "# 리스트 요소 끄집어 내기 - pop\n",
        "# pop()은 리스트의 맨 마지막 요소를 리턴하고 그 요소는 삭제\n",
        "\n",
        "a = [1, 2, 3]\n",
        "a.pop()\n",
        "\n",
        "# a 리스트 [1, 2, 3]에서 3을 끄집어 내고,"
      ],
      "metadata": {
        "colab": {
          "base_uri": "https://localhost:8080/"
        },
        "id": "RSABUc-vd77R",
        "outputId": "6d91e4cb-d142-4b0a-cc3b-aa1afb90d36a"
      },
      "execution_count": 61,
      "outputs": [
        {
          "output_type": "execute_result",
          "data": {
            "text/plain": [
              "3"
            ]
          },
          "metadata": {},
          "execution_count": 61
        }
      ]
    },
    {
      "cell_type": "code",
      "source": [
        "a\n",
        "\n",
        "# 최종적으로 [1, 2]만 남는 것"
      ],
      "metadata": {
        "colab": {
          "base_uri": "https://localhost:8080/"
        },
        "id": "-PrQh94aeG6Z",
        "outputId": "dbdef8f4-8937-46f7-dde3-ce34983b5115"
      },
      "execution_count": 62,
      "outputs": [
        {
          "output_type": "execute_result",
          "data": {
            "text/plain": [
              "[1, 2]"
            ]
          },
          "metadata": {},
          "execution_count": 62
        }
      ]
    },
    {
      "cell_type": "code",
      "source": [
        "# pop(x)는 리스트의 x번째 요소를 리턴하고 그 요소는 삭제\n",
        "\n",
        "a = [1, 2, 3]\n",
        "a.pop(1)\n",
        "\n",
        "# a.pop(1)은 a[1]의 값을 끄집어 내어 리턴"
      ],
      "metadata": {
        "colab": {
          "base_uri": "https://localhost:8080/"
        },
        "id": "Yc54kZz6eY-x",
        "outputId": "1712cd64-353c-422d-9943-4f018dffa27f"
      },
      "execution_count": 63,
      "outputs": [
        {
          "output_type": "execute_result",
          "data": {
            "text/plain": [
              "2"
            ]
          },
          "metadata": {},
          "execution_count": 63
        }
      ]
    },
    {
      "cell_type": "code",
      "source": [
        "a\n",
        "\n",
        "# 다시 a를 출력해 보면 끄집어 낸 값이 삭제된 것을 확인할 수 있다."
      ],
      "metadata": {
        "colab": {
          "base_uri": "https://localhost:8080/"
        },
        "id": "z5b9DAFaekax",
        "outputId": "fecdd73b-4e2b-4421-f9ef-74ee35ac8225"
      },
      "execution_count": 64,
      "outputs": [
        {
          "output_type": "execute_result",
          "data": {
            "text/plain": [
              "[1, 3]"
            ]
          },
          "metadata": {},
          "execution_count": 64
        }
      ]
    },
    {
      "cell_type": "code",
      "source": [
        "# 리스트에 포함된 요소 x의 개수 세기 - count\n",
        "# count(x)는 리스트 안에 x가 몇 개 있는지 조사하여 그 개수를 리턴하는 함수\n",
        "\n",
        "a = [1, 2, 3, 1]\n",
        "a.count(1)\n",
        "\n",
        "# 1이라는 값이 리스트 a에 2개 들어 있으므로 2를 리턴한다."
      ],
      "metadata": {
        "colab": {
          "base_uri": "https://localhost:8080/"
        },
        "id": "WCVnxMGKewN5",
        "outputId": "35ac022b-cb71-4604-d2fa-ead456fd50f9"
      },
      "execution_count": 66,
      "outputs": [
        {
          "output_type": "execute_result",
          "data": {
            "text/plain": [
              "2"
            ]
          },
          "metadata": {},
          "execution_count": 66
        }
      ]
    },
    {
      "cell_type": "code",
      "source": [
        "# 리스트 확장 - extend\n",
        "# extend(x)에서 x에는 리스트만 올 수 있으며 원래의 a 리스트에 x 리스트를 더하게 된다.\n",
        "\n",
        "a = [1, 2, 3]\n",
        "a.extend([4, 5])\n",
        "a\n",
        "\n",
        "# a.extend([4, 5])는 a += [4, 5]와 동일\n",
        "# a += [4, 5]는 a = a + [4, 5]와 동일한 표현식"
      ],
      "metadata": {
        "colab": {
          "base_uri": "https://localhost:8080/"
        },
        "id": "Eja4UrvZfHmJ",
        "outputId": "df797d5e-05f6-439a-fb7b-87707416064a"
      },
      "execution_count": 67,
      "outputs": [
        {
          "output_type": "execute_result",
          "data": {
            "text/plain": [
              "[1, 2, 3, 4, 5]"
            ]
          },
          "metadata": {},
          "execution_count": 67
        }
      ]
    },
    {
      "cell_type": "code",
      "source": [
        "b = [6, 7]\n",
        "a.extend(b)\n",
        "a\n",
        "\n",
        "# a.extend[6, 7]은 a += [6, 7]와 동일\n",
        "# a += [6, 7]은 a = a + [6, 7]과 동일한 표현식"
      ],
      "metadata": {
        "colab": {
          "base_uri": "https://localhost:8080/"
        },
        "id": "HTiwAEW2faFC",
        "outputId": "9613e146-2783-473a-9bc2-d9d92ea586bb"
      },
      "execution_count": 68,
      "outputs": [
        {
          "output_type": "execute_result",
          "data": {
            "text/plain": [
              "[1, 2, 3, 4, 5, 6, 7]"
            ]
          },
          "metadata": {},
          "execution_count": 68
        }
      ]
    }
  ]
}