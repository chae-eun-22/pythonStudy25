{
  "nbformat": 4,
  "nbformat_minor": 0,
  "metadata": {
    "colab": {
      "provenance": [],
      "authorship_tag": "ABX9TyMo/m+jidH1jglGPJY+JD6y",
      "include_colab_link": true
    },
    "kernelspec": {
      "name": "python3",
      "display_name": "Python 3"
    },
    "language_info": {
      "name": "python"
    }
  },
  "cells": [
    {
      "cell_type": "markdown",
      "metadata": {
        "id": "view-in-github",
        "colab_type": "text"
      },
      "source": [
        "<a href=\"https://colab.research.google.com/github/chae-eun-22/pythonStudy25/blob/master/FileInputOutpuiExam.ipynb\" target=\"_parent\"><img src=\"https://colab.research.google.com/assets/colab-badge.svg\" alt=\"Open In Colab\"/></a>"
      ]
    },
    {
      "cell_type": "code",
      "execution_count": null,
      "metadata": {
        "id": "F5k5QT9PFUSt"
      },
      "outputs": [],
      "source": [
        "# 파이썬은 파일을 이용해서 읽고 쓰기가 가능하다.\n",
        "# 과거에는 메모장으로 만든 텍스트 파일을 사용했었는데\n",
        "# 최근에는 엑셀로 만든 csv 파일을 활용하기도 한다.\n",
        "# 코렙은 리눅스 가상머신을 활용하고 있다.\n",
        "# 왼쪽에 폴더 아이콘을 선택하면 리눅스 커널이 보인다.\n",
        "# ..을 누르면 상위 폴더로 간다.\n",
        "# 대부분 우리는 content라는 폴더에 데이터를 활용한다.\n",
        "\n",
        "# 파일을 열고 사용하려면 open() 함수를 활용한다.\n",
        "# 파일객체 = open(파일이름, 모드)\n",
        "#                           r = 읽기 전용\n",
        "#                           w = 쓰기 가능(처음부터 덮어씀)\n",
        "#                           a = 추가 기능(아래에 추가기능)\n",
        "# 주의사항 : 파일을 열고 처리후 마지막에는 .close() 필수\n",
        "# 파일경로 (위치정보)는 / 슬래시를 활용\n",
        "# 간혹 c:\\user\\kkw\\test.csv 이런 파일을 열고 싶으면???\n",
        "# c:\\\\user\\\\kkw\\\\test.csv 처럼 \\\\을 써야 \\로 인식한다. (이스케이프)\n",
        "# c:/user/kkw/test.csv로 사용함."
      ]
    },
    {
      "cell_type": "code",
      "source": [
        "f = open(\"새파일.txt\", \"w\")\n",
        "for i in range(1,11):   # 1~10까지 반복하며 i에 넣은\n",
        "    data = \"%d 번째 줄입니다. \\n\" % i   # i 값을 활용하여 텍스트에 기록\n",
        "    f.write(data)       # 위에서 만든 문자열을 파일에 기록\n",
        "f.close()               # 작업한 파일을 닫음."
      ],
      "metadata": {
        "id": "UKTo6BeTNhZm"
      },
      "execution_count": 2,
      "outputs": []
    },
    {
      "cell_type": "code",
      "source": [
        "# readline_test.py\n",
        "f = open(\"새파일.txt\", 'r')\n",
        "line = f.readline()\n",
        "print(line)\n",
        "f.close()"
      ],
      "metadata": {
        "colab": {
          "base_uri": "https://localhost:8080/"
        },
        "id": "5JEeoGobNemX",
        "outputId": "38f6f7bb-0524-4047-8f14-af0f231bc916"
      },
      "execution_count": 10,
      "outputs": [
        {
          "output_type": "stream",
          "name": "stdout",
          "text": [
            "1 번째 줄입니다. \n",
            "\n"
          ]
        }
      ]
    },
    {
      "cell_type": "code",
      "source": [
        "# readline_all.py\n",
        "f = open(\"새파일.txt\", 'r')\n",
        "while True:\n",
        "    line = f.readline()\n",
        "    if not line: break\n",
        "    print(line)\n",
        "f.close()"
      ],
      "metadata": {
        "colab": {
          "base_uri": "https://localhost:8080/"
        },
        "id": "31FHx18vTlO4",
        "outputId": "d25fed8d-12a1-4689-ecb7-d3260723d61b"
      },
      "execution_count": 12,
      "outputs": [
        {
          "output_type": "stream",
          "name": "stdout",
          "text": [
            "1 번째 줄입니다. \n",
            "\n",
            "2 번째 줄입니다. \n",
            "\n",
            "3 번째 줄입니다. \n",
            "\n",
            "4 번째 줄입니다. \n",
            "\n",
            "5 번째 줄입니다. \n",
            "\n",
            "6 번째 줄입니다. \n",
            "\n",
            "7 번째 줄입니다. \n",
            "\n",
            "8 번째 줄입니다. \n",
            "\n",
            "9 번째 줄입니다. \n",
            "\n",
            "10 번째 줄입니다. \n",
            "\n"
          ]
        }
      ]
    },
    {
      "cell_type": "code",
      "source": [
        "while True:\n",
        "    data = input()\n",
        "    if not data: break\n",
        "    print(data)"
      ],
      "metadata": {
        "colab": {
          "base_uri": "https://localhost:8080/",
          "height": 355
        },
        "id": "6sdkxQ05ULTx",
        "outputId": "3084d533-e8e7-4321-ee9e-bf8bde438871"
      },
      "execution_count": 17,
      "outputs": [
        {
          "output_type": "error",
          "ename": "KeyboardInterrupt",
          "evalue": "Interrupted by user",
          "traceback": [
            "\u001b[0;31m---------------------------------------------------------------------------\u001b[0m",
            "\u001b[0;31mKeyboardInterrupt\u001b[0m                         Traceback (most recent call last)",
            "\u001b[0;32m<ipython-input-17-f07bcad14889>\u001b[0m in \u001b[0;36m<cell line: 0>\u001b[0;34m()\u001b[0m\n\u001b[1;32m      1\u001b[0m \u001b[0;32mwhile\u001b[0m \u001b[0;32mTrue\u001b[0m\u001b[0;34m:\u001b[0m\u001b[0;34m\u001b[0m\u001b[0;34m\u001b[0m\u001b[0m\n\u001b[0;32m----> 2\u001b[0;31m     \u001b[0mdata\u001b[0m \u001b[0;34m=\u001b[0m \u001b[0minput\u001b[0m\u001b[0;34m(\u001b[0m\u001b[0;34m)\u001b[0m\u001b[0;34m\u001b[0m\u001b[0;34m\u001b[0m\u001b[0m\n\u001b[0m\u001b[1;32m      3\u001b[0m     \u001b[0;32mif\u001b[0m \u001b[0;32mnot\u001b[0m \u001b[0mdata\u001b[0m\u001b[0;34m:\u001b[0m \u001b[0;32mbreak\u001b[0m\u001b[0;34m\u001b[0m\u001b[0;34m\u001b[0m\u001b[0m\n\u001b[1;32m      4\u001b[0m     \u001b[0mprint\u001b[0m\u001b[0;34m(\u001b[0m\u001b[0mdata\u001b[0m\u001b[0;34m)\u001b[0m\u001b[0;34m\u001b[0m\u001b[0;34m\u001b[0m\u001b[0m\n",
            "\u001b[0;32m/usr/local/lib/python3.11/dist-packages/ipykernel/kernelbase.py\u001b[0m in \u001b[0;36mraw_input\u001b[0;34m(self, prompt)\u001b[0m\n\u001b[1;32m   1175\u001b[0m                 \u001b[0;34m\"raw_input was called, but this frontend does not support input requests.\"\u001b[0m\u001b[0;34m\u001b[0m\u001b[0;34m\u001b[0m\u001b[0m\n\u001b[1;32m   1176\u001b[0m             )\n\u001b[0;32m-> 1177\u001b[0;31m         return self._input_request(\n\u001b[0m\u001b[1;32m   1178\u001b[0m             \u001b[0mstr\u001b[0m\u001b[0;34m(\u001b[0m\u001b[0mprompt\u001b[0m\u001b[0;34m)\u001b[0m\u001b[0;34m,\u001b[0m\u001b[0;34m\u001b[0m\u001b[0;34m\u001b[0m\u001b[0m\n\u001b[1;32m   1179\u001b[0m             \u001b[0mself\u001b[0m\u001b[0;34m.\u001b[0m\u001b[0m_parent_ident\u001b[0m\u001b[0;34m[\u001b[0m\u001b[0;34m\"shell\"\u001b[0m\u001b[0;34m]\u001b[0m\u001b[0;34m,\u001b[0m\u001b[0;34m\u001b[0m\u001b[0;34m\u001b[0m\u001b[0m\n",
            "\u001b[0;32m/usr/local/lib/python3.11/dist-packages/ipykernel/kernelbase.py\u001b[0m in \u001b[0;36m_input_request\u001b[0;34m(self, prompt, ident, parent, password)\u001b[0m\n\u001b[1;32m   1217\u001b[0m             \u001b[0;32mexcept\u001b[0m \u001b[0mKeyboardInterrupt\u001b[0m\u001b[0;34m:\u001b[0m\u001b[0;34m\u001b[0m\u001b[0;34m\u001b[0m\u001b[0m\n\u001b[1;32m   1218\u001b[0m                 \u001b[0;31m# re-raise KeyboardInterrupt, to truncate traceback\u001b[0m\u001b[0;34m\u001b[0m\u001b[0;34m\u001b[0m\u001b[0m\n\u001b[0;32m-> 1219\u001b[0;31m                 \u001b[0;32mraise\u001b[0m \u001b[0mKeyboardInterrupt\u001b[0m\u001b[0;34m(\u001b[0m\u001b[0;34m\"Interrupted by user\"\u001b[0m\u001b[0;34m)\u001b[0m \u001b[0;32mfrom\u001b[0m \u001b[0;32mNone\u001b[0m\u001b[0;34m\u001b[0m\u001b[0;34m\u001b[0m\u001b[0m\n\u001b[0m\u001b[1;32m   1220\u001b[0m             \u001b[0;32mexcept\u001b[0m \u001b[0mException\u001b[0m\u001b[0;34m:\u001b[0m\u001b[0;34m\u001b[0m\u001b[0;34m\u001b[0m\u001b[0m\n\u001b[1;32m   1221\u001b[0m                 \u001b[0mself\u001b[0m\u001b[0;34m.\u001b[0m\u001b[0mlog\u001b[0m\u001b[0;34m.\u001b[0m\u001b[0mwarning\u001b[0m\u001b[0;34m(\u001b[0m\u001b[0;34m\"Invalid Message:\"\u001b[0m\u001b[0;34m,\u001b[0m \u001b[0mexc_info\u001b[0m\u001b[0;34m=\u001b[0m\u001b[0;32mTrue\u001b[0m\u001b[0;34m)\u001b[0m\u001b[0;34m\u001b[0m\u001b[0;34m\u001b[0m\u001b[0m\n",
            "\u001b[0;31mKeyboardInterrupt\u001b[0m: Interrupted by user"
          ]
        }
      ]
    },
    {
      "cell_type": "code",
      "source": [
        "# readlines 함수 사용하기\n",
        "\n",
        "#readlines.py\n",
        "f = open(\"새파일.txt\", 'r')\n",
        "lines = f.readlines()\n",
        "for line in lines:\n",
        "    print(line)\n",
        "f.close()"
      ],
      "metadata": {
        "colab": {
          "base_uri": "https://localhost:8080/"
        },
        "id": "MogPRXliUgGA",
        "outputId": "f6f53733-2723-4956-9231-0b6d9cd364e4"
      },
      "execution_count": 16,
      "outputs": [
        {
          "output_type": "stream",
          "name": "stdout",
          "text": [
            "1 번째 줄입니다. \n",
            "\n",
            "2 번째 줄입니다. \n",
            "\n",
            "3 번째 줄입니다. \n",
            "\n",
            "4 번째 줄입니다. \n",
            "\n",
            "5 번째 줄입니다. \n",
            "\n",
            "6 번째 줄입니다. \n",
            "\n",
            "7 번째 줄입니다. \n",
            "\n",
            "8 번째 줄입니다. \n",
            "\n",
            "9 번째 줄입니다. \n",
            "\n",
            "10 번째 줄입니다. \n",
            "\n"
          ]
        }
      ]
    },
    {
      "cell_type": "code",
      "source": [
        "f = open(\"새파일.txt\", 'r')\n",
        "lines = f.readlines()\n",
        "for line in lines:\n",
        "    line = line.strip()     # 줄 끝의 줄 바꿈 문자를 제거\n",
        "    print(line)\n",
        "f.close()"
      ],
      "metadata": {
        "colab": {
          "base_uri": "https://localhost:8080/"
        },
        "id": "F6HTiXv6VBFx",
        "outputId": "7da1f2d2-6324-40e5-a1bc-a9df791cfd82"
      },
      "execution_count": 18,
      "outputs": [
        {
          "output_type": "stream",
          "name": "stdout",
          "text": [
            "1 번째 줄입니다.\n",
            "2 번째 줄입니다.\n",
            "3 번째 줄입니다.\n",
            "4 번째 줄입니다.\n",
            "5 번째 줄입니다.\n",
            "6 번째 줄입니다.\n",
            "7 번째 줄입니다.\n",
            "8 번째 줄입니다.\n",
            "9 번째 줄입니다.\n",
            "10 번째 줄입니다.\n"
          ]
        }
      ]
    },
    {
      "cell_type": "code",
      "source": [
        "# read 함수 사용하기\n",
        "# read.py\n",
        "f = open(\"새파일.txt\", 'r')\n",
        "data = f.read()\n",
        "print(data)\n",
        "f.close()"
      ],
      "metadata": {
        "colab": {
          "base_uri": "https://localhost:8080/"
        },
        "id": "Epc2_ZU_VqSR",
        "outputId": "b9775fb2-50ca-4a87-d3dd-272946ba8de3"
      },
      "execution_count": 19,
      "outputs": [
        {
          "output_type": "stream",
          "name": "stdout",
          "text": [
            "1 번째 줄입니다. \n",
            "2 번째 줄입니다. \n",
            "3 번째 줄입니다. \n",
            "4 번째 줄입니다. \n",
            "5 번째 줄입니다. \n",
            "6 번째 줄입니다. \n",
            "7 번째 줄입니다. \n",
            "8 번째 줄입니다. \n",
            "9 번째 줄입니다. \n",
            "10 번째 줄입니다. \n",
            "\n"
          ]
        }
      ]
    },
    {
      "cell_type": "code",
      "source": [
        "# 파일 객체를 for 문과 함께 사용하기\n",
        "#read_for.py\n",
        "f = open(\"새파일.txt\", 'r')\n",
        "for line in f:\n",
        "    print(line)\n",
        "f.close()"
      ],
      "metadata": {
        "colab": {
          "base_uri": "https://localhost:8080/"
        },
        "id": "INyK_DZ1V2QZ",
        "outputId": "03829ac3-3925-4443-c9df-a6dde72d3683"
      },
      "execution_count": 20,
      "outputs": [
        {
          "output_type": "stream",
          "name": "stdout",
          "text": [
            "1 번째 줄입니다. \n",
            "\n",
            "2 번째 줄입니다. \n",
            "\n",
            "3 번째 줄입니다. \n",
            "\n",
            "4 번째 줄입니다. \n",
            "\n",
            "5 번째 줄입니다. \n",
            "\n",
            "6 번째 줄입니다. \n",
            "\n",
            "7 번째 줄입니다. \n",
            "\n",
            "8 번째 줄입니다. \n",
            "\n",
            "9 번째 줄입니다. \n",
            "\n",
            "10 번째 줄입니다. \n",
            "\n"
          ]
        }
      ]
    },
    {
      "cell_type": "code",
      "source": [
        "# 파일에 새로운 내용 추가하기\n",
        "# add_data.py\n",
        "f = open(\"새파일.txt\", 'a')\n",
        "for i in range(11, 20):\n",
        "    data = \"%d번째 줄입니다.\\n\" % i\n",
        "    f.write(data)\n",
        "f.close()"
      ],
      "metadata": {
        "id": "YozgvMFfWEgJ"
      },
      "execution_count": 21,
      "outputs": []
    },
    {
      "cell_type": "code",
      "source": [
        "# with 문과 함께 사용하기\n",
        "\n",
        "f = open(\"foo.txt\", 'w')\n",
        "f.write(\"Life is too short, you need python\")\n",
        "f.close()"
      ],
      "metadata": {
        "id": "D1KzmLNnWW_5"
      },
      "execution_count": 25,
      "outputs": []
    }
  ]
}