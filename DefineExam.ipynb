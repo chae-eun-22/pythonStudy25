{
  "nbformat": 4,
  "nbformat_minor": 0,
  "metadata": {
    "colab": {
      "provenance": [],
      "authorship_tag": "ABX9TyPT0BV5BwT9F18d8A3c5GJt",
      "include_colab_link": true
    },
    "kernelspec": {
      "name": "python3",
      "display_name": "Python 3"
    },
    "language_info": {
      "name": "python"
    }
  },
  "cells": [
    {
      "cell_type": "markdown",
      "metadata": {
        "id": "view-in-github",
        "colab_type": "text"
      },
      "source": [
        "<a href=\"https://colab.research.google.com/github/chae-eun-22/pythonStudy25/blob/master/DefineExam.ipynb\" target=\"_parent\"><img src=\"https://colab.research.google.com/assets/colab-badge.svg\" alt=\"Open In Colab\"/></a>"
      ]
    },
    {
      "cell_type": "code",
      "execution_count": 1,
      "metadata": {
        "colab": {
          "base_uri": "https://localhost:8080/"
        },
        "id": "eFhDe3a1p4BA",
        "outputId": "6ca95422-2593-4fce-b26d-800b2eadf8c7"
      },
      "outputs": [
        {
          "output_type": "stream",
          "name": "stdout",
          "text": [
            "7\n"
          ]
        }
      ],
      "source": [
        "# def는 함수나 메서드를 정의하는 문법이다.\n",
        "# 매개변수, 파라미터, 입력값\n",
        "\n",
        "# def 이름 (매개변수1, 매개변수2) :\n",
        "# 들여쓰기 실행문\n",
        "# 들여쓰기 return null | 값\n",
        "\n",
        "# 함수나 메서드는 반복적으로 수행되는 문을 따로 정의해 놓음\n",
        "# 정의를 먼저하고 나중에 호출하여 사용한다.\n",
        "# 호출할때는 . 을 이용하여 이름을 불러오면 활용 가능함.\n",
        "\n",
        "a = 3\n",
        "b = 4\n",
        "c = a + b\n",
        "print(c)"
      ]
    },
    {
      "cell_type": "code",
      "source": [
        "# 위 코드를 함수로 변경한다.\n",
        "\n",
        "# 정의\n",
        "def add (a, b):     # add 함수 이름을 만들고 입력은 2개를 받는다.\n",
        "    z = a + b\n",
        "    return z        # add 함수 정의 종료\n",
        "\n",
        "# 활용\n",
        "total = add(4,5)\n",
        "print(total)"
      ],
      "metadata": {
        "colab": {
          "base_uri": "https://localhost:8080/"
        },
        "id": "T-cycJoNq4c3",
        "outputId": "13f95f8e-a1d7-419e-9752-3988386adc29"
      },
      "execution_count": 2,
      "outputs": [
        {
          "output_type": "stream",
          "name": "stdout",
          "text": [
            "9\n"
          ]
        }
      ]
    },
    {
      "cell_type": "code",
      "source": [
        "add = lambda a, b: a+b\n",
        "result = add(3, 4)\n",
        "print(result)\n",
        "\n",
        "# lambda로 만든 함수는 return 명령어가 없어도 표현식의 결괏값을 리턴한다."
      ],
      "metadata": {
        "colab": {
          "base_uri": "https://localhost:8080/"
        },
        "id": "KxQMPxUTy-Rw",
        "outputId": "77896dc4-886a-4c9b-eda2-9908fb1e44d1"
      },
      "execution_count": 4,
      "outputs": [
        {
          "output_type": "stream",
          "name": "stdout",
          "text": [
            "7\n"
          ]
        }
      ]
    },
    {
      "cell_type": "code",
      "source": [
        "# add는 2개의 인수를 받아 서로 더한 값을 리턴하는 lambda 함수\n",
        "def add (a, b):\n",
        "    return a+b\n",
        "\n",
        "result = add(3, 4)\n",
        "print(result)"
      ],
      "metadata": {
        "colab": {
          "base_uri": "https://localhost:8080/"
        },
        "id": "vApcsnDevZmo",
        "outputId": "41fe8d58-d28a-4a1b-c9f8-3525909aba4e"
      },
      "execution_count": 3,
      "outputs": [
        {
          "output_type": "stream",
          "name": "stdout",
          "text": [
            "7\n"
          ]
        }
      ]
    }
  ]
}