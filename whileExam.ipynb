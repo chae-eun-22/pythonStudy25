{
  "nbformat": 4,
  "nbformat_minor": 0,
  "metadata": {
    "colab": {
      "provenance": [],
      "authorship_tag": "ABX9TyMvFTypjNCaWgqDMiLBX4BX",
      "include_colab_link": true
    },
    "kernelspec": {
      "name": "python3",
      "display_name": "Python 3"
    },
    "language_info": {
      "name": "python"
    }
  },
  "cells": [
    {
      "cell_type": "markdown",
      "metadata": {
        "id": "view-in-github",
        "colab_type": "text"
      },
      "source": [
        "<a href=\"https://colab.research.google.com/github/chae-eun-22/pythonStudy25/blob/master/whileExam.ipynb\" target=\"_parent\"><img src=\"https://colab.research.google.com/assets/colab-badge.svg\" alt=\"Open In Colab\"/></a>"
      ]
    },
    {
      "cell_type": "code",
      "execution_count": 2,
      "metadata": {
        "colab": {
          "base_uri": "https://localhost:8080/"
        },
        "collapsed": true,
        "id": "JEmlwwGEoiir",
        "outputId": "946e077a-cf74-4ff5-b10c-009b03b4f34a"
      },
      "outputs": [
        {
          "output_type": "stream",
          "name": "stdout",
          "text": [
            "\n",
            "    1. 성적추가\n",
            "    2. 성적확인\n",
            "    3. 성적수정\n",
            "    4. 성적삭제\n",
            "    5. 프로그램 종료\n",
            "    \n",
            "    Enter number(1~5) : \n",
            "번호 입력 : 1\n",
            "성적을 입력합니다.\n",
            "\n",
            "    1. 성적추가\n",
            "    2. 성적확인\n",
            "    3. 성적수정\n",
            "    4. 성적삭제\n",
            "    5. 프로그램 종료\n",
            "    \n",
            "    Enter number(1~5) : \n",
            "번호 입력 : 2\n",
            "성적을 확인합니다.\n",
            "\n",
            "    1. 성적추가\n",
            "    2. 성적확인\n",
            "    3. 성적수정\n",
            "    4. 성적삭제\n",
            "    5. 프로그램 종료\n",
            "    \n",
            "    Enter number(1~5) : \n",
            "번호 입력 : 3\n",
            "성적을 수정합니다.\n",
            "\n",
            "    1. 성적추가\n",
            "    2. 성적확인\n",
            "    3. 성적수정\n",
            "    4. 성적삭제\n",
            "    5. 프로그램 종료\n",
            "    \n",
            "    Enter number(1~5) : \n",
            "번호 입력 : 4\n",
            "성적을 삭제합니다.\n",
            "\n",
            "    1. 성적추가\n",
            "    2. 성적확인\n",
            "    3. 성적수정\n",
            "    4. 성적삭제\n",
            "    5. 프로그램 종료\n",
            "    \n",
            "    Enter number(1~5) : \n",
            "번호 입력 : 5\n",
            "프로그램을 종료합니다.\n"
          ]
        }
      ],
      "source": [
        "from os import sendfile\n",
        "# 1회용이 아닌 반복문을 활용해서 성적 처리 프로그램을 만들어 보자.\n",
        "# 성적의 CRUD를 구현한다.\n",
        "# 1번 메뉴를 선택하면 성적을 입력한다.\n",
        "# 2번 메뉴를 선택하면 성적을 확인한다.\n",
        "# 3번 메뉴를 선택하면 성적을 수정한다.\n",
        "# 4번 메뉴를 선택하면 성적을 삭제한다.\n",
        "# 5번 메뉴를 선택하면 프로그램을 종료한다.\n",
        "\n",
        "run = True  #while문의 반복을 처리하기 위함 False로 바뀌면 반복을 종료\n",
        "while run :\n",
        "    prompt = \"\"\"\n",
        "    1. 성적추가\n",
        "    2. 성적확인\n",
        "    3. 성적수정\n",
        "    4. 성적삭제\n",
        "    5. 프로그램 종료\n",
        "\n",
        "    Enter number(1~5) : \"\"\"\n",
        "    print(prompt)\n",
        "\n",
        "    select = int(input(\"번호 입력 : \"))\n",
        "    if select == 1 :\n",
        "        print(\"성적을 입력합니다.\")\n",
        "    elif select == 2 :\n",
        "        print(\"성적을 확인합니다.\")\n",
        "    elif select == 3 :\n",
        "        print(\"성적을 수정합니다.\")\n",
        "    elif select == 4 :\n",
        "        print(\"성적을 삭제합니다.\")\n",
        "    elif select == 5 :\n",
        "        print(\"프로그램을 종료합니다.\")\n",
        "        run = False"
      ]
    },
    {
      "cell_type": "code",
      "source": [
        "# 웅용하기\n",
        "# 1번 메뉴를 선택하면 아이디를 입력한다.\n",
        "# 2번 메뉴를 선택하면 비밀번호를 입력한다.\n",
        "# 3번 메뉴를 선택하면 비밀번호를 수정한다.\n",
        "# 4번 메뉴를 선택하면 아이디를 삭제한다.\n",
        "# 5번 메뉴를 선택하면 프로그램을 종료한다.\n",
        "\n",
        "run = True\n",
        "while run :\n",
        "    print(\"=\" *50)\n",
        "    prompt = \"\"\"\n",
        "    1. 아이디를 입력합니다.\n",
        "    2. 비밀번호를 입력합니다.\n",
        "    3. 비밀번호를 수정합니다.\n",
        "    4. 아이디를 삭제합니다.\n",
        "    5. 프로그램을 종료합니다.\n",
        "\n",
        "    Enter number(1~5) : \"\"\"\n",
        "    print(prompt)\n",
        "\n",
        "    select = int(input(\"번호를 입력하세요. :\"))\n",
        "    if select == 1 :\n",
        "        print(\"아이디를 입력합니다.\")\n",
        "        input(\"아이디를 입력하세요\")\n",
        "    elif select == 2 :\n",
        "        print(\"비밀번호를 입력합니다.\")\n",
        "        input(\"비밀번호를 입력하세요.\")\n",
        "    elif select == 3 :\n",
        "        print(\"비밀번호를 수정하시겠습니까?\")\n",
        "        password = input(\"수정:Yes, \\t 아니요:No : \")\n",
        "        if password == \"Yes\" :\n",
        "            input(\"새로운 비밀번호를 입력하세요. :\")\n",
        "    elif select == 4 :\n",
        "        print(\"아이디를 삭제하시겠습니까?\")\n",
        "        id = input(\"삭제:Yes,  \\t 아니요:No : \")\n",
        "        if id == \"Yes\" :\n",
        "            print(\"아이디가 삭제되었습니다.\")\n",
        "    elif select == 5 :\n",
        "        print(\"프로그램을 종료합니다.\")\n",
        "        run = False"
      ],
      "metadata": {
        "colab": {
          "base_uri": "https://localhost:8080/"
        },
        "id": "Wvjd39iSsSYl",
        "outputId": "82435288-097a-4686-9b60-fa9a12f61dc7"
      },
      "execution_count": null,
      "outputs": [
        {
          "metadata": {
            "tags": null
          },
          "name": "stdout",
          "output_type": "stream",
          "text": [
            "==================================================\n",
            "\n",
            "    1. 아이디를 입력합니다.\n",
            "    2. 비밀번호를 입력합니다.\n",
            "    3. 비밀번호를 수정합니다.\n",
            "    4. 아이디를 삭제합니다.\n",
            "    5. 프로그램을 종료합니다.\n",
            "\n",
            "    Enter number(1~5) : \n",
            "아이디를 삭제하시겠습니까?\n",
            "==================================================\n",
            "\n",
            "    1. 아이디를 입력합니다.\n",
            "    2. 비밀번호를 입력합니다.\n",
            "    3. 비밀번호를 수정합니다.\n",
            "    4. 아이디를 삭제합니다.\n",
            "    5. 프로그램을 종료합니다.\n",
            "\n",
            "    Enter number(1~5) : \n",
            "아이디를 삭제하시겠습니까?\n",
            "아이디가 삭제되었습니다.\n",
            "==================================================\n",
            "\n",
            "    1. 아이디를 입력합니다.\n",
            "    2. 비밀번호를 입력합니다.\n",
            "    3. 비밀번호를 수정합니다.\n",
            "    4. 아이디를 삭제합니다.\n",
            "    5. 프로그램을 종료합니다.\n",
            "\n",
            "    Enter number(1~5) : \n",
            "아이디를 삭제하시겠습니까?\n",
            "==================================================\n",
            "\n",
            "    1. 아이디를 입력합니다.\n",
            "    2. 비밀번호를 입력합니다.\n",
            "    3. 비밀번호를 수정합니다.\n",
            "    4. 아이디를 삭제합니다.\n",
            "    5. 프로그램을 종료합니다.\n",
            "\n",
            "    Enter number(1~5) : \n"
          ]
        }
      ]
    }
  ]
}