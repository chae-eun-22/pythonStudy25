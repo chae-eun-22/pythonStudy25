{
  "nbformat": 4,
  "nbformat_minor": 0,
  "metadata": {
    "colab": {
      "provenance": [],
      "authorship_tag": "ABX9TyOupQuro/C5dogAUh4qbH3x",
      "include_colab_link": true
    },
    "kernelspec": {
      "name": "python3",
      "display_name": "Python 3"
    },
    "language_info": {
      "name": "python"
    }
  },
  "cells": [
    {
      "cell_type": "markdown",
      "metadata": {
        "id": "view-in-github",
        "colab_type": "text"
      },
      "source": [
        "<a href=\"https://colab.research.google.com/github/chae-eun-22/pythonStudy25/blob/master/ScoreExam.ipynb\" target=\"_parent\"><img src=\"https://colab.research.google.com/assets/colab-badge.svg\" alt=\"Open In Colab\"/></a>"
      ]
    },
    {
      "cell_type": "code",
      "execution_count": 28,
      "metadata": {
        "colab": {
          "base_uri": "https://localhost:8080/"
        },
        "id": "kIvhiX9ZO3Vi",
        "outputId": "dd5a0562-c1c6-444a-899e-33cd00f825da"
      },
      "outputs": [
        {
          "output_type": "stream",
          "name": "stdout",
          "text": [
            "============================================================\n",
            "개인정보를 입력하세요!!!\n",
            "이름 : ff4\n",
            "나이 : 56\n",
            "주소 : gdf\n",
            "============================================================\n",
            "ff4님 환영합니다.\n",
            "============================================================\n",
            "ff4님의 성적을 입력하세요.\n",
            "국어성적 : 66\n",
            "영어성적 : 77\n",
            "수학성적 : 88\n",
            "파이썬성적 : 99\n",
            "============================================================\n",
            "성적을 확인합니다.\n",
            "국어 : 66 \t 영어 : 77 \t 수학 : 88 \t 파이썬 : 99 \t\n",
            "============================================================\n",
            "입력하신 정보를 수정할까요?\n",
            "수정:y, \t 아니요:n : n\n",
            "============================================================\n",
            "총점과 평균을 출력할까요?\n",
            "출력:y, \t 아니요:n : y\n",
            "============================================================\n",
            "ff4님의 총점은 330, 평균은 82.500000입니다.\n",
            "============================================================\n",
            "ff4님의 등급을 출력할까요?\n",
            "출력:y, \t 아니요:n : n\n",
            "============================================================\n",
            "============================================================\n",
            "성적 처리 프로그램을 종료합니다.\n"
          ]
        }
      ],
      "source": [
        "# 성적 처리용 프로그램을 만들어본다.\n",
        "# 1. 키보드로 개인정보를 입력 받는다.\n",
        "# 2. 키보드로 성적을 입력 받는다. (국어, 영어, 수학, 파이썬)\n",
        "# 3. 입력된 정보를 확인한다. -> 잘못된 정보를 수정한다.\n",
        "# 4. 통계를 만들어 출력한다.\n",
        "# 5. 등급을 출력하고 종료한다.\n",
        "\n",
        "print(\"=\"*60)\n",
        "print(\"개인정보를 입력하세요!!!\")\n",
        "name = input(\"이름 : \")\n",
        "age = input(\"나이 : \")\n",
        "add = input(\"주소 : \")\n",
        "print(\"=\"*60)\n",
        "print(\"%s님 환영합니다.\" % name)\n",
        "print(\"=\"*60)\n",
        "print(\"%s님의 성적을 입력하세요.\" % name)\n",
        "kor = int(input(\"국어성적 : \"))\n",
        "eng = int(input(\"영어성적 : \"))\n",
        "mat = int(input(\"수학성적 : \"))\n",
        "pyt = int(input(\"파이썬성적 : \"))\n",
        "print(\"=\"*60)\n",
        "print(\"성적을 확인합니다.\")\n",
        "print(\"국어 : %d \\t 영어 : %d \\t 수학 : %d \\t 파이썬 : %d \\t\" % (kor, eng, mat, pyt))\n",
        "print(\"=\"*60)\n",
        "print(\"입력하신 정보를 수정할까요?\")\n",
        "modi = input(\"수정:y, \\t 아니요:n : \")\n",
        "if modi == \"y\" :\n",
        "    print(\"성적 수정을 진행합니다.\")\n",
        "    kor = int(input(\"국어성적 : \"))\n",
        "    eng = int(input(\"영어성적 : \"))\n",
        "    mat = int(input(\"수학성적 : \"))\n",
        "    pyt = int(input(\"파이썬성적 : \"))\n",
        "    print(\"성적이 수정되었습니다.\")\n",
        "    print(\"국어 : %d \\t 영어 : %d \\t 수학 : %d \\t 파이썬 : %d \\t\" % (kor, eng, mat, pyt))\n",
        "total = kor + eng + mat + pyt\n",
        "ave = total / 4\n",
        "print(\"=\"*60)\n",
        "print(\"총점과 평균을 출력할까요?\")\n",
        "que = input(\"출력:y, \\t 아니요:n : \")\n",
        "print(\"=\"*60)\n",
        "if que == \"y\" :\n",
        "    print(\"%s님의 총점은 %d, 평균은 %f입니다.\" % (name, total, ave))\n",
        "\n",
        "print(\"=\"*60)\n",
        "print(\"%s님의 등급을 출력할까요?\" % name)\n",
        "que1 = input(\"출력:y, \\t 아니요:n : \")\n",
        "print(\"=\"*60)\n",
        "if que1 == \"y\" :\n",
        "    if ave >= 90 :  #평균이 90점 이상이면 a등급\n",
        "        grade = \"A\"\n",
        "    elif ave >= 80 :\n",
        "        grade = \"B\"\n",
        "    elif ave >= 70 :\n",
        "        grade = \"C\"\n",
        "    elif ave >= 60 :\n",
        "        grade = \"D\"\n",
        "    else :\n",
        "        grade = \"F\"\n",
        "\n",
        "    print(\"등급을 출력합니다.\")\n",
        "    print(\"%s님의 등급은 %s입니다.\" % (name, grade))\n",
        "\n",
        "print(\"=\"*60)\n",
        "print(\"성적 처리 프로그램을 종료합니다.\")"
      ]
    },
    {
      "cell_type": "code",
      "source": [
        "print(\"=\"*60)\n",
        "print(\"닉네임을 입력하세요.\")\n",
        "name = input(\"닉네임 : \")\n",
        "if name == \"지금출발해\" :\n",
        "    item = 1682.5\n",
        "    mococo = 1469\n",
        "    print(\"%s님의 아이템 레벨은 %d, 모코코 개수는 %d개입니다.\" % (name, item, mococo))\n",
        "if name == \"싫어오지마\" :\n",
        "    item = 1680\n",
        "    mococo = 1400\n",
        "    print(\"%s님의 아이템 레벨은 %d, 모코코 개수는 %d개입니다.\" % (name, item, mococo))\n",
        "else :\n",
        "    print(\"없는 닉네임입니다.\")\n",
        "print(\"=\"*60)"
      ],
      "metadata": {
        "colab": {
          "base_uri": "https://localhost:8080/"
        },
        "id": "Raj6As4iSmPH",
        "outputId": "5f9c849e-c33d-477f-c7e9-8870420ac308"
      },
      "execution_count": 78,
      "outputs": [
        {
          "output_type": "stream",
          "name": "stdout",
          "text": [
            "============================================================\n",
            "닉네임을 입력하세요.\n",
            "닉네임 : 지금출발해\n",
            "지금출발해님의 아이템 레벨은 1682, 모코코 개수는 1469개입니다.\n",
            "없는 닉네임입니다.\n",
            "============================================================\n"
          ]
        }
      ]
    }
  ]
}